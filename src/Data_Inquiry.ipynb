{
 "cells": [
  {
   "metadata": {},
   "cell_type": "markdown",
   "source": "From here I'm using the Toppic all prsm file as a 'hit report', and matching which file names and according scan number are in td_auditor topFD by msn, and adding a column of whether it hits or not ",
   "id": "916ac8bde024a926"
  },
  {
   "cell_type": "code",
   "id": "c5d292e1cea5b16e",
   "metadata": {
    "ExecuteTime": {
     "end_time": "2025-05-04T12:46:36.549430Z",
     "start_time": "2025-05-04T12:45:28.858500Z"
    }
   },
   "source": [
    "import pandas as pd\n",
    "\n",
    "\n",
    "# Load the dataset\n",
    "file_path = \"20241108-1551-TopPIC-FullDB-all_prsm_single.tsv\"  # Update with correct file path\n",
    "df_prsm_hit_topfd = pd.read_csv(file_path, sep=\"\\t\", skiprows=43, engine=\"python\", dtype=str)\n",
    "\n",
    "# Check the first few rows to ensure it loaded correctly\n",
    "print(df_prsm_hit_topfd.head())\n",
    "\n",
    "\n",
    "\n"
   ],
   "execution_count": 6,
   "outputs": []
  },
  {
   "metadata": {
    "ExecuteTime": {
     "end_time": "2025-05-04T12:44:33.059453Z",
     "start_time": "2025-05-04T12:44:29.424482Z"
    }
   },
   "cell_type": "code",
   "source": [
    "# Load the TDAuditor dataset\n",
    "tdauditor_file_path = \"/Users/user/PycharmProjects/TDAuditor/20250430-TDAuditor-TSVs-TopFD-FLASH-PSPDXtract/TDAuditor-TopFD-byMSn.tsv\"  # Update with actual path\n",
    "tdauditor_topfd = pd.read_csv(tdauditor_file_path, delimiter=\"\\t\")\n",
    "print(tdauditor_topfd.head())\n",
    "# Extract the filenames from TDAuditor\n",
    "tdauditor_filenames = set(tdauditor_topfd[\"SourceFile\"])  # Update column name\n",
    "print(len(tdauditor_filenames))"
   ],
   "id": "1ac90b6e596c6a0c",
   "execution_count": 4,
   "outputs": []
  },
  {
   "metadata": {
    "ExecuteTime": {
     "end_time": "2025-05-04T12:47:11.538111Z",
     "start_time": "2025-05-04T12:47:11.523291Z"
    }
   },
   "cell_type": "code",
   "source": "print(df_prsm_hit_topfd.columns)\n",
   "id": "fdd4338cadc4cae8",
   "execution_count": 7,
   "outputs": []
  },
  {
   "metadata": {
    "ExecuteTime": {
     "end_time": "2025-05-04T12:47:20.807586Z",
     "start_time": "2025-05-04T12:47:20.795984Z"
    }
   },
   "cell_type": "code",
   "source": [
    "def clean_filename(filename):\n",
    "    # Remove '_ms2.msalign'\n",
    "    filename = filename.replace(\"_ms2.msalign\", \"\")\n",
    "    \n",
    "    # Ensure the filename matches the closest TDAuditor entry\n",
    "    for tdauditor_file in tdauditor_filenames:\n",
    "        if tdauditor_file in filename:\n",
    "            return tdauditor_file  # Replace with the correct match\n",
    "    \n",
    "    return filename  # Return the cleaned filename if no match found\n"
   ],
   "id": "9eff981c6a39e064",
   "execution_count": 8,
   "outputs": []
  },
  {
   "metadata": {
    "ExecuteTime": {
     "end_time": "2025-05-04T12:47:53.836286Z",
     "start_time": "2025-05-04T12:47:34.554321Z"
    }
   },
   "cell_type": "code",
   "source": [
    "df_prsm_hit_topfd[\"Cleaned SourceFile\"] = df_prsm_hit_topfd[\"Data file name\"].apply(clean_filename)\n",
    "\n",
    "# Verify the changes\n",
    "#print(df_prsm_hit[\"Cleaned SourceFile\"].unique())\n"
   ],
   "id": "8ad297a46490508f",
   "execution_count": 9,
   "outputs": []
  },
  {
   "metadata": {
    "ExecuteTime": {
     "end_time": "2025-05-04T13:11:54.948755Z",
     "start_time": "2025-05-04T13:11:54.832342Z"
    }
   },
   "cell_type": "code",
   "source": [
    "unmatched_filenames = set(df_prsm_hit_topfd[\"Cleaned SourceFile\"]) - tdauditor_filenames\n",
    "print(\"Unmatched Filenames:\", unmatched_filenames)\n"
   ],
   "id": "47f39b0997894edc",
   "execution_count": 10,
   "outputs": []
  },
  {
   "metadata": {
    "ExecuteTime": {
     "end_time": "2025-05-04T13:21:45.301372Z",
     "start_time": "2025-05-04T13:21:07.740613Z"
    }
   },
   "cell_type": "code",
   "source": [
    "\n",
    "\n",
    "# Ensure scan numbers are treated as strings\n",
    "df_prsm_hit_topfd[\"Scan(s)\"] = df_prsm_hit_topfd[\"Scan(s)\"].astype(str)\n",
    "tdauditor_topfd[\"ScanNumber\"] = tdauditor_topfd[\"ScanNumber\"].astype(str)\n",
    "\n",
    "# Create a set of matching (SourceFile, Scan) pairs from df_prsm_hit\n",
    "matching_pairs = set(zip(df_prsm_hit_topfd[\"Cleaned SourceFile\"], df_prsm_hit_topfd[\"Scan(s)\"]))\n",
    "\n",
    "# Add the hit column to TDAuditor\n",
    "tdauditor_topfd[\"hit\"] = tdauditor_topfd.apply(\n",
    "    lambda row: 1 if (row[\"SourceFile\"], row[\"ScanNumber\"]) in matching_pairs else 0, \n",
    "    axis=1\n",
    ")\n",
    "\n",
    "# Save the updated file\n",
    "output_path = \"topfd_td_auditor_hit_column.tsv\"\n",
    "tdauditor_topfd.to_csv(output_path, sep=\"\\t\", index=False)\n",
    "\n",
    "# Print check\n",
    "print(tdauditor_topfd)"
   ],
   "id": "1f7a7413c406b148",
   "execution_count": 11,
   "outputs": []
  },
  {
   "metadata": {
    "ExecuteTime": {
     "end_time": "2025-03-11T13:11:01.976240Z",
     "start_time": "2025-03-11T13:11:01.943500Z"
    }
   },
   "cell_type": "code",
   "source": "print((tdauditor_topfd['hit'] == 1).sum())",
   "id": "9072cca81fbd7b95",
   "execution_count": 21,
   "outputs": []
  },
  {
   "metadata": {
    "ExecuteTime": {
     "end_time": "2025-03-11T13:11:17.403695Z",
     "start_time": "2025-03-11T13:11:17.384911Z"
    }
   },
   "cell_type": "code",
   "source": "print((tdauditor_topfd['hit'] == 0).sum())",
   "id": "61fba95f11b0dcee",
   "execution_count": 23,
   "outputs": []
  },
  {
   "metadata": {
    "ExecuteTime": {
     "end_time": "2025-03-11T13:11:49.978138Z",
     "start_time": "2025-03-11T13:11:49.862914Z"
    }
   },
   "cell_type": "code",
   "source": "print((tdauditor_topfd['mzMLDissociation'] == \"HCD\").sum())",
   "id": "ab9770964321d374",
   "execution_count": 25,
   "outputs": []
  },
  {
   "metadata": {
    "ExecuteTime": {
     "end_time": "2025-03-11T15:48:19.545365Z",
     "start_time": "2025-03-11T15:48:18.718882Z"
    }
   },
   "cell_type": "code",
   "source": "print((tdauditor_topfd['mzMLDissociation'] != \"HCD\").sum())",
   "id": "7f3522e9aa43ce11",
   "execution_count": 26,
   "outputs": []
  },
  {
   "metadata": {
    "ExecuteTime": {
     "end_time": "2025-03-11T12:38:55.213666Z",
     "start_time": "2025-03-11T12:38:50.505993Z"
    }
   },
   "cell_type": "code",
   "source": "tdauditor_topfd.describe()",
   "id": "3dfb6eda2ea3e13d",
   "execution_count": 16,
   "outputs": []
  },
  {
   "metadata": {},
   "cell_type": "markdown",
   "source": "Now I will be repeating what I did in the last chunk but for TopFD using the prsm file specifically for FlashDeconv",
   "id": "3ae32e934314a343"
  },
  {
   "metadata": {
    "ExecuteTime": {
     "end_time": "2025-05-04T13:25:33.849586Z",
     "start_time": "2025-05-04T13:24:27.592064Z"
    }
   },
   "cell_type": "code",
   "source": [
    "import pandas as pd\n",
    "# Load the dataset\n",
    "file_path_2 = \"20250213-1551-FLASH-TopPIC-FullDB-all_prsm_single.tsv\"  # Update with correct file path\n",
    "df_prsm_hit_flash = pd.read_csv(file_path_2, sep=\"\\t\", skiprows=43, engine=\"python\", dtype=str)\n",
    "\n",
    "# Check the first few rows to ensure it loaded correctly\n",
    "#print(df_prsm_hit_flash.head())"
   ],
   "id": "f348d1e25bbce0a5",
   "execution_count": 12,
   "outputs": []
  },
  {
   "metadata": {
    "ExecuteTime": {
     "end_time": "2025-05-04T13:25:58.281498Z",
     "start_time": "2025-05-04T13:25:54.671659Z"
    }
   },
   "cell_type": "code",
   "source": [
    "# Load the TDAuditor dataset\n",
    "tdauditor_file_2 = \"/Users/user/PycharmProjects/TDAuditor/20250430-TDAuditor-TSVs-TopFD-FLASH-PSPDXtract/TDAuditor-FLASHDeconv-byMSn.tsv\"  # Update with actual path\n",
    "tdauditor_flash = pd.read_csv(tdauditor_file_2, delimiter=\"\\t\")\n",
    "print(tdauditor_flash.head())\n",
    "# Extract the filenames from TDAuditor\n",
    "tdauditor_filenames_f = set(tdauditor_flash[\"SourceFile\"])  # Update column name\n",
    "print(tdauditor_filenames_f)"
   ],
   "id": "7b3ff01e01370a03",
   "execution_count": 13,
   "outputs": []
  },
  {
   "metadata": {
    "ExecuteTime": {
     "end_time": "2025-05-04T13:38:24.819020Z",
     "start_time": "2025-05-04T13:38:24.789203Z"
    }
   },
   "cell_type": "code",
   "source": [
    "def clean_filename_flash(filename):\n",
    "    # Remove '_ms2.msalign'\n",
    "    filename = filename.replace(\"_ms2.msalign\", \"\")\n",
    "    \n",
    "    # Ensure the filename matches the closest TDAuditor entry\n",
    "    for tdauditor_file in tdauditor_filenames_f:\n",
    "        if tdauditor_file in filename:\n",
    "            return tdauditor_file  # Replace with the correct match\n",
    "    \n",
    "    return filename  # Return the cleaned filename if no match found\n"
   ],
   "id": "5230f21cdd90cdbb",
   "execution_count": 14,
   "outputs": []
  },
  {
   "metadata": {
    "ExecuteTime": {
     "end_time": "2025-05-04T13:39:18.368383Z",
     "start_time": "2025-05-04T13:38:58.171122Z"
    }
   },
   "cell_type": "code",
   "source": [
    "df_prsm_hit_flash[\"Cleaned SourceFile\"] = df_prsm_hit_flash[\"Data file name\"].apply(clean_filename_flash)\n",
    "\n",
    "unmatched_filenames = set(df_prsm_hit_flash[\"Cleaned SourceFile\"]) - tdauditor_filenames_f\n",
    "print(\"Unmatched Filenames:\", unmatched_filenames)\n"
   ],
   "id": "9a8b0ba289dc9db0",
   "execution_count": 15,
   "outputs": []
  },
  {
   "metadata": {
    "ExecuteTime": {
     "end_time": "2025-05-04T13:40:20.005901Z",
     "start_time": "2025-05-04T13:39:53.573117Z"
    }
   },
   "cell_type": "code",
   "source": [
    "\n",
    "\n",
    "# Ensure scan numbers are treated as strings\n",
    "df_prsm_hit_flash[\"Scan(s)\"] = df_prsm_hit_flash[\"Scan(s)\"].astype(str)\n",
    "tdauditor_flash[\"ScanNumber\"] = tdauditor_flash[\"ScanNumber\"].astype(str)\n",
    "\n",
    "# Create a set of matching (SourceFile, Scan) pairs from df_prsm_hit\n",
    "matching_pairs = set(zip(df_prsm_hit_flash[\"Cleaned SourceFile\"], df_prsm_hit_flash[\"Scan(s)\"]))\n",
    "\n",
    "# Add the hit column to TDAuditor\n",
    "tdauditor_flash[\"hit\"] = tdauditor_flash.apply(\n",
    "    lambda row: 1 if (row[\"SourceFile\"], row[\"ScanNumber\"]) in matching_pairs else 0, \n",
    "    axis=1\n",
    ")\n",
    "\n",
    "# Save the updated file\n",
    "output_path = \"flash_td_auditor_hit_column.tsv\"\n",
    "tdauditor_flash.to_csv(output_path, sep=\"\\t\", index=False)\n",
    "\n"
   ],
   "id": "136936fd0d3ef59d",
   "execution_count": 16,
   "outputs": []
  },
  {
   "metadata": {
    "ExecuteTime": {
     "end_time": "2025-04-22T15:05:40.784610Z",
     "start_time": "2025-04-22T15:05:37.262410Z"
    }
   },
   "cell_type": "code",
   "source": [
    "import pandas as pd\n",
    "import matplotlib.pyplot as plt\n",
    "#tdauditor_flash = pd.read_csv(\"updated_td_auditor_flashdeconv_with_instrument.tsv\", sep=\"\\t\")\n",
    "print((tdauditor_flash['hit'] == 1).sum())\n",
    "print(tdauditor_flash.groupby('Instrument')['hit'].mean().sort_values(ascending=False))\n",
    "\n",
    "# Or visualize instrument effects:\n",
    "import seaborn as sns\n",
    "plt.figure(figsize=(12, 6))\n",
    "sns.boxplot(data=tdauditor_flash, x='Instrument', y='LongestTag', hue='hit')\n",
    "plt.xticks(rotation=45)\n",
    "plt.show()"
   ],
   "id": "5fa5f7a84e9a3f00",
   "execution_count": 12,
   "outputs": []
  },
  {
   "metadata": {
    "ExecuteTime": {
     "end_time": "2025-04-22T09:31:35.601522Z",
     "start_time": "2025-04-22T09:31:35.596426Z"
    }
   },
   "cell_type": "code",
   "source": "print((tdauditor_flash['hit'] == 0).sum())",
   "id": "de179e1fd6c223d",
   "execution_count": 7,
   "outputs": []
  },
  {
   "metadata": {
    "ExecuteTime": {
     "end_time": "2025-04-22T15:06:15.018785Z",
     "start_time": "2025-04-22T15:06:08.676921Z"
    }
   },
   "cell_type": "code",
   "source": [
    "\n",
    "tdauditor_topfd = pd.read_csv(\"updated_td_auditor_topfd_with_instrument.tsv\", sep=\"\\t\")\n",
    "print((tdauditor_topfd['hit']==1).sum())\n",
    "# You could analyze hit rates by instrument:\n",
    "print(tdauditor_topfd.groupby('Instrument')['hit'].mean().sort_values(ascending=False))\n",
    "\n",
    "# Or visualize instrument effects:\n",
    "import seaborn as sns\n",
    "plt.figure(figsize=(12, 6))\n",
    "sns.boxplot(data=tdauditor_topfd, x='Instrument', y='LongestTag', hue='hit')\n",
    "plt.xticks(rotation=45)\n",
    "plt.show()"
   ],
   "id": "3bc17e1c132502d",
   "execution_count": 14,
   "outputs": []
  },
  {
   "metadata": {
    "ExecuteTime": {
     "end_time": "2025-04-22T09:29:59.676006Z",
     "start_time": "2025-04-22T09:29:59.666278Z"
    }
   },
   "cell_type": "code",
   "source": "print((tdauditor_topfd['hit'] == 0).sum())",
   "id": "87f3d52614e97f10",
   "execution_count": 3,
   "outputs": []
  },
  {
   "metadata": {
    "ExecuteTime": {
     "end_time": "2025-03-11T16:19:53.212205Z",
     "start_time": "2025-03-11T16:19:46.259107Z"
    }
   },
   "cell_type": "code",
   "source": [
    "import pandas as pd\n",
    "\n",
    "# Load the datasets\n",
    "topfd_df = pd.read_csv(\"/Users/user/PycharmProjects/TDAuditor/20250214-TDAuditor-Reports-FLASH-and-TopFD/20250214-TopFD178-TDAuditor-byMSn.tsv\", delimiter=\"\\t\")  # Replace with actual file name\n",
    "flashdeconv_df = pd.read_csv(\"/Users/user/PycharmProjects/TDAuditor/20250214-TDAuditor-Reports-FLASH-and-TopFD/20250214-FLASHDeconv-TDAuditor-byMSn.tsv\", delimiter=\"\\t\")  # Replace with actual file name\n",
    "\n",
    "# Select only relevant columns\n",
    "topfd_df = topfd_df[['SourceFile', 'ScanNumber']]\n",
    "flashdeconv_df = flashdeconv_df[['SourceFile', 'ScanNumber']]\n",
    "\n",
    "# Merge on SourceFile & ScanNumber to find matches\n",
    "merged_df = pd.merge(topfd_df, flashdeconv_df, on=['SourceFile', 'ScanNumber'], how='inner')\n",
    "\n",
    "# Calculate match percentage\n",
    "total_scans_topfd = len(topfd_df)\n",
    "total_scans_flashdeconv = len(flashdeconv_df)\n",
    "total_matches = len(merged_df)\n",
    "\n",
    "match_percentage_topfd = (total_matches / total_scans_topfd) * 100\n",
    "match_percentage_flashdeconv = (total_matches / total_scans_flashdeconv) * 100\n",
    "\n",
    "# Print results\n",
    "print(f\"Total scans in TopFD: {total_scans_topfd}\")\n",
    "print(f\"Total scans in FlashDeconv: {total_scans_flashdeconv}\")\n",
    "print(f\"Total matching scans: {total_matches}\")\n",
    "print(f\"Match percentage (TopFD-based): {match_percentage_topfd:.2f}%\")\n",
    "print(f\"Match percentage (FlashDeconv-based): {match_percentage_flashdeconv:.2f}%\")\n"
   ],
   "id": "4b8a16dedf1f6d79",
   "execution_count": 36,
   "outputs": []
  },
  {
   "metadata": {},
   "cell_type": "markdown",
   "source": "Now I am adding the intrument type to each of the updated td_auditor files for top_fd and flash_deconv",
   "id": "8e01455d4d246ff3"
  },
  {
   "metadata": {
    "ExecuteTime": {
     "end_time": "2025-05-04T13:43:09.316658Z",
     "start_time": "2025-05-04T13:42:35.860913Z"
    }
   },
   "cell_type": "code",
   "source": [
    "import pandas as pd\n",
    "\n",
    "# Load the instrument type file\n",
    "instrument_df_flash = pd.read_csv(\"/Users/user/PycharmProjects/TDAuditor/20250430-TDAuditor-TSVs-TopFD-FLASH-PSPDXtract/TDAuditor-FLASHDeconv-byRun.tsv\", delimiter=\"\\t\")  # Update filename & delimiter if needed\n",
    "instrument_df_top = pd.read_csv(\"/Users/user/PycharmProjects/TDAuditor/20250430-TDAuditor-TSVs-TopFD-FLASH-PSPDXtract/TDAuditor-TopFD-byRun.tsv\", delimiter=\"\\t\")  # Update filename & delimiter if needed\n",
    "\n",
    "instrument_df_top = instrument_df_top[[\"SourceFile\", \"Instrument\"]]\n",
    "instrument_df_flash = instrument_df_flash[[\"SourceFile\", \"Instrument\"]]\n",
    "\n",
    "# Load the updated td_auditor files\n",
    "td_auditor_topfd = pd.read_csv(\"topfd_td_auditor_hit_column.tsv\", delimiter=\"\\t\")\n",
    "td_auditor_flashdeconv = pd.read_csv(\"flash_td_auditor_hit_column.tsv\", delimiter=\"\\t\")\n",
    "\n",
    "# Merge instrument type with both datasets\n",
    "td_auditor_topfd = td_auditor_topfd.merge(instrument_df_top, on=\"SourceFile\", how=\"left\")\n",
    "td_auditor_flashdeconv = td_auditor_flashdeconv.merge(instrument_df_flash, on=\"SourceFile\", how=\"left\")\n",
    "\n",
    "# Save updated files if needed\n",
    "td_auditor_topfd.to_csv(\"tdauditor_topfd_with_instrument.tsv\", sep=\"\\t\", index=False)\n",
    "td_auditor_flashdeconv.to_csv(\"tdauditor_flashdeconv_with_instrument.tsv\", sep=\"\\t\", index=False)\n",
    "\n",
    "# Check if everything looks good\n",
    "print(td_auditor_topfd.head())\n",
    "print(td_auditor_flashdeconv.head())\n"
   ],
   "id": "9ff7201ac6da5e9c",
   "execution_count": 17,
   "outputs": []
  },
  {
   "metadata": {
    "ExecuteTime": {
     "end_time": "2025-05-16T08:32:12.865046Z",
     "start_time": "2025-05-16T08:32:05.111855Z"
    }
   },
   "cell_type": "code",
   "source": [
    "import pandas as pd\n",
    "\n",
    "tdauditor_topfd = pd.read_csv('tdauditor_topfd_with_instrument.tsv', delimiter=\"\\t\")\n",
    "tdauditor_flash = pd.read_csv('tdauditor_flashdeconv_with_instrument.tsv', delimiter=\"\\t\")\n",
    "\n"
   ],
   "id": "a14297e7bfb69921",
   "execution_count": 3,
   "outputs": []
  },
  {
   "metadata": {
    "ExecuteTime": {
     "end_time": "2025-05-16T08:32:12.885782Z",
     "start_time": "2025-05-16T08:32:12.867662Z"
    }
   },
   "cell_type": "code",
   "source": "tdauditor_topfd.head()",
   "id": "dde916c60ca2f586",
   "execution_count": 4,
   "outputs": []
  },
  {
   "metadata": {
    "ExecuteTime": {
     "end_time": "2025-05-16T08:39:01.516979Z",
     "start_time": "2025-05-16T08:39:01.246110Z"
    }
   },
   "cell_type": "code",
   "source": [
    "\n",
    "print(\"HCD =\", (tdauditor_topfd['mzMLDissociation'] == 'HCD').sum())\n",
    "print('ETD =', (tdauditor_topfd['mzMLDissociation'] == 'ETD').sum())\n",
    "print('CID =', (tdauditor_topfd['mzMLDissociation'] == 'CID').sum())"
   ],
   "id": "e84b376e385f61b5",
   "execution_count": 10,
   "outputs": []
  },
  {
   "metadata": {
    "ExecuteTime": {
     "end_time": "2025-05-26T09:37:34.032541Z",
     "start_time": "2025-05-26T09:36:01.593807Z"
    }
   },
   "cell_type": "code",
   "source": [
    "import pandas as pd\n",
    "\n",
    "\n",
    "# Load the dataset\n",
    "file_path = \"20200811-Published-Identifications_Hit-Report-Sorted.xlsx\"  # Update with correct file path\n",
    "df_prsm_hit_pro = pd.read_excel(file_path)\n",
    "\n",
    "# Check the first few rows to ensure it loaded correctly\n",
    "print(df_prsm_hit_pro.head())"
   ],
   "id": "9cf5fc33e3395fca",
   "execution_count": 3,
   "outputs": []
  },
  {
   "metadata": {
    "ExecuteTime": {
     "end_time": "2025-05-26T09:38:38.041673Z",
     "start_time": "2025-05-26T09:38:34.353898Z"
    }
   },
   "cell_type": "code",
   "source": [
    "# Load the TDAuditor dataset\n",
    "tdauditor_pro_file_path = \"/Users/user/PycharmProjects/TDAuditor/20250430-TDAuditor-TSVs-TopFD-FLASH-PSPDXtract/TDAuditor-PSPDXtract-byMSn.tsv\"  # Update with actual path\n",
    "tdauditor_pro = pd.read_csv(tdauditor_pro_file_path, delimiter=\"\\t\")\n",
    "print(tdauditor_pro.head())\n",
    "# Extract the filenames from TDAuditor\n",
    "tdauditor_filenames = set(tdauditor_pro[\"SourceFile\"])  # Update column name\n",
    "print(len(tdauditor_filenames))"
   ],
   "id": "23d6badb7d5da5f2",
   "execution_count": 5,
   "outputs": []
  },
  {
   "metadata": {
    "ExecuteTime": {
     "end_time": "2025-05-26T09:47:30.867352Z",
     "start_time": "2025-05-26T09:47:15.087373Z"
    }
   },
   "cell_type": "code",
   "source": [
    "def clean_filename(filename):\n",
    "    # Remove '_ms2.msalign'\n",
    "    filename = filename.replace(\".raw\", \"\")\n",
    "    # Replace '+' with '_' for comparison\n",
    "    filename = filename.replace(\"+\", \"_\")\n",
    "\n",
    "    # Ensure the filename matches the closest TDAuditor entry\n",
    "    for tdauditor_file in tdauditor_filenames:\n",
    "        if tdauditor_file in filename:\n",
    "            return tdauditor_file  # Replace with the correct match\n",
    "\n",
    "    return filename  # Return the cleaned filename if no match found\n",
    "\n",
    "\n",
    "df_prsm_hit_pro[\"Cleaned SourceFile\"] = df_prsm_hit_pro[\"File Name\"].apply(clean_filename)\n",
    "\n"
   ],
   "id": "9a598a19d008b68",
   "execution_count": 10,
   "outputs": []
  },
  {
   "metadata": {
    "ExecuteTime": {
     "end_time": "2025-05-26T09:47:37.636376Z",
     "start_time": "2025-05-26T09:47:37.590077Z"
    }
   },
   "cell_type": "code",
   "source": [
    "\n",
    "unmatched_filenames = set(df_prsm_hit_pro[\"Cleaned SourceFile\"]) - tdauditor_filenames\n",
    "print(\"Unmatched Filenames:\", unmatched_filenames)\n"
   ],
   "id": "ee261fc7e7df53dd",
   "execution_count": 11,
   "outputs": []
  },
  {
   "metadata": {
    "ExecuteTime": {
     "end_time": "2025-05-26T09:51:06.360816Z",
     "start_time": "2025-05-26T09:50:52.513927Z"
    }
   },
   "cell_type": "code",
   "source": [
    "# Ensure scan numbers are treated as strings\n",
    "df_prsm_hit_pro[\"Fragment Scans\"] = df_prsm_hit_pro[\"Fragment Scans\"].astype(str)\n",
    "tdauditor_pro[\"ScanNumber\"] = tdauditor_pro[\"ScanNumber\"].astype(str)\n",
    "\n",
    "# Create a set of matching (SourceFile, Scan) pairs from df_prsm_hit\n",
    "matching_pairs = set(zip(df_prsm_hit_pro[\"Cleaned SourceFile\"], df_prsm_hit_pro[\"Fragment Scans\"]))\n",
    "\n",
    "# Add the hit column to TDAuditor\n",
    "tdauditor_pro[\"hit\"] = tdauditor_pro.apply(\n",
    "    lambda row: 1 if (row[\"SourceFile\"], row[\"ScanNumber\"]) in matching_pairs else 0,\n",
    "    axis=1\n",
    ")\n",
    "\n",
    "# Save the updated file\n",
    "output_path = \"pro_td_auditor_hit_column.tsv\""
   ],
   "id": "a339dfe3572ccdc5",
   "execution_count": 13,
   "outputs": []
  },
  {
   "metadata": {
    "ExecuteTime": {
     "end_time": "2025-05-26T09:51:51.354034Z",
     "start_time": "2025-05-26T09:51:51.324905Z"
    }
   },
   "cell_type": "code",
   "source": [
    "print((tdauditor_pro['hit'] == 1).sum())\n",
    "print((tdauditor_pro['hit'] == 0).sum())"
   ],
   "id": "1f3eacf089587f1a",
   "execution_count": 14,
   "outputs": []
  },
  {
   "metadata": {
    "ExecuteTime": {
     "end_time": "2025-05-26T09:52:10.430592Z",
     "start_time": "2025-05-26T09:51:58.192030Z"
    }
   },
   "cell_type": "code",
   "source": "tdauditor_pro.to_csv(output_path, sep=\"\\t\", index=False)",
   "id": "d04a0642390072f2",
   "execution_count": 15,
   "outputs": []
  },
  {
   "metadata": {
    "ExecuteTime": {
     "end_time": "2025-05-26T09:54:36.754820Z",
     "start_time": "2025-05-26T09:54:20.447705Z"
    }
   },
   "cell_type": "code",
   "source": [
    "import pandas as pd\n",
    "\n",
    "# Load the instrument type file\n",
    "instrument_df_pro = pd.read_csv(\"/Users/user/PycharmProjects/TDAuditor/20250430-TDAuditor-TSVs-TopFD-FLASH-PSPDXtract/TDAuditor-PSPDXtract-byRun.tsv\", delimiter=\"\\t\")  \n",
    "\n",
    "instrument_df_pro = instrument_df_pro[[\"SourceFile\", \"Instrument\"]]\n",
    "\n",
    "# Load the updated td_auditor files\n",
    "td_auditor_pro = pd.read_csv(\"pro_td_auditor_hit_column.tsv\", delimiter=\"\\t\")\n",
    "\n",
    "# Merge instrument type with both datasets\n",
    "td_auditor_pro = td_auditor_pro.merge(instrument_df_pro, on=\"SourceFile\", how=\"left\")\n",
    "\n",
    "# Save updated files if needed\n",
    "td_auditor_pro.to_csv(\"tdauditor_pro_with_instrument.tsv\", sep=\"\\t\", index=False)\n",
    "\n",
    "# Check if everything looks good\n",
    "print(td_auditor_pro.head())\n"
   ],
   "id": "160dbe99a5f90d58",
   "execution_count": 16,
   "outputs": []
  },
  {
   "metadata": {
    "ExecuteTime": {
     "end_time": "2025-06-04T08:27:52.308275Z",
     "start_time": "2025-06-04T08:27:48.790490Z"
    }
   },
   "cell_type": "code",
   "source": [
    "import pandas as pd\n",
    "top = pd.read_csv(\"tdauditor_topfd_with_instrument.tsv\", sep=\"\\t\")\n",
    "print(top)"
   ],
   "id": "4f5f8b51edccd07c",
   "execution_count": 3,
   "outputs": []
  },
  {
   "metadata": {
    "ExecuteTime": {
     "end_time": "2025-06-04T08:32:57.677631Z",
     "start_time": "2025-06-04T08:32:53.925957Z"
    }
   },
   "cell_type": "code",
   "source": [
    "pro = pd.read_csv(\"tdauditor_pro_with_instrument.tsv\", sep=\"\\t\")\n",
    "\n",
    "pro['Instrument'] = pro['Instrument'].fillna('Orbitrap Eclipse')\n",
    "# Print total samples per instrument\n",
    "print(pro['Instrument'].value_counts())\n"
   ],
   "id": "2593ab7d19242338",
   "execution_count": 9,
   "outputs": []
  },
  {
   "metadata": {
    "ExecuteTime": {
     "end_time": "2025-06-04T08:33:22.613063Z",
     "start_time": "2025-06-04T08:33:18.818313Z"
    }
   },
   "cell_type": "code",
   "source": [
    "\n",
    "flash = pd.read_csv(\"tdauditor_flashdeconv_with_instrument.tsv\", sep=\"\\t\")\n",
    "\n",
    "print(flash['mzMLDissociation'].value_counts())\n"
   ],
   "id": "8e96cc8a1687307b",
   "execution_count": 10,
   "outputs": []
  },
  {
   "metadata": {
    "ExecuteTime": {
     "end_time": "2025-06-04T08:59:29.334017Z",
     "start_time": "2025-06-04T08:59:28.406038Z"
    }
   },
   "cell_type": "code",
   "source": [
    "# Count number of hits (Hit == 1) per instrument\n",
    "hit_counts = flash[flash['hit'] == 1].groupby('mzMLDissociation').size()\n",
    "\n",
    "print(hit_counts)\n"
   ],
   "id": "bc5ac1b5ede66647",
   "execution_count": 17,
   "outputs": []
  },
  {
   "metadata": {
    "ExecuteTime": {
     "end_time": "2025-06-04T08:59:30.649629Z",
     "start_time": "2025-06-04T08:59:30.430641Z"
    }
   },
   "cell_type": "code",
   "source": [
    "# Count number of hits (Hit == 1) per instrument\n",
    "hit_counts_p = pro[pro['hit'] == 1].groupby('mzMLDissociation').size()\n",
    "\n",
    "print(hit_counts_p)\n",
    "\n",
    "\n"
   ],
   "id": "5651d5539617adb6",
   "execution_count": 18,
   "outputs": []
  },
  {
   "metadata": {
    "ExecuteTime": {
     "end_time": "2025-06-04T08:59:31.950348Z",
     "start_time": "2025-06-04T08:59:31.687501Z"
    }
   },
   "cell_type": "code",
   "source": [
    "# Count number of hits (Hit == 1) per instrument\n",
    "hit_counts_t = top[top['hit'] == 1].groupby('mzMLDissociation').size()\n",
    "\n",
    "print(hit_counts_t)"
   ],
   "id": "357c4d647c9a0ff3",
   "execution_count": 19,
   "outputs": []
  },
  {
   "metadata": {},
   "cell_type": "code",
   "execution_count": null,
   "source": "",
   "id": "20c5201077b45d28",
   "outputs": []
  }
 ],
 "metadata": {
  "kernelspec": {
   "display_name": "Python 3 (ipykernel)",
   "language": "python",
   "name": "python3"
  },
  "language_info": {
   "codemirror_mode": {
    "name": "ipython",
    "version": 2
   },
   "file_extension": ".py",
   "mimetype": "text/x-python",
   "name": "python",
   "nbconvert_exporter": "python",
   "pygments_lexer": "ipython2",
   "version": "2.7.6"
  }
 },
 "nbformat": 4,
 "nbformat_minor": 5
}

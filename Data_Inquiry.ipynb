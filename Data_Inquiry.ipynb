{
 "cells": [
  {
   "metadata": {},
   "cell_type": "markdown",
   "source": "From here I'm using the Toppic all prsm file as a 'hit report', and matching which file names and according scan number are in td_auditor topFD by msn, and adding a column of whether it hits or not ",
   "id": "916ac8bde024a926"
  },
  {
   "cell_type": "code",
   "id": "c5d292e1cea5b16e",
   "metadata": {
    "ExecuteTime": {
     "end_time": "2025-05-04T12:46:36.549430Z",
     "start_time": "2025-05-04T12:45:28.858500Z"
    }
   },
   "source": [
    "import pandas as pd\n",
    "\n",
    "\n",
    "# Load the dataset\n",
    "file_path = \"20241108-1551-TopPIC-FullDB-all_prsm_single.tsv\"  # Update with correct file path\n",
    "df_prsm_hit_topfd = pd.read_csv(file_path, sep=\"\\t\", skiprows=43, engine=\"python\", dtype=str)\n",
    "\n",
    "# Check the first few rows to ensure it loaded correctly\n",
    "print(df_prsm_hit_topfd.head())\n",
    "\n",
    "\n",
    "\n"
   ],
   "outputs": [
    {
     "name": "stdout",
     "output_type": "stream",
     "text": [
      "                                      Data file name Prsm ID Spectrum ID  \\\n",
      "0  06102019_RVG262_PLRPS_FAIMS_CV__F1_CD3_0L_Neg1...       0         153   \n",
      "1  06102019_RVG262_PLRPS_FAIMS_CV__F1_CD3_0L_Neg1...       1         156   \n",
      "2  06102019_RVG262_PLRPS_FAIMS_CV__F1_CD3_0L_Neg1...       2         159   \n",
      "3  06102019_RVG262_PLRPS_FAIMS_CV__F1_CD3_0L_Neg1...       3         160   \n",
      "4  06102019_RVG262_PLRPS_FAIMS_CV__F1_CD3_0L_Neg1...       4         161   \n",
      "\n",
      "  Fragmentation Scan(s) Retention time #peaks Charge Precursor mass  \\\n",
      "0           HCD     257         715.81     55      3     3352.78825   \n",
      "1           HCD     261         727.93     90     26    22246.30313   \n",
      "2           HCD     266         740.90    100      4     3869.14105   \n",
      "3           HCD     267         743.00    189     18     19123.3995   \n",
      "4           HCD     269         747.43    223     16    19123.39942   \n",
      "\n",
      "  Adjusted precursor mass  ... #unexpected modifications  \\\n",
      "0             3352.782648  ...                         0   \n",
      "1             22247.28924  ...                         0   \n",
      "2              3869.13745  ...                         0   \n",
      "3              19123.2245  ...                         1   \n",
      "4             19124.62677  ...                         1   \n",
      "\n",
      "  unexpected modifications #variable PTMs variable PTMs MIScore  \\\n",
      "0                      NaN              0           NaN       -   \n",
      "1                      NaN              0           NaN       -   \n",
      "2                      NaN              0           NaN       -   \n",
      "3         +27.8661:[61-62]              0           NaN       -   \n",
      "4       +29.2684:[136-142]              0           NaN       -   \n",
      "\n",
      "  #matched peaks #matched fragment ions         E-value  \\\n",
      "0             22                     20    1.053284e-11   \n",
      "1              8                      7      0.00098312   \n",
      "2             44                     36      1.8354e-18   \n",
      "3             29                     26   5.2876264e-09   \n",
      "4             24                     22  0.000709929529   \n",
      "\n",
      "  Spectrum-level Q-value Proteoform-level Q-value  \n",
      "0                      -                        -  \n",
      "1                      -                        -  \n",
      "2                      -                        -  \n",
      "3                      -                        -  \n",
      "4                      -                        -  \n",
      "\n",
      "[5 rows x 37 columns]\n"
     ]
    }
   ],
   "execution_count": 6
  },
  {
   "metadata": {
    "ExecuteTime": {
     "end_time": "2025-05-04T12:44:33.059453Z",
     "start_time": "2025-05-04T12:44:29.424482Z"
    }
   },
   "cell_type": "code",
   "source": [
    "# Load the TDAuditor dataset\n",
    "tdauditor_file_path = \"/Users/user/PycharmProjects/TDAuditor/20250430-TDAuditor-TSVs-TopFD-FLASH-PSPDXtract/TDAuditor-TopFD-byMSn.tsv\"  # Update with actual path\n",
    "tdauditor_topfd = pd.read_csv(tdauditor_file_path, delimiter=\"\\t\")\n",
    "print(tdauditor_topfd.head())\n",
    "# Extract the filenames from TDAuditor\n",
    "tdauditor_filenames = set(tdauditor_topfd[\"SourceFile\"])  # Update column name\n",
    "print(len(tdauditor_filenames))"
   ],
   "id": "1ac90b6e596c6a0c",
   "outputs": [
    {
     "name": "stdout",
     "output_type": "stream",
     "text": [
      "                                     SourceFile  \\\n",
      "0  06102019_RVG262_PLRPS_FAIMS_CV_Neg100_F1_CD3   \n",
      "1  06102019_RVG262_PLRPS_FAIMS_CV_Neg100_F1_CD3   \n",
      "2  06102019_RVG262_PLRPS_FAIMS_CV_Neg100_F1_CD3   \n",
      "3  06102019_RVG262_PLRPS_FAIMS_CV_Neg100_F1_CD3   \n",
      "4  06102019_RVG262_PLRPS_FAIMS_CV_Neg100_F1_CD3   \n",
      "\n",
      "                                       NativeID  ScanNumber  ScanStartTime  \\\n",
      "0   controllerType=0 controllerNumber=1 scan=21          21       0.681169   \n",
      "1   controllerType=0 controllerNumber=1 scan=83          83       2.624363   \n",
      "2   controllerType=0 controllerNumber=1 scan=96          96       3.050480   \n",
      "3  controllerType=0 controllerNumber=1 scan=112         112       3.569240   \n",
      "4  controllerType=0 controllerNumber=1 scan=202         202       6.378995   \n",
      "\n",
      "  mzMLDissociation  MatchedToDeconvolution  mzMLPreZ  mzMLSelectedIon  \\\n",
      "0              HCD                    True         1       775.334290   \n",
      "1              HCD                    True         3       775.301880   \n",
      "2              HCD                    True         2       731.344910   \n",
      "3              HCD                    True         1      1093.244995   \n",
      "4              HCD                    True         2       775.260071   \n",
      "\n",
      "   mzMLMassResolvingPower  DeconvPreZ  DeconvPreMass  mzMLPeakCount  \\\n",
      "0                   60000           1      774.32859             14   \n",
      "1                   60000           3     2321.88400             21   \n",
      "2                   60000           1      730.33763             19   \n",
      "3                   60000           1     1092.23772             19   \n",
      "4                   60000           2     1548.50361             22   \n",
      "\n",
      "   DeconvPeakCount  Degree  ComponentNumber  AALinkCount  LongestTag  \n",
      "0                0       0                0            0           0  \n",
      "1                0       0                0            0           0  \n",
      "2                0       0                0            0           0  \n",
      "3                0       0                0            0           0  \n",
      "4                0       0                0            0           0  \n",
      "1551\n"
     ]
    }
   ],
   "execution_count": 4
  },
  {
   "metadata": {
    "ExecuteTime": {
     "end_time": "2025-05-04T12:47:11.538111Z",
     "start_time": "2025-05-04T12:47:11.523291Z"
    }
   },
   "cell_type": "code",
   "source": "print(df_prsm_hit_topfd.columns)\n",
   "id": "fdd4338cadc4cae8",
   "outputs": [
    {
     "name": "stdout",
     "output_type": "stream",
     "text": [
      "Index(['Data file name', 'Prsm ID', 'Spectrum ID', 'Fragmentation', 'Scan(s)',\n",
      "       'Retention time', '#peaks', 'Charge', 'Precursor mass',\n",
      "       'Adjusted precursor mass', 'Proteoform ID', 'Proteoform intensity',\n",
      "       'Feature ID', 'Feature intensity', 'Feature score', 'Feature apex time',\n",
      "       '#Protein hits', 'Protein accession', 'Protein description',\n",
      "       'First residue', 'Last residue', 'Special amino acids',\n",
      "       'Database protein sequence', 'Proteoform', 'Proteoform mass',\n",
      "       'Protein N-terminal form', 'Fixed PTMs', '#unexpected modifications',\n",
      "       'unexpected modifications', '#variable PTMs', 'variable PTMs',\n",
      "       'MIScore', '#matched peaks', '#matched fragment ions', 'E-value',\n",
      "       'Spectrum-level Q-value', 'Proteoform-level Q-value'],\n",
      "      dtype='object')\n"
     ]
    }
   ],
   "execution_count": 7
  },
  {
   "metadata": {
    "ExecuteTime": {
     "end_time": "2025-05-04T12:47:20.807586Z",
     "start_time": "2025-05-04T12:47:20.795984Z"
    }
   },
   "cell_type": "code",
   "source": [
    "def clean_filename(filename):\n",
    "    # Remove '_ms2.msalign'\n",
    "    filename = filename.replace(\"_ms2.msalign\", \"\")\n",
    "    \n",
    "    # Ensure the filename matches the closest TDAuditor entry\n",
    "    for tdauditor_file in tdauditor_filenames:\n",
    "        if tdauditor_file in filename:\n",
    "            return tdauditor_file  # Replace with the correct match\n",
    "    \n",
    "    return filename  # Return the cleaned filename if no match found\n"
   ],
   "id": "9eff981c6a39e064",
   "outputs": [],
   "execution_count": 8
  },
  {
   "metadata": {
    "ExecuteTime": {
     "end_time": "2025-05-04T12:47:53.836286Z",
     "start_time": "2025-05-04T12:47:34.554321Z"
    }
   },
   "cell_type": "code",
   "source": [
    "df_prsm_hit_topfd[\"Cleaned SourceFile\"] = df_prsm_hit_topfd[\"Data file name\"].apply(clean_filename)\n",
    "\n",
    "# Verify the changes\n",
    "#print(df_prsm_hit[\"Cleaned SourceFile\"].unique())\n"
   ],
   "id": "8ad297a46490508f",
   "outputs": [],
   "execution_count": 9
  },
  {
   "metadata": {
    "ExecuteTime": {
     "end_time": "2025-05-04T13:11:54.948755Z",
     "start_time": "2025-05-04T13:11:54.832342Z"
    }
   },
   "cell_type": "code",
   "source": [
    "unmatched_filenames = set(df_prsm_hit_topfd[\"Cleaned SourceFile\"]) - tdauditor_filenames\n",
    "print(\"Unmatched Filenames:\", unmatched_filenames)\n"
   ],
   "id": "47f39b0997894edc",
   "outputs": [
    {
     "name": "stdout",
     "output_type": "stream",
     "text": [
      "Unmatched Filenames: set()\n"
     ]
    }
   ],
   "execution_count": 10
  },
  {
   "metadata": {
    "ExecuteTime": {
     "end_time": "2025-05-04T13:21:45.301372Z",
     "start_time": "2025-05-04T13:21:07.740613Z"
    }
   },
   "cell_type": "code",
   "source": [
    "\n",
    "\n",
    "# Ensure scan numbers are treated as strings\n",
    "df_prsm_hit_topfd[\"Scan(s)\"] = df_prsm_hit_topfd[\"Scan(s)\"].astype(str)\n",
    "tdauditor_topfd[\"ScanNumber\"] = tdauditor_topfd[\"ScanNumber\"].astype(str)\n",
    "\n",
    "# Create a set of matching (SourceFile, Scan) pairs from df_prsm_hit\n",
    "matching_pairs = set(zip(df_prsm_hit_topfd[\"Cleaned SourceFile\"], df_prsm_hit_topfd[\"Scan(s)\"]))\n",
    "\n",
    "# Add the hit column to TDAuditor\n",
    "tdauditor_topfd[\"hit\"] = tdauditor_topfd.apply(\n",
    "    lambda row: 1 if (row[\"SourceFile\"], row[\"ScanNumber\"]) in matching_pairs else 0, \n",
    "    axis=1\n",
    ")\n",
    "\n",
    "# Save the updated file\n",
    "output_path = \"topfd_td_auditor_hit_column.tsv\"\n",
    "tdauditor_topfd.to_csv(output_path, sep=\"\\t\", index=False)\n",
    "\n",
    "# Print check\n",
    "print(tdauditor_topfd)"
   ],
   "id": "1f7a7413c406b148",
   "outputs": [
    {
     "name": "stdout",
     "output_type": "stream",
     "text": [
      "                                           SourceFile  \\\n",
      "0        06102019_RVG262_PLRPS_FAIMS_CV_Neg100_F1_CD3   \n",
      "1        06102019_RVG262_PLRPS_FAIMS_CV_Neg100_F1_CD3   \n",
      "2        06102019_RVG262_PLRPS_FAIMS_CV_Neg100_F1_CD3   \n",
      "3        06102019_RVG262_PLRPS_FAIMS_CV_Neg100_F1_CD3   \n",
      "4        06102019_RVG262_PLRPS_FAIMS_CV_Neg100_F1_CD3   \n",
      "...                                               ...   \n",
      "2782373             RM_20190929_cyto_eosinophil_F4_02   \n",
      "2782374             RM_20190929_cyto_eosinophil_F4_02   \n",
      "2782375             RM_20190929_cyto_eosinophil_F4_02   \n",
      "2782376             RM_20190929_cyto_eosinophil_F4_02   \n",
      "2782377             RM_20190929_cyto_eosinophil_F4_02   \n",
      "\n",
      "                                              NativeID ScanNumber  \\\n",
      "0          controllerType=0 controllerNumber=1 scan=21         21   \n",
      "1          controllerType=0 controllerNumber=1 scan=83         83   \n",
      "2          controllerType=0 controllerNumber=1 scan=96         96   \n",
      "3         controllerType=0 controllerNumber=1 scan=112        112   \n",
      "4         controllerType=0 controllerNumber=1 scan=202        202   \n",
      "...                                                ...        ...   \n",
      "2782373  controllerType=0 controllerNumber=1 scan=2284       2284   \n",
      "2782374  controllerType=0 controllerNumber=1 scan=2290       2290   \n",
      "2782375  controllerType=0 controllerNumber=1 scan=2292       2292   \n",
      "2782376  controllerType=0 controllerNumber=1 scan=2294       2294   \n",
      "2782377  controllerType=0 controllerNumber=1 scan=2296       2296   \n",
      "\n",
      "         ScanStartTime mzMLDissociation  MatchedToDeconvolution  mzMLPreZ  \\\n",
      "0             0.681169              HCD                    True         1   \n",
      "1             2.624363              HCD                    True         3   \n",
      "2             3.050480              HCD                    True         2   \n",
      "3             3.569240              HCD                    True         1   \n",
      "4             6.378995              HCD                    True         2   \n",
      "...                ...              ...                     ...       ...   \n",
      "2782373     120.226456              CID                    True         0   \n",
      "2782374     120.664630              CID                    True         0   \n",
      "2782375     120.791140              CID                    True         0   \n",
      "2782376     120.917740              CID                    True         0   \n",
      "2782377     121.044334              CID                    True         0   \n",
      "\n",
      "         mzMLSelectedIon  mzMLMassResolvingPower  DeconvPreZ  DeconvPreMass  \\\n",
      "0             775.334290                   60000           1      774.32859   \n",
      "1             775.301880                   60000           3     2321.88400   \n",
      "2             731.344910                   60000           1      730.33763   \n",
      "3            1093.244995                   60000           1     1092.23772   \n",
      "4             775.260071                   60000           2     1548.50361   \n",
      "...                  ...                     ...         ...            ...   \n",
      "2782373       752.963196                   50000           1      751.96621   \n",
      "2782374       959.709473                   50000           1      958.70185   \n",
      "2782375      1148.534790                   50000           1     1147.52773   \n",
      "2782376       758.317078                   50000           1      751.96621   \n",
      "2782377      1079.695312                   50000           1     1078.68862   \n",
      "\n",
      "         mzMLPeakCount  DeconvPeakCount  Degree  ComponentNumber  AALinkCount  \\\n",
      "0                   14                0       0                0            0   \n",
      "1                   21                0       0                0            0   \n",
      "2                   19                0       0                0            0   \n",
      "3                   19                0       0                0            0   \n",
      "4                   22                0       0                0            0   \n",
      "...                ...              ...     ...              ...          ...   \n",
      "2782373            366                0       0                0            0   \n",
      "2782374            555                1       0             1298            0   \n",
      "2782375            466                1       0             1299            0   \n",
      "2782376            437                0       0                0            0   \n",
      "2782377            536                0       0                0            0   \n",
      "\n",
      "         LongestTag  hit  \n",
      "0                 0    0  \n",
      "1                 0    0  \n",
      "2                 0    0  \n",
      "3                 0    0  \n",
      "4                 0    0  \n",
      "...             ...  ...  \n",
      "2782373           0    0  \n",
      "2782374           0    0  \n",
      "2782375           0    0  \n",
      "2782376           0    0  \n",
      "2782377           0    0  \n",
      "\n",
      "[2782378 rows x 18 columns]\n"
     ]
    }
   ],
   "execution_count": 11
  },
  {
   "metadata": {
    "ExecuteTime": {
     "end_time": "2025-03-11T13:11:01.976240Z",
     "start_time": "2025-03-11T13:11:01.943500Z"
    }
   },
   "cell_type": "code",
   "source": "print((tdauditor_topfd['hit'] == 1).sum())",
   "id": "9072cca81fbd7b95",
   "outputs": [
    {
     "name": "stdout",
     "output_type": "stream",
     "text": [
      "685024\n"
     ]
    }
   ],
   "execution_count": 21
  },
  {
   "metadata": {
    "ExecuteTime": {
     "end_time": "2025-03-11T13:11:17.403695Z",
     "start_time": "2025-03-11T13:11:17.384911Z"
    }
   },
   "cell_type": "code",
   "source": "print((tdauditor_topfd['hit'] == 0).sum())",
   "id": "61fba95f11b0dcee",
   "outputs": [
    {
     "name": "stdout",
     "output_type": "stream",
     "text": [
      "2097354\n"
     ]
    }
   ],
   "execution_count": 23
  },
  {
   "metadata": {
    "ExecuteTime": {
     "end_time": "2025-03-11T13:11:49.978138Z",
     "start_time": "2025-03-11T13:11:49.862914Z"
    }
   },
   "cell_type": "code",
   "source": "print((tdauditor_topfd['mzMLDissociation'] == \"HCD\").sum())",
   "id": "ab9770964321d374",
   "outputs": [
    {
     "name": "stdout",
     "output_type": "stream",
     "text": [
      "2158510\n"
     ]
    }
   ],
   "execution_count": 25
  },
  {
   "metadata": {
    "ExecuteTime": {
     "end_time": "2025-03-11T15:48:19.545365Z",
     "start_time": "2025-03-11T15:48:18.718882Z"
    }
   },
   "cell_type": "code",
   "source": "print((tdauditor_topfd['mzMLDissociation'] != \"HCD\").sum())",
   "id": "7f3522e9aa43ce11",
   "outputs": [
    {
     "name": "stdout",
     "output_type": "stream",
     "text": [
      "623868\n"
     ]
    }
   ],
   "execution_count": 26
  },
  {
   "metadata": {
    "ExecuteTime": {
     "end_time": "2025-03-11T12:38:55.213666Z",
     "start_time": "2025-03-11T12:38:50.505993Z"
    }
   },
   "cell_type": "code",
   "source": "tdauditor_topfd.describe()",
   "id": "3dfb6eda2ea3e13d",
   "outputs": [
    {
     "data": {
      "text/plain": [
       "       ScanStartTime      mzMLPreZ    DeconvPreZ  DeconvPreMass  \\\n",
       "count   2.782378e+06  2.782378e+06  2.782378e+06   2.723228e+06   \n",
       "mean    4.660336e+01  7.948066e+00  8.904746e+00   8.626821e+03   \n",
       "std     2.640478e+01  8.684573e+00  7.149013e+00   6.687623e+03   \n",
       "min     1.146161e-02  0.000000e+00  0.000000e+00   4.995114e+02   \n",
       "25%     2.678855e+01  0.000000e+00  2.000000e+00   2.838463e+03   \n",
       "50%     4.258805e+01  6.000000e+00  7.000000e+00   7.523749e+03   \n",
       "75%     6.250180e+01  1.200000e+01  1.400000e+01   1.264026e+04   \n",
       "max     1.800746e+02  9.500000e+01  3.000000e+01   4.752713e+04   \n",
       "\n",
       "       mzMLPeakCount  DeconvPeakCount        Degree  ComponentNumber  \\\n",
       "count   2.782378e+06     2.782378e+06  2.782378e+06     2.782378e+06   \n",
       "mean    2.108460e+03     8.910103e+01  1.455243e+01     1.403453e+03   \n",
       "std     2.590528e+03     9.742472e+01  6.799758e+01     3.473647e+03   \n",
       "min     2.000000e+00     0.000000e+00  0.000000e+00     0.000000e+00   \n",
       "25%     5.960000e+02     1.100000e+01  0.000000e+00     1.100000e+02   \n",
       "50%     1.433000e+03     5.700000e+01  0.000000e+00     4.200000e+02   \n",
       "75%     2.606000e+03     1.370000e+02  1.000000e+00     9.460000e+02   \n",
       "max     3.681400e+04     7.410000e+02  1.045000e+03     2.571200e+04   \n",
       "\n",
       "        AALinkCount    LongestTag           hit  \n",
       "count  2.782378e+06  2.782378e+06  2.782378e+06  \n",
       "mean   2.508127e+01  3.102851e+00  2.462009e-01  \n",
       "std    4.486096e+01  3.545529e+00  4.307970e-01  \n",
       "min    0.000000e+00  0.000000e+00  0.000000e+00  \n",
       "25%    0.000000e+00  0.000000e+00  0.000000e+00  \n",
       "50%    7.000000e+00  2.000000e+00  0.000000e+00  \n",
       "75%    3.100000e+01  5.000000e+00  0.000000e+00  \n",
       "max    1.196000e+03  3.900000e+01  1.000000e+00  "
      ],
      "text/html": [
       "<div>\n",
       "<style scoped>\n",
       "    .dataframe tbody tr th:only-of-type {\n",
       "        vertical-align: middle;\n",
       "    }\n",
       "\n",
       "    .dataframe tbody tr th {\n",
       "        vertical-align: top;\n",
       "    }\n",
       "\n",
       "    .dataframe thead th {\n",
       "        text-align: right;\n",
       "    }\n",
       "</style>\n",
       "<table border=\"1\" class=\"dataframe\">\n",
       "  <thead>\n",
       "    <tr style=\"text-align: right;\">\n",
       "      <th></th>\n",
       "      <th>ScanStartTime</th>\n",
       "      <th>mzMLPreZ</th>\n",
       "      <th>DeconvPreZ</th>\n",
       "      <th>DeconvPreMass</th>\n",
       "      <th>mzMLPeakCount</th>\n",
       "      <th>DeconvPeakCount</th>\n",
       "      <th>Degree</th>\n",
       "      <th>ComponentNumber</th>\n",
       "      <th>AALinkCount</th>\n",
       "      <th>LongestTag</th>\n",
       "      <th>hit</th>\n",
       "    </tr>\n",
       "  </thead>\n",
       "  <tbody>\n",
       "    <tr>\n",
       "      <th>count</th>\n",
       "      <td>2.782378e+06</td>\n",
       "      <td>2.782378e+06</td>\n",
       "      <td>2.782378e+06</td>\n",
       "      <td>2.723228e+06</td>\n",
       "      <td>2.782378e+06</td>\n",
       "      <td>2.782378e+06</td>\n",
       "      <td>2.782378e+06</td>\n",
       "      <td>2.782378e+06</td>\n",
       "      <td>2.782378e+06</td>\n",
       "      <td>2.782378e+06</td>\n",
       "      <td>2.782378e+06</td>\n",
       "    </tr>\n",
       "    <tr>\n",
       "      <th>mean</th>\n",
       "      <td>4.660336e+01</td>\n",
       "      <td>7.948066e+00</td>\n",
       "      <td>8.904746e+00</td>\n",
       "      <td>8.626821e+03</td>\n",
       "      <td>2.108460e+03</td>\n",
       "      <td>8.910103e+01</td>\n",
       "      <td>1.455243e+01</td>\n",
       "      <td>1.403453e+03</td>\n",
       "      <td>2.508127e+01</td>\n",
       "      <td>3.102851e+00</td>\n",
       "      <td>2.462009e-01</td>\n",
       "    </tr>\n",
       "    <tr>\n",
       "      <th>std</th>\n",
       "      <td>2.640478e+01</td>\n",
       "      <td>8.684573e+00</td>\n",
       "      <td>7.149013e+00</td>\n",
       "      <td>6.687623e+03</td>\n",
       "      <td>2.590528e+03</td>\n",
       "      <td>9.742472e+01</td>\n",
       "      <td>6.799758e+01</td>\n",
       "      <td>3.473647e+03</td>\n",
       "      <td>4.486096e+01</td>\n",
       "      <td>3.545529e+00</td>\n",
       "      <td>4.307970e-01</td>\n",
       "    </tr>\n",
       "    <tr>\n",
       "      <th>min</th>\n",
       "      <td>1.146161e-02</td>\n",
       "      <td>0.000000e+00</td>\n",
       "      <td>0.000000e+00</td>\n",
       "      <td>4.995114e+02</td>\n",
       "      <td>2.000000e+00</td>\n",
       "      <td>0.000000e+00</td>\n",
       "      <td>0.000000e+00</td>\n",
       "      <td>0.000000e+00</td>\n",
       "      <td>0.000000e+00</td>\n",
       "      <td>0.000000e+00</td>\n",
       "      <td>0.000000e+00</td>\n",
       "    </tr>\n",
       "    <tr>\n",
       "      <th>25%</th>\n",
       "      <td>2.678855e+01</td>\n",
       "      <td>0.000000e+00</td>\n",
       "      <td>2.000000e+00</td>\n",
       "      <td>2.838463e+03</td>\n",
       "      <td>5.960000e+02</td>\n",
       "      <td>1.100000e+01</td>\n",
       "      <td>0.000000e+00</td>\n",
       "      <td>1.100000e+02</td>\n",
       "      <td>0.000000e+00</td>\n",
       "      <td>0.000000e+00</td>\n",
       "      <td>0.000000e+00</td>\n",
       "    </tr>\n",
       "    <tr>\n",
       "      <th>50%</th>\n",
       "      <td>4.258805e+01</td>\n",
       "      <td>6.000000e+00</td>\n",
       "      <td>7.000000e+00</td>\n",
       "      <td>7.523749e+03</td>\n",
       "      <td>1.433000e+03</td>\n",
       "      <td>5.700000e+01</td>\n",
       "      <td>0.000000e+00</td>\n",
       "      <td>4.200000e+02</td>\n",
       "      <td>7.000000e+00</td>\n",
       "      <td>2.000000e+00</td>\n",
       "      <td>0.000000e+00</td>\n",
       "    </tr>\n",
       "    <tr>\n",
       "      <th>75%</th>\n",
       "      <td>6.250180e+01</td>\n",
       "      <td>1.200000e+01</td>\n",
       "      <td>1.400000e+01</td>\n",
       "      <td>1.264026e+04</td>\n",
       "      <td>2.606000e+03</td>\n",
       "      <td>1.370000e+02</td>\n",
       "      <td>1.000000e+00</td>\n",
       "      <td>9.460000e+02</td>\n",
       "      <td>3.100000e+01</td>\n",
       "      <td>5.000000e+00</td>\n",
       "      <td>0.000000e+00</td>\n",
       "    </tr>\n",
       "    <tr>\n",
       "      <th>max</th>\n",
       "      <td>1.800746e+02</td>\n",
       "      <td>9.500000e+01</td>\n",
       "      <td>3.000000e+01</td>\n",
       "      <td>4.752713e+04</td>\n",
       "      <td>3.681400e+04</td>\n",
       "      <td>7.410000e+02</td>\n",
       "      <td>1.045000e+03</td>\n",
       "      <td>2.571200e+04</td>\n",
       "      <td>1.196000e+03</td>\n",
       "      <td>3.900000e+01</td>\n",
       "      <td>1.000000e+00</td>\n",
       "    </tr>\n",
       "  </tbody>\n",
       "</table>\n",
       "</div>"
      ]
     },
     "execution_count": 16,
     "metadata": {},
     "output_type": "execute_result"
    }
   ],
   "execution_count": 16
  },
  {
   "metadata": {},
   "cell_type": "markdown",
   "source": "Now I will be repeating what I did in the last chunk but for TopFD using the prsm file specifically for FlashDeconv",
   "id": "3ae32e934314a343"
  },
  {
   "metadata": {
    "ExecuteTime": {
     "end_time": "2025-05-04T13:25:33.849586Z",
     "start_time": "2025-05-04T13:24:27.592064Z"
    }
   },
   "cell_type": "code",
   "source": [
    "import pandas as pd\n",
    "# Load the dataset\n",
    "file_path_2 = \"20250213-1551-FLASH-TopPIC-FullDB-all_prsm_single.tsv\"  # Update with correct file path\n",
    "df_prsm_hit_flash = pd.read_csv(file_path_2, sep=\"\\t\", skiprows=43, engine=\"python\", dtype=str)\n",
    "\n",
    "# Check the first few rows to ensure it loaded correctly\n",
    "#print(df_prsm_hit_flash.head())"
   ],
   "id": "f348d1e25bbce0a5",
   "outputs": [],
   "execution_count": 12
  },
  {
   "metadata": {
    "ExecuteTime": {
     "end_time": "2025-05-04T13:25:58.281498Z",
     "start_time": "2025-05-04T13:25:54.671659Z"
    }
   },
   "cell_type": "code",
   "source": [
    "# Load the TDAuditor dataset\n",
    "tdauditor_file_2 = \"/Users/user/PycharmProjects/TDAuditor/20250430-TDAuditor-TSVs-TopFD-FLASH-PSPDXtract/TDAuditor-FLASHDeconv-byMSn.tsv\"  # Update with actual path\n",
    "tdauditor_flash = pd.read_csv(tdauditor_file_2, delimiter=\"\\t\")\n",
    "print(tdauditor_flash.head())\n",
    "# Extract the filenames from TDAuditor\n",
    "tdauditor_filenames_f = set(tdauditor_flash[\"SourceFile\"])  # Update column name\n",
    "print(tdauditor_filenames_f)"
   ],
   "id": "7b3ff01e01370a03",
   "outputs": [
    {
     "name": "stdout",
     "output_type": "stream",
     "text": [
      "                                     SourceFile  \\\n",
      "0  06102019_RVG262_PLRPS_FAIMS_CV_Neg100_F1_CD3   \n",
      "1  06102019_RVG262_PLRPS_FAIMS_CV_Neg100_F1_CD3   \n",
      "2  06102019_RVG262_PLRPS_FAIMS_CV_Neg100_F1_CD3   \n",
      "3  06102019_RVG262_PLRPS_FAIMS_CV_Neg100_F1_CD3   \n",
      "4  06102019_RVG262_PLRPS_FAIMS_CV_Neg100_F1_CD3   \n",
      "\n",
      "                                       NativeID  ScanNumber  ScanStartTime  \\\n",
      "0   controllerType=0 controllerNumber=1 scan=21          21       0.681169   \n",
      "1   controllerType=0 controllerNumber=1 scan=83          83       2.624363   \n",
      "2   controllerType=0 controllerNumber=1 scan=96          96       3.050480   \n",
      "3  controllerType=0 controllerNumber=1 scan=112         112       3.569240   \n",
      "4  controllerType=0 controllerNumber=1 scan=202         202       6.378995   \n",
      "\n",
      "  mzMLDissociation  MatchedToDeconvolution  mzMLPreZ  mzMLSelectedIon  \\\n",
      "0              HCD                   False         1       775.334290   \n",
      "1              HCD                   False         3       775.301880   \n",
      "2              HCD                   False         2       731.344910   \n",
      "3              HCD                   False         1      1093.244995   \n",
      "4              HCD                   False         2       775.260071   \n",
      "\n",
      "   mzMLMassResolvingPower  DeconvPreZ  DeconvPreMass  mzMLPeakCount  \\\n",
      "0                   60000           0            NaN             14   \n",
      "1                   60000           0            NaN             21   \n",
      "2                   60000           0            NaN             19   \n",
      "3                   60000           0            NaN             19   \n",
      "4                   60000           0            NaN             22   \n",
      "\n",
      "   DeconvPeakCount  Degree  ComponentNumber  AALinkCount  LongestTag  \n",
      "0                0       0                0            0           0  \n",
      "1                0       0                0            0           0  \n",
      "2                0       0                0            0           0  \n",
      "3                0       0                0            0           0  \n",
      "4                0       0                0            0           0  \n",
      "{'20180826_rmi049_75idPLRPS_APA_CD3_IEX_FT_F3_b', '20181116_rmi049_75idPLRPS_APA_Platelets_PM_F7_a', '20181030_rmi049_75idPLRPS_APA_CD3_IEX_500_F4_b', 'LCA_RM_20191129_Nuc_Bpos_CD19_F2_02', 'LCA_05212018_NRTDP_Allen_CD8B1F3_CID', 'LCA_RM_20191129_Nuc_Bpos_CD19_F1_01', '20180615_rmi049_75idPLRPS_APA_PBMC_100_F5_a', 'LCA_08212018_CD3_200_F2_CID_02', '20180615_rmi049_75idPLRPS_APA_PBMC_700_F4_a', '16mar2019_RVG262_APA_CD3_F1_PLRPS_FAIMS_HH_P35', '20190410_rmi049_75idPLRPS_APA_Neutro_Cyto_F1_c', '20200214_rmi049_75umPLRPS_Allen_CD3_F1_a', '20181116_rmi049_75idPLRPS_APA_Platelets_PM_F2_b', '20190107_rvg262_75idPLRPS_APA_CD3_F1_T3', '20180615_rmi049_75idPLRPS_APA_PBMC_700_F1_d', '20170309_ksn5514_FACS_BC_RP4H_10547771_D3_T_SEP_tech_rep_03', 'LCA_RM_20191004_Plasma_F8Aonly_02', '081018_RVG262_PGAFF_RP4H_Neutros_GelFREE_8pF1_FAIMS_CV_40_006', '20170309_ksn5514_FACS_BC_RP4H_10547771_D3_B_FACS_tech_rep_03', '20180929_rmi049_75idPLRPS_APA_DC_Nuc_F3_b', '20181116_rmi049_75idPLRPS_APA_Platelets_PM_F7_c', '20200214_rmi049_75umPLRPS_Allen_CD3_F1_c', '20180525_rmi049_APA_PLRPS_PBMC-test_Fraction_03_20-40_a', '20190410_rmi049_75idPLRPS_APA_Neutro_Cyto_F6_b', '20190225_rmi049_75idPLRPS_APA_Mono_CD14_CD16-_Neg_Nuc_F2_a', '20181116_rmi049_75idPLRPS_APA_Platelets_PM_F4_a', 'DSB_RM_20191010_Nuc_CD3_F7_01', 'LCA_RM_20191007_Nuc_CD4_F4_01', '20180813_rmi049_75idPLRPS_APA_RBC_PM_F9_b', '20190410_rmi049_75idPLRPS_APA_Neutro_Cyto_F6_a', '20180927_rmi049_75idPLRPS_APA_Macrophage_Nuc_F2_b', '20180813_rmi049_75idPLRPS_APA_RBC_PM_F5_a', '20180828_rmi049_75idPLRPS_APA_CD3_IEX_200_F5_a', '20mar2019_RVG262_APA_CD3_NUC_PLRPS_FAIMS_HH_P10_20190321190139', 'LCA_05222018_NRTDP_Allen_CD8B2F5_ETD', '20mar2019_RVG262_APA_CD3_NUC_PLRPS_FAIMS_HH_M15', '20180821_rmi049_75idPLRPS_APA_NK_Nucl_F6_a', '20190221_rmi049_75idPLRPS_APA_Mono_CD14__Pos_Cyto_F3_b', 'DSB_RM_20191010_Nuc_CD3_F9_02', '20190225_rmi049_75idPLRPS_APA_Mono_CD14_CD16-_Neg_Nuc_F3_c', '20180525_rmi049_APA_PLRPS_PBMC-test_Fraction_02_15-45_a', 'RM_20190806_CD8_F6_01', '20181010_rmi049_75idPLRPS_APA_Mono_Cyto_F1_b', 'LCA_11142018_APA_DS48_CD34_C1F7_02_8uSMS1_2uSMS2', '20170307_ksn5514_FACS_BC_RP4H_10547771_D1_B_FACS_tech_rep_03', '20180615_rmi049_75idPLRPS_APA_PBMC_400_F3_b', '20170309_ksn5514_FACS_BC_RP4H_10547771_B_SEP_biorep_03_techrep_02', '20141110_RP-4H_5E6Bcells_10pctGF_120min_top2DD_HCD_GF03_inj01', 'DB_RM_20191002_plasma_F3_02', 'LCA_RM_20191012_PPM_F7F8_01', '20170309_ksn5514_FACS_BC_RP4H_10547771_T_SEP_biorep_01_techrep_01', '20190221_rmi049_75idPLRPS_APA_Mono_CD14__Pos_Cyto_F4_a', '20181116_rmi049_75idPLRPS_APA_Platelets_PM_F1_c', '20190521_rmi049_75idPLRPS_APA_CD4_Cyto_F5_c', '20180923_rmi049_75idPLRPS_APA_DC_Cyto_F4_b', 'DSB_RM_20191010_Nuc_CD3_F5_01', 'RM_20190802_TCells_CD3pos_F4_02', '20181010_rmi049_75idPLRPS_APA_Mono_Cyto_F6_c', 'LCA_08252018_CD3_1M_F1_CID_01', 'LCA_08262018_CD3_1M_F7_CID_01', 'LCA_08092018_CD3_FT_F1_ETD_02', '20181120_rmi049_75idPLRPS_APA_RBC_Water-U_grad28-38_a', '06102019_RVG262_PLRPS_FAIMS_CV__F2_NOFAIMS_CD3_T5', '06102019_RVG262_PLRPS_FAIMS_CV_noFAIMS_F1_CD3_Tech10', 'LCA_05202018_NRTDP_Allen_CD8B1F5_ETD', 'DSB_20181116_APA_DS46_F2_01', 'RM_20190804_TCells_CD19CD20_F1F2_02', 'RM_20190731_Tcells_CD8pos_F4_02', 'DSB_RM_20191010_Nuc_CD3_F6_01', '081418_RVG262_PGAFF_RP4H_Neutros_FT_FAIMS_CV_60_029', 'DSB_RM_20191010_Nuc_CD3_F8_01', '20180615_rmi049_75idPLRPS_APA_PBMC_FT_F2_b', '06102019_RVG262_PLRPS_FAIMS_CV_zero_F1_CD3', 'LCA_11172018_APA_DS46_F7_01', '20200214_rmi049_75umPLRPS_Allen_CD3_F4_c', 'RM_20190806_CD4_F5_01', 'LCA_11102018_APA_DS45_F7A_02', '20190221_rmi049_75idPLRPS_APA_Mono_CD14__Pos_Cyto_F1_b', '20180813_rmi049_75idPLRPS_APA_RBC_PM_F11_b', '20181116_rmi049_75idPLRPS_APA_Platelets_PM_F3_b', '20180615_rmi049_75idPLRPS_APA_PBMC_400_F2_a', '20180927_rmi049_75idPLRPS_APA_Macrophage_Nuc_F6_c', '20190227_rmi049_75idPLRPS_APA_Mono_CD14__Pos_Nuc_F2_c', '20180824_rmi049_75idPLRPS_APA_Plasma_PM_F10_a', 'LCA_RM_20191127_Nuc_NK_F2_02', 'LCA_05212018_NRTDP_Allen_CD8B1F3_ETD', '20181116_rmi049_75idPLRPS_APA_Platelets_PM_F7_b', '20190221_rmi049_75idPLRPS_APA_Mono_CD14_CD16-_Neg_Cyto_F4_c', 'LCA_08252018_CD3_1M_F4_CID_01', '20181116_rmi049_75idPLRPS_APA_Platelets_PM_F8_c', '20190410_rmi049_75idPLRPS_APA_Neutro_Cyto_F4_b', 'LCA_05182018_NRTDP_Allen_CD4B2F1_CID', 'LCA_08262018_CD3_1M_F8_CID_02', 'LCA_05192018_NRTDP_Allen_CD4B2-2F2_ETD', '20180927_rmi049_75idPLRPS_APA_Macrophage_Nuc_F5_a', '06102019_RVG262_PLRPS_FAIMS_CV_neg70_F1_CD3', 'LCA_05202018_NRTDP_Allen_CD8B1F2_ETD', '20190523_rmi049_75idPLRPS_APA_Neutro_Cyto_F1_c', '20190225_rmi049_75idPLRPS_APA_Mono_CD14_CD16-_Neg_Nuc_F5_b', '20180615_rmi049_75idPLRPS_APA_PBMC_100_F5_b', '20181116_rmi049_75idPLRPS_APA_Platelets_PM_F10_c', '20181020_rmi049_75idPLRPS_APA_T-Reg_Nuc_F5_a', '20181018_rmi049_75idPLRPS_APA_T-Reg_Cyto_F1_c', '20181030_rmi049_75idPLRPS_APA_CD3_IEX_500_F5_a', 'LCA_11172018_APA_DS46_F8_01', 'RM_20190801_NK_F3_02', '20181105_rmi049_75idPLRPS_APA_CD34_Cyto_F3_c', '20181121_rmi049_75idPLRPS_APA_Treg_Cyto_F5_b', '20181103_rmi049_75idPLRPS_APA_Platelets_GF12_F3_b', '20190227_rmi049_75idPLRPS_APA_Mono_CD14__Pos_Nuc_F3_c', '20181116_rmi049_75idPLRPS_APA_Platelets_PM_F8_a', 'RM_20190806_CD19neg_F5_01', '20190523_rmi049_75idPLRPS_APA_Neutro_Cyto_F2_c', '20180826_rmi049_75idPLRPS_APA_CD3_IEX_FT_F6_a', '20180828_rmi049_75idPLRPS_APA_CD3_IEX_200_F6_c', 'LCA_RM_20191009_Nuc_CD3_F3_01', '20181030_rmi049_75idPLRPS_APA_CD3_IEX_500_F3_a', '20181103_rmi049_75idPLRPS_APA_Platelets_GF12_F3_c', 'LCA_11172018_APA_NK_C7_01', '20181103_rmi049_75idPLRPS_APA_Platelets_GF12_F7_a', '20181101_rmi049_75idPLRPS_APA_CD3_IEX_1M_F4_b', 'LCA_05202018_NRTDP_Allen_CD8B1F5_CID', '16mar2019_RVG262_APA_CD3_F1_PLRPS_FAIMS_HH_P40', '081018_RVG262_PGAFF_RP4H_Neutros_GelFREE_8pF1_FAIMS_CV_-120_010', 'LCA_11142018_APA_DS48_CD34_C1F8_02_8uSMS1_2uSMS2', '20180813_rmi049_75idPLRPS_APA_RBC_PM_F5_b', '20181018_rmi049_75idPLRPS_APA_T-Reg_Cyto_F4_a', '20150930_TDQ_BC_Memory_techrep_05', '20181010_rmi049_75idPLRPS_APA_Mono_Cyto_F5_c', 'LCA_05172018_NRTDP_Allen_CD8B2F1_CID', '20mar2019_RVG262_APA_CD3_NUC_PLRPS_FAIMS_HH_M20', 'LCA_11132018_APA_DS48_CD34_C1F6_01_4uSMS1', '20170309_ksn5514_FACS_BC_RP4H_10547771_D3_B_SEP_tech_rep_01', '20191117_rmi049_75idPLRPS_CD3_Cyto_8pc_F1_120k_a', '20180920_rmi049_75idPLRPS_APA_Macrophage_Cyto_F6_b', '20181018_rmi049_75idPLRPS_APA_T-Reg_Cyto_F2_b', 'LCA_RM_20191129_Nuc_Bpos_CD19_F3_01', 'LCA_11102018_APA_DS47_F5A_01_1E6', '20181002_rmi049_75idPLRPS_APA_DC_Nuc_F1_a', 'RM_20190809_CD4_F7_02', '081018_RVG262_PGAFF_RP4H_Neutros_GelFREE_8pF1_FAIMS_CV_-70_021', '20181010_rmi049_75idPLRPS_APA_Mono_Cyto_F3_b', '20180821_rmi049_75idPLRPS_APA_NK_Nucl_F5_c', '20170309_ksn5514_FACS_BC_RP4H_10547771_D1_B_SEP_tech_rep_01', '20181107_rmi049_75idPLRPS_APA_CD34_Nuc_F3_b', '20180929_rmi049_75idPLRPS_APA_DC_Nuc_F5_c', '20180615_rmi049_75idPLRPS_APA_PBMC_100_F1_b', '20180615_rmi049_75idPLRPS_APA_PBMC_400_F3_c', '06102019_RVG262_PLRPS_FAIMS_CV_neg50_F1_CD3', '20181103_rmi049_75idPLRPS_APA_Platelets_GF12_F8_b', 'RM_20190731_Tcells_CD8pos_F4_01', '20170309_ksn5514_FACS_BC_RP4H_10547771_D2_B_FACS_tech_rep_03', '20190227_rmi049_75idPLRPS_APA_Mono_CD14__Pos_Nuc_F5_c', '20190227_rmi049_75idPLRPS_APA_Mono_CD14__Pos_Nuc_F4_a', 'LCA_05182018_NRTDP_Allen_CD8B1F6_CID', 'RM_20190808_CD19CD20_F5F6_02', '20180923_rmi049_75idPLRPS_APA_DC_Cyto_F1_a', '20180920_rmi049_75idPLRPS_APA_Macrophage_Cyto_F5_a', '081418_RVG262_PGAFF_RP4H_Neutros_FT_FAIMS_CV_40_027', 'LCA_08212018_CD3_200_F3_CID_01', '20181022_rmi049_75idPLRPS_APA_Mono_Nuc_F4_c', 'LCA_08112018_CD3_FT_F5_CID_02', '20180615_rmi049_75idPLRPS_APA_PBMC_400_F2_b', '20180824_rmi049_75idPLRPS_APA_Plasma_PM_F12_a', '19MAR2019_RVG262_APA_CD3_F2_PLRPS_noFAIMS_HH_2', '20180925_rmi049_75idPLRPS_APA_EOS_Cyto_F1_c', '20200214_rmi049_75umPLRPS_Allen_CD3_F2_b', 'LCA_RM_20190928_cyto_neutrophil_F5_01', '20190107_rvg262_75idPLRPS_APA_CD3_F1_T1_20190109062616', '20190227_rmi049_75idPLRPS_APA_Mono_CD14__Pos_Nuc_F1_a', '20190107_rvg262_75idPLRPS_APA_CD3_F3_T3_20190109001049', '20181030_rmi049_75idPLRPS_APA_CD3_IEX_500_F1_b', 'LCA_RM_20191006_Platelets_F5AB_01', 'LCA_RM_20191012_PPM_F5F6_02', '20181105_rmi049_75idPLRPS_APA_CD34_Cyto_F4_c', '20190227_rmi049_75idPLRPS_APA_Mono_CD14__Pos_Nuc_F5_a', '20180826_rmi049_75idPLRPS_APA_CD3_IEX_FT_F2_a', '20180615_rmi049_75idPLRPS_APA_PBMC_100_F1_d', '20181107_rmi049_75idPLRPS_APA_CD34_Nuc_F6_c', 'LCA_08112018_CD3_FT_F8_CID_01', 'RM_20190801_NK_F1_04', '20190227_rmi049_75idPLRPS_APA_Mono_CD14__Pos_Nuc_F4_c', 'LCA_05222018_NRTDP_Allen_CD4B2F3_ETD', '081418_RVG262_PGAFF_RP4H_Neutros_1000_FAIMS_CV__10_20_30_60K_30K_062', 'RM_20190730_Tcells_CD4pos_F4_02', '20150927_BM_sort_2E6_CD19_pool_techrep03', '20141016_RP-4H_15E5Bcells_180min_top2DD_HCD', '20181107_rmi049_75idPLRPS_APA_CD34_Nuc_F1_a', '20180923_rmi049_75idPLRPS_APA_DC_Cyto_F2_b', '06102019_RVG262_PLRPS_FAIMS_CV__F2_CD3_0L_Neg20', '20180615_rmi049_75idPLRPS_APA_PBMC_400_F6_c', 'LCA_08222018_CD3_200_F8_CID_02', '20150927_BM_sort_2E6_CD19_pool_techrep01', 'LCA_RM_20191127_Nuc_NK_F1_01', '20190410_rmi049_75idPLRPS_APA_Neutro_Cyto_F3_b', 'LCA_08242018_CD3_500_F7_CID_01', '081418_RVG262_PGAFF_RP4H_Neutros_FT_FAIMS_CV__10_20_30_60K_30K_048', '20180828_rmi049_75idPLRPS_APA_CD3_IEX_200_F2_c', '20180920_rmi049_75idPLRPS_APA_Macrophage_Cyto_F4_a', 'LCA_08112018_CD3_FT_F7_CID_02', 'LCA_11102018_APA_DS47_F5A_02_3E6', '20180615_rmi049_75idPLRPS_APA_PBMC_700_F2_b', '06102019_RVG262_PLRPS_FAIMS_CV__F2_NOFAIMS_CD3_T2', '20180824_rmi049_75idPLRPS_APA_Plasma_PM_F12_c', '20170309_ksn5514_FACS_BC_RP4H_10547771_D3_B_FACS_tech_rep_02', '18mar2019_RVG262_APA_CD3_F3n4_PLRPS_FAIMS_HH_zero', '16mar2019_RVG262_APA_CD3_cyto_PLRPS_FAIMS_HH_p30', 'LCA_05172018_NRTDP_Allen_CD4B1F4_CID', 'RM_20190728_Bcells_CD19pos_F2_02', '081418_RVG262_PGAFF_RP4H_Neutros_FT_FAIMS_CV_-110_034', '20181103_rmi049_75idPLRPS_APA_Platelets_GF12_F7_c', 'RM_20190803_TCells_CD19neg_F2_01', '20180615_rmi049_75idPLRPS_APA_PBMC_200_F1_d', '20180927_rmi049_75idPLRPS_APA_Macrophage_Nuc_F6_b', 'DSB_20181115_APA_DS47_mono_F3_02', 'RM_20190810_NK_F7_02', '20181020_rmi049_75idPLRPS_APA_T-Reg_Nuc_F4_a', '06102019_RVG262_PLRPS_FAIMS_CV_noFAIMS_F1_CD3_Tech6', 'LCA_08112018_CD3_FT_F6_CID_02', '20181020_rmi049_75idPLRPS_APA_T-Reg_Nuc_F3_c', '20190221_rmi049_75idPLRPS_APA_Mono_CD14__Pos_Cyto_F5_a', 'LCA_05222018_NRTDP_Allen_CD4B1F6_CID', '20180925_rmi049_75idPLRPS_APA_EOS_Cyto_F5_b', 'LCA_08262018_CD3_FT_F4_ETD_03', '20190419_RM_NK_Cyto_F2_c', '20181018_rmi049_75idPLRPS_APA_T-Reg_Cyto_F3_a', '081018_RVG262_PGAFF_RP4H_Neutros_GelFREE_8pF1_FAIMS_CV_-50_019', '20181101_rmi049_75idPLRPS_APA_CD3_IEX_1M_F3_b', '20190225_rmi049_75idPLRPS_APA_Mono_CD14_CD16-_Neg_Nuc_F1_a_20190225203603', '081018_RVG262_PGAFF_RP4H_Neutros_GelFREE_8pF1_FAIMS_CV_50_012', 'LCA_RM_20191012_PPM_F3_04', '20190410_rmi049_75idPLRPS_APA_Neutro_Cyto_F5_c', '20180525_rmi049_APA_PLRPS_PBMC-test_Fraction_05_15-45_c', '20180923_rmi049_75idPLRPS_APA_DC_Cyto_F2_a', '20190517_rmi049_75idPLRPS_APA_B_Cyto_F6_c', '20180923_rmi049_75idPLRPS_APA_DC_Cyto_F5_b', 'LCA_11182018_APA_DS17_Treg_F7p2_01', 'RM_20190804_TCells_CD19CD20_F3F4_03', '20181107_rmi049_75idPLRPS_APA_CD34_Nuc_F5_b', 'LCA_RM_20191008_Nuc_CD4_F9_01', 'DSB_RM_20191013_Nuc_CD8_F8_02', 'LCA_05232018_NRTDP_Allen_CD8B1F7_CID', '20180826_rmi049_75idPLRPS_APA_CD3_IEX_FT_F1_b', '20181105_rmi049_75idPLRPS_APA_CD34_Cyto_F1_c', '20180615_rmi049_75idPLRPS_APA_PBMC_FT_F4_a', '20190107_rvg262_75idPLRPS_APA_CD3_F1_T3_20190109093408', '20170309_ksn5514_FACS_BC_RP4H_10547771_B_SEP_biorep_01_techrep_02', '20170309_ksn5514_FACS_BC_RP4H_10547771_D1_T_SEP_tech_rep_01', '20170309_ksn5514_FACS_BC_RP4H_10547771_T_SEP_biorep_03_techrep_03', 'RM_20190806_CD8_F5_01', '20180927_rmi049_75idPLRPS_APA_Macrophage_Nuc_F6_a', '20180525_rmi049_APA_PLRPS_PBMC-test_Fraction_06_15-45_a', '20170307_ksn5514_FACS_BC_RP4H_10547771_D2_T_SEP_tech_rep_02', 'RM_20190802_TCells_CD3pos_F1_03', '06102019_RVG262_PLRPS_FAIMS_CV__F2_CD3_0L_Neg30', '20141016_RP-4H_15E5Bcells_120min_top2DD_HCD_02', 'LCA_RM_20191004_Plasma_F7Aonly_02', '20180824_rmi049_75idPLRPS_APA_Plasma_PM_F11_a', '20181103_rmi049_75idPLRPS_APA_Platelets_GF12_F4_c', 'DSB_RM_20191013_Nuc_CD8_F8_01', '20181010_rmi049_75idPLRPS_APA_Mono_Cyto_F4_b', '081418_RVG262_PGAFF_RP4H_Neutros_FT_FAIMS_CV_-100_036', 'LCA_RM_20191127_Nuc_NK_F2_01', 'DB_RM_20191003_plasma_F5_01', 'DB_RM_20191003_PlasmaPM_F2_02', 'RM_20190809_CD8_F7_02', '20181121_rmi049_75idPLRPS_APA_Treg_Cyto_F5_a', '20190225_rmi049_75idPLRPS_APA_Mono_CD14_CD16-_Neg_Nuc_F1_b_20190225220851', 'LCA_11142018_APA_DS47_mono_F7p3_01_8uSMS1_2uSMS2', 'RM_20190929_cyto_eosinophil_F2_02', '20180615_rmi049_75idPLRPS_APA_PBMC_100_F4_a', 'LCA_08092018_CD3_FT_F2_CID_01', '20mar2019_RVG262_APA_CD3_NUC_PLRPS_FAIMS_HH_zero', '081418_RVG262_PGAFF_RP4H_Neutros_FT_FAIMS_CV_-120_031', '20180525_rmi049_APA_PLRPS_PBMC-test_Fraction_04_20-40_a', '20150927_BM_sort_2E6_CD19_dimCD10_techrep03', 'DSB_RM_20191010_Nuc_CD3_F7_02', '20181116_rmi049_75idPLRPS_APA_Platelets_PM_F1_b', '20181030_rmi049_75idPLRPS_APA_CD3_IEX_500_F4_c', 'LCA_RM_20191006_Platelets_F6A_02', '20190517_rmi049_75idPLRPS_APA_B_Cyto_F1_c', '20190227_rmi049_75idPLRPS_APA_Mono_CD14__Pos_Nuc_F6_c', '20180817_rmi049_75idPLRPS_APA_NK_Cyto_F4_b', '20190410_rmi049_75idPLRPS_APA_Neutro_Cyto_F3_a', '20180821_rmi049_75idPLRPS_APA_NK_Nucl_F6_c', 'LCA_08232018_CD3_500_F4_CID_01', 'DSB_RM_20191130_Nuc_Bpos_CD19_F6_01', '16mar2019_RVG262_APA_CD3_F2_PLRPS_FAIMS_HH_P35', '20180813_rmi049_75idPLRPS_APA_RBC_PM_F3_a', '20181101_rmi049_75idPLRPS_APA_CD3_IEX_1M_F1_b', 'LCA_11182018_APA_DS10_Eos_F8p2_01', '20141110_RP-4H_5E6Bcells_10pctGF_120min_top2DD_HCD_GF02_inj01', '20150927_BM_sort_2E6_CD19_pool_techrep04', 'LCA_08212018_CD3_200_F1_CID_rescue_180821165104', 'LCA_08252018_CD3_1M_F3_CID_02', 'LCA_05182018_NRTDP_Allen_CD4B2F1_ETD', '20181103_rmi049_75idPLRPS_APA_Platelets_GF12_F3_a', '06102019_RVG262_PLRPS_FAIMS_CV__F1_CD3_0L_Neg20', '081018_RVG262_PGAFF_RP4H_Neutros_GelFREE_8pF1_FAIMS_CV_0_003', '20180920_rmi049_75idPLRPS_APA_Macrophage_Cyto_F3_a', '20180929_rmi049_75idPLRPS_APA_DC_Nuc_F3_a', 'LCA_RM_20191127_Nuc_NK_F6_01', 'RM_20190731_NK_F1_02', 'RM_20190805_TCells_CD3pos_F8_01', '20170309_ksn5514_FACS_BC_RP4H_10547771_B_FACS_biorep_02_techrep_03', '20180817_rmi049_75idPLRPS_APA_NK_Cyto_F4_a', '20180817_rmi049_75idPLRPS_APA_NK_Cyto_F5_a', 'LCA_08252018_CD3_1M_F2_CID_02', 'LCA_05212018_NRTDP_Allen_CD4B1F3_ETD', '16mar2019_RVG262_APA_CD3_F1_PLRPS_FAIMS_HH_zero', '20190221_rmi049_75idPLRPS_APA_Mono_CD14__Pos_Cyto_F3_a', 'DSB_20181115_APA_DS47_mono_F2_02', 'LCA_RM_20190928_cyto_neutrophil_F3_02', 'RM_20190805_TCells_CD3pos_F5_01', '20181107_rmi049_75idPLRPS_APA_CD34_Nuc_F4_a', '20170309_ksn5514_FACS_BC_RP4H_10547771_D1_T_SEP_tech_rep_03', '20190523_rmi049_75idPLRPS_APA_Neutro_Cyto_F5_b', 'RM_20190802_TCells_CD3pos_F1_02', 'RM_20190731_NK_F1_01', '20180615_rmi049_75idPLRPS_APA_PBMC_FT_F1_b', '16mar2019_RVG262_APA_CD3_cyto_PLRPS_FAIMS_HH_zero', '20180828_rmi049_75idPLRPS_APA_CD3_IEX_200_F5_c', '20190107_rvg262_75idPLRPS_APA_CD3_F4_T3', 'LCA_RM_20191127_Nuc_NK_F6_02', '20181103_rmi049_75idPLRPS_APA_Platelets_GF12_F2_c', '20190221_rmi049_75idPLRPS_APA_Mono_CD14_CD16-_Neg_Cyto_F3_c', '20190521_rmi049_75idPLRPS_APA_CD4_Cyto_F6_c', '20190107_rvg262_75idPLRPS_APA_CD3_F2_T3_20190108192909', 'LCA_11092018_APA_DS45_F5A_02', '20181107_rmi049_75idPLRPS_APA_CD34_Nuc_F2_b', 'RM_20190803_TCells_CD19neg_F3_01', '06102019_RVG262_PLRPS_FAIMS_CV__F1_CD3_0L_Neg10', 'LCA_08262018_CD3_1M_F6_CID_01', '20180826_rmi049_75idPLRPS_APA_CD3_IEX_FT_F6_c', '20180615_rmi049_75idPLRPS_APA_PBMC_100_F6_b', '16mar2019_RVG262_APA_CD3_F1_PLRPS_FAIMS_HH_M20', '20180615_rmi049_75idPLRPS_APA_PBMC_700_F3_a', '20180925_rmi049_75idPLRPS_APA_EOS_Cyto_F1_b', 'LCA_RM_20191002_plasma_F1F2_02', 'LCA_RM_20191005_Platelets_F1AB_01', '081418_RVG262_PGAFF_RP4H_Neutros_500__FAIMS_CV_-50-40-30_054', '20180925_rmi049_75idPLRPS_APA_EOS_Cyto_F3_b', '20190107_rvg262_75idPLRPS_APA_CD3_F1_T1_20190107161827', '20190419_RM_NK_Cyto_F4_b', '20180813_rmi049_75idPLRPS_APA_RBC_PM_F11_a', '20180615_rmi049_75idPLRPS_APA_PBMC_700_F6_c', '20180930_rmi049_75idPLRPS_APA_EOS_Nuc_F1_a', '20181120_rmi049_75idPLRPS_APA_RBC_Water_grad22-45_a', 'RM_20190806_CD8_F5_02', '20170309_ksn5514_FACS_BC_RP4H_10547771_T_FACS_biorep_03_techrep_03', '20180817_rmi049_75idPLRPS_APA_NK_Cyto_F1_a_20180818060053', 'RM_20190805_TCells_CD3pos_F5_02', 'LCA_RM_20191005_Platelets_F3AB_02', '20190517_rmi049_75idPLRPS_APA_B_Cyto_F4_a', '20180615_rmi049_75idPLRPS_APA_PBMC_700_F1_a', '20180615_rmi049_75idPLRPS_APA_PBMC_700_F1_c', 'LCA_RM_20191004_Plasma_F7Aonly_01', 'RM_20190801_NK_F2_03', 'DSB_RM_20191130_Nuc_Bpos_CD19_F8_02', '20190523_rmi049_75idPLRPS_APA_Neutro_Cyto_F2_b', 'RM_20190809_CD8_F7_01', 'DSB_RM_20191011_Nuc_CD8_F2_02', 'LCA_05192018_NRTDP_Allen_CD4B2-2F2_CID', 'LCA_RM_20191002_plasma_F1F2_01', 'LCA_RM_20191006_Platelets_F8A_01', 'LCA_RM_20191008_Nuc_CD4_F5_02', '20190521_rmi049_75idPLRPS_APA_CD4_Cyto_F2_a', '20181101_rmi049_75idPLRPS_APA_CD3_IEX_1M_F4_a', '06102019_RVG262_PLRPS_FAIMS_CV_noFAIMS_F1_CD3_Tech5', '20190227_rmi049_75idPLRPS_APA_Mono_CD14__Pos_Nuc_F3_b', '20mar2019_RVG262_APA_CD3_NUC_PLRPS_FAIMS_HH_P35', '20170307_ksn5514_FACS_BC_RP4H_10547771_D3_T_FACS_tech_rep_02', '18mar2019_RVG262_APA_CD3_F3n4_PLRPS_FAIMS_HH_M10', '20190523_rmi049_75idPLRPS_APA_Neutro_Cyto_F1_a', '20200214_rmi049_75umPLRPS_Allen_CD3_F5_a', '20180615_rmi049_75idPLRPS_APA_PBMC_700_F5_a', 'LCA_05182018_NRTDP_Allen_CD4B2F4_ETD', 'LCA_08242018_CD3_500_F8_CID_01', 'RM_20190929_cyto_eosinophil_F2_01', '20190517_rmi049_75idPLRPS_APA_B_Cyto_F5_c', '20190521_rmi049_75idPLRPS_APA_CD4_Cyto_F1_b', '081418_RVG262_PGAFF_RP4H_Neutros_FT_FAIMS_CV_10_037', '20180525_rmi049_APA_PLRPS_PBMC-test_Fraction_05_15-45_a', '20181116_rmi049_75idPLRPS_APA_Platelets_PM_F5_a', '20181116_rmi049_75idPLRPS_APA_Platelets_PM_F2_c', 'LCA_08092018_CD8_FT_F3_ETD_02', '20190517_rmi049_75idPLRPS_APA_B_Cyto_F4_c', 'RM_20190729_Tcells_CD4pos_F2_02', '20180821_rmi049_75idPLRPS_APA_NK_Nucl_F4_a', '20200214_rmi049_75umPLRPS_Allen_CD3_F2_a', '06102019_RVG262_PLRPS_FAIMS_CV__F2_CD3_0L_Plus10', 'DB_RM_20191003_plasma_F6_02', 'LCA_11102018_APA_DS47_F5A_01_3E6', '20mar2019_RVG262_APA_CD3_NUC_PLRPS_FAIMS_HH_P15', '20180828_rmi049_75idPLRPS_APA_CD3_IEX_200_F1_c', 'LCA_08232018_CD3_500_F1_CID_02', 'LCA_05212018_NRTDP_Allen_CD4B1F3_CID', 'RM_20190810_CD19pos_F7_02', 'RM_20190730_Tcells_CD4pos_F3_01', '20190221_rmi049_75idPLRPS_APA_Mono_CD14_CD16-_Neg_Cyto_F5_b', '20180525_rmi049_APA_PLRPS_PBMC-test_Fraction_05_20-40_a', '20181101_rmi049_75idPLRPS_APA_CD3_IEX_1M_F1_c', 'LCA_05172018_NRTDP_Allen_CD4B2F2_CID', '20170309_ksn5514_FACS_BC_RP4H_10547771_D2_B_SEP_tech_rep_03', '20190517_rmi049_75idPLRPS_APA_B_Cyto_F2_a', '20181018_rmi049_75idPLRPS_APA_T-Reg_Cyto_F5_a', '20180826_rmi049_75idPLRPS_APA_CD3_IEX_FT_F5_c', '06102019_RVG262_PLRPS_FAIMS_CV_neg10_F1_CD3', 'LCA_RM_20191008_Nuc_CD4_F9_02', '20mar2019_RVG262_APA_CD3_NUC_PLRPS_FAIMS_HH_M5', '20180615_rmi049_75idPLRPS_APA_PBMC_100_F2_a', '20181101_rmi049_75idPLRPS_APA_CD3_IEX_1M_F5_b', 'LCA_11172018_APA_DS46_F7_02', '20190410_rmi049_75idPLRPS_APA_Neutro_Cyto_F5_b', '20190410_rmi049_75idPLRPS_APA_Neutro_Cyto_F5_a', 'LCA_11182018_APA_DS17_Treg_F7p2_02', '20181002_rmi049_75idPLRPS_APA_DC_Nuc_F2_b', '18mar2019_RVG262_APA_CD3_F3n4_PLRPS_FAIMS_HH_M20', 'LCA_RM_20191009_Nuc_CD3_F1_01', '20180929_rmi049_75idPLRPS_APA_DC_Nuc_F5_a', '20150927_BM_sort_2E6_CD19_midCD10_techrep02', '20190521_rmi049_75idPLRPS_APA_CD4_Cyto_F2_c', '20180813_rmi049_75idPLRPS_APA_RBC_PM_F9_c', 'RM_20190808_CD19CD20_F5F6_newGrad_03', '06102019_RVG262_PLRPS_FAIMS_CV_noFAIMS_F1_CD3_Tech1', 'RM_20190731_NK_F1_03', '20180930_rmi049_75idPLRPS_APA_EOS_Nuc_F3_a', 'LCA_RM_20191004_Plasma_F9Aonly_02', '20180813_rmi049_75idPLRPS_APA_RBC_PM_F12_b', '20181020_rmi049_75idPLRPS_APA_T-Reg_Nuc_F2_b', 'LCA_05222018_NRTDP_Allen_CD4B1F1_ETD', '16mar2019_RVG262_APA_CD3_cyto_PLRPS_FAIMS_HH_p50', '06102019_RVG262_PLRPS_FAIMS_CV__F2_NOFAIMS_CD3_T7', '20190419_RM_NK_Cyto_F2_b', '20180821_rmi049_75idPLRPS_APA_NK_Nucl_F2_a', 'LCA_RM_20190928_cyto_neutrophil_F6_02', 'LCA_RM_20191127_Nuc_NK_F3_01', '081418_RVG262_PGAFF_RP4H_Neutros_200_FAIMS_CV_-50-40-30_050', '20180826_rmi049_75idPLRPS_APA_CD3_IEX_FT_F6_b', 'LCA_08242018_CD3_500_F6_CID_02', 'LCA_08232018_CD3_500_F3_CID_02', 'RM_20190811_CD19CD20_F7F8_01', 'LCA_11122018_APA_DS48_CD34_C1F3_1p5E6_01', 'DSB_RM_20191011_Nuc_CD8_F1_02', '20190419_RM_NK_Cyto_F5_c', '20170309_ksn5514_FACS_BC_RP4H_10547771_T_SEP_biorep_01_techrep_02', 'RM_20190805_TCells_CD3pos_F7_02', '20170309_ksn5514_FACS_BC_RP4H_10547771_T_FACS_biorep_02_techrep_02', '20181116_rmi049_75idPLRPS_APA_Platelets_PM_F6_c', '20170309_ksn5514_FACS_BC_RP4H_10547771_D2_T_FACS_tech_rep_01', 'LCA_11122018_APA_DS48_CD34_C1F1_1p5E6_02', '20181022_rmi049_75idPLRPS_APA_Mono_Nuc_F3_c', '20170309_ksn5514_FACS_BC_RP4H_10547771_D1_T_SEP_tech_rep_02', '20190227_rmi049_75idPLRPS_APA_Mono_CD14__Pos_Nuc_F6_a', '20180821_rmi049_75idPLRPS_APA_NK_Nucl_F6_b', '20180828_rmi049_75idPLRPS_APA_CD3_IEX_200_F2_b', '20181018_rmi049_75idPLRPS_APA_T-Reg_Cyto_F3_b', '20180930_rmi049_75idPLRPS_APA_EOS_Nuc_F5_b', '20181101_rmi049_75idPLRPS_APA_CD3_IEX_1M_F6_b', '20180813_rmi049_75idPLRPS_APA_RBC_PM_F12_c', '20190221_rmi049_75idPLRPS_APA_Mono_CD14__Pos_Cyto_F5_c', '20180923_rmi049_75idPLRPS_APA_DC_Cyto_F1_c', 'LCA_RM_20191012_PPM_F4_03', 'RM_20190805_TCells_CD3pos_F7_01', '20181105_rmi049_75idPLRPS_APA_CD34_Cyto_F3_b_2', 'DSB_RM_20191011_Nuc_CD8_F4_02', '20200214_rmi049_75umPLRPS_Allen_CD3_F5_b', '20180615_rmi049_75idPLRPS_APA_PBMC_200_F3_b', '20180824_rmi049_75idPLRPS_APA_Plasma_PM_F12_d', '20180525_rmi049_APA_PLRPS_PBMC-test_Fraction_01_15-45_c', 'LCA_11102018_APA_DS46_F6A_01_4uSMS1', '20180615_rmi049_75idPLRPS_APA_PBMC_700_F6_b', '081018_RVG262_PGAFF_RP4H_Neutros_GelFREE_8pF1_FAIMS_CV_-60_009', 'LCA_RM_20191008_Nuc_CD4_F8_01', 'LCA_11092018_APA_DS45_F5A_01', 'RM_20190729_Tcells_CD4pos_F2_03', '20190523_rmi049_75idPLRPS_APA_Neutro_Cyto_F3_b', 'LCA_11122018_APA_DS48_CD34_C1F2_1p5E6_01', 'LCA_05202018_NRTDP_Allen_CD4B1F5_CID', 'LCA_08222018_CD3_200_F6_CID_01', '20141110_RP-4H_5E6Bcells_10pctGF_120min_top2DD_HCD_GF04_inj01', '20150927_BM_sort_2E6_CD19_highCD10_techrep01', '20181103_rmi049_75idPLRPS_APA_Platelets_GF12_F5_c', 'DB_RM_20191003_PlasmaPM_F1_02', 'LCA_RM_20191008_Nuc_CD4_F6_02', '20180525_rmi049_APA_PLRPS_PBMC-test_Fraction_01_15-45_b', 'LCA_08232018_CD3_500_F1_CID_01', '20mar2019_RVG262_APA_CD3_NUC_PLRPS_FAIMS_HH_P25', '20190221_rmi049_75idPLRPS_APA_Mono_CD14__Pos_Cyto_F5_b', '081018_RVG262_PGAFF_RP4H_Neutros_GelFREE_8pF1_FAIMS_CV_-110_013', '16mar2019_RVG262_APA_CD3_F2_PLRPS_FAIMS_HH_M10', '20190225_rmi049_75idPLRPS_APA_Mono_CD14_CD16-_Neg_Nuc_F3_a', '20181121_rmi049_75idPLRPS_APA_Treg_Cyto_F2_a', '20150927_BM_sort_2E6_CD19_highCD10_techrep03', '20170309_ksn5514_FACS_BC_RP4H_10547771_D1_B_SEP_tech_rep_03', '20181030_rmi049_75idPLRPS_APA_CD3_IEX_500_F3_c', '20180615_rmi049_75idPLRPS_APA_PBMC_700_F2_c', '20180817_rmi049_75idPLRPS_APA_NK_Cyto_F3_c', '20190225_rmi049_75idPLRPS_APA_Mono_CD14_CD16-_Neg_Nuc_F5_a', '06102019_RVG262_PLRPS_FAIMS_CV_Neg100_F1_CD3', '081018_RVG262_PGAFF_RP4H_Neutros_GelFREE_8pF1_FAIMS_CV_-40_007', '20190227_rmi049_75idPLRPS_APA_Mono_CD14__Pos_Nuc_F2_a', '20190419_RM_NK_Cyto_F1_b', '20181018_rmi049_75idPLRPS_APA_T-Reg_Cyto_F6_b', '16mar2019_RVG262_APA_CD3_F2_PLRPS_FAIMS_HH_M05', '20191117_rmi049_75idPLRPS_CD3_Cyto_8pc_F1_240k_a', 'LCA_RM_20191006_Platelets_F7A_02', '20180525_rmi049_APA_PLRPS_PBMC-test_Fraction_04_15-45_a', '20180821_rmi049_75idPLRPS_APA_NK_Nucl_F3_c', '20190521_rmi049_75idPLRPS_APA_CD4_Cyto_F5_b', '20180813_rmi049_75idPLRPS_APA_RBC_PM_F6_a', '20181030_rmi049_75idPLRPS_APA_CD3_IEX_500_F2_b', '081418_RVG262_PGAFF_RP4H_Neutros_FT_FAIMS_CV__10_20_30_120K_60K_067', '20191117_rmi049_75idPLRPS_CD3_Cyto_8pc_F1_240k_c', '20181107_rmi049_75idPLRPS_APA_CD34_Nuc_F1_b', '20180615_rmi049_75idPLRPS_APA_PBMC_100_F6_c', '20190419_RM_NK_Cyto_F5_b', 'LCA_05272018_NRTDP_Allen_CD4B1F8_CID', '06102019_RVG262_PLRPS_FAIMS_CV_plus20_F1_CD3', '081418_RVG262_PGAFF_RP4H_Neutros_200_FAIMS_CV__10_20_30_60K_30K_052', '20180923_rmi049_75idPLRPS_APA_DC_Cyto_F3_c', '20180615_rmi049_75idPLRPS_APA_PBMC_200_F2_a', 'DSB_RM_20191130_Nuc_Bpos_CD19_F5_01', 'RM_20190802_TCells_CD3pos_F1_01', '20180930_rmi049_75idPLRPS_APA_EOS_Nuc_F6_b', '19MAR2019_RVG262_APA_CD3_F1_PLRPS_noFAIMS_HH_1', '20190225_rmi049_75idPLRPS_APA_Mono_CD14_CD16-_Neg_Nuc_F6_c', '20170307_ksn5514_FACS_BC_RP4H_10547771_D3_T_FACS_tech_rep_03', '20181107_rmi049_75idPLRPS_APA_CD34_Nuc_F1_c', '20190225_rmi049_75idPLRPS_APA_Mono_CD14_CD16-_Neg_Nuc_F4_a', '06102019_RVG262_PLRPS_FAIMS_CV__F2_CD3_0L_Plus30', 'RM_20190729_Tcells_CD4pos_F2_01', '22mar2019_RVG262_APA_CD3_NUC_PLRPS_noFAIMS_HH_01', '20181020_rmi049_75idPLRPS_APA_T-Reg_Nuc_F4_c', '18mar2019_RVG262_APA_CD3_F3n4_PLRPS_FAIMS_HH_P30', 'RM_20190808_CD19pos_F5_newGrad_03', '20180923_rmi049_75idPLRPS_APA_DC_Cyto_F6_a', '20180525_rmi049_APA_PLRPS_PBMC-test_Fraction_02_10-55_a', '20180930_rmi049_75idPLRPS_APA_EOS_Nuc_F2_c', '16mar2019_RVG262_APA_CD3_F2_PLRPS_FAIMS_HH_P25', '20180920_rmi049_75idPLRPS_APA_Macrophage_Cyto_F1_a', 'DSB_RM_20190927_cyto_neutrophil_F2_02', '20180525_rmi049_APA_PLRPS_PBMC-test_Fraction_02_20-40_a', 'LCA_11182018_APA_DS10_Eos_F7p2_02', 'LCA_RM_20191012_Nuc_CD8_F5_01', 'LCA_RM_20191004_Plasma_F9Aonly_01', 'RM_20190810_NK_F8_01', 'LCA_08112018_rescue_F4_180811171512', 'LCA_RM_20190928_cyto_neutrophil_F6_01', '20190521_rmi049_75idPLRPS_APA_CD4_Cyto_F3_c', '20190517_rmi049_75idPLRPS_APA_B_Cyto_F1_a', '20180813_rmi049_75idPLRPS_APA_RBC_PM_F1_a', '20181121_rmi049_75idPLRPS_APA_Treg_Cyto_F3_a', '20190221_rmi049_75idPLRPS_APA_Mono_CD14_CD16-_Neg_Cyto_F2_a', '081418_RVG262_PGAFF_RP4H_Neutros_500_FAIMS_CV__10_20_30_60K_30K_056', '20180925_rmi049_75idPLRPS_APA_EOS_Cyto_F3_a', '20180817_rmi049_75idPLRPS_APA_NK_Cyto_F6_a', '20181022_rmi049_75idPLRPS_APA_Mono_Nuc_F5_a', '20180615_rmi049_75idPLRPS_APA_PBMC_200_F2_b', '20180824_rmi049_75idPLRPS_APA_Plasma_PM_F8_b', '20190521_rmi049_75idPLRPS_APA_CD4_Cyto_F6_b', '20180525_rmi049_APA_PLRPS_PBMC-test_Fraction_01_15-45_a', '20180615_rmi049_75idPLRPS_APA_PBMC_100_F5_c', 'LCA_05222018_NRTDP_Allen_CD4B1F1_CID', 'DSB_RM_20191011_Nuc_CD8_F3_02', '20180925_rmi049_75idPLRPS_APA_EOS_Cyto_F6_b', 'DSB_20181115_APA_DS47_mono_F1_02', 'LCA_08092018_CD3_FT_F1_CID_01', '20170309_ksn5514_FACS_BC_RP4H_10547771_D2_T_FACS_tech_rep_03', 'LCA_05212018_NRTDP_Allen_CD8B1F4_CID', '20181020_rmi049_75idPLRPS_APA_T-Reg_Nuc_F6_c', '20181105_rmi049_75idPLRPS_APA_CD34_Cyto_F5_a', '20181018_rmi049_75idPLRPS_APA_T-Reg_Cyto_F1_a', '20180615_rmi049_75idPLRPS_APA_PBMC_400_F4_b', 'LCA_RM_20191006_Platelets_F9A_01', '20180615_rmi049_75idPLRPS_APA_PBMC_FT_F2_a', 'LCA_RM_20191009_Nuc_CD3_F2_02', '20181022_rmi049_75idPLRPS_APA_Mono_Nuc_F2_c', 'LCA_08242018_CD3_500_F7_CID_02', '20170309_ksn5514_FACS_BC_RP4H_10547771_B_SEP_biorep_01_techrep_01', 'LCA_08112018_CD3_FT_F5_CID_01', '20150930_TDQ_BC_Memory_techrep_04', '20180826_rmi049_75idPLRPS_APA_CD3_IEX_FT_F3_a', '20180615_rmi049_75idPLRPS_APA_PBMC_400_F6_a', '06102019_RVG262_PLRPS_FAIMS_CV__F1_CD3_0L_Plus30', 'DSB_RM_20191130_Nuc_Bpos_CD19_F7_01', '20200214_rmi049_75umPLRPS_Allen_CD3_F5_hi_c', 'LCA_05172018_NRTDP_Allen_CD4B1F2_CID', 'RM_20190808_NK_F6_newGrad_03', 'DSB_RM_20191011_Nuc_CD8_F4_01', '20180615_rmi049_75idPLRPS_APA_PBMC_FT_F5_a', '20180930_rmi049_75idPLRPS_APA_EOS_Nuc_F6_a', '20181020_rmi049_75idPLRPS_APA_T-Reg_Nuc_F3_b', 'LCA_RM_20191005_Platelets_F4AB_01', '20181103_rmi049_75idPLRPS_APA_Platelets_GF12_F1_c', '20170307_ksn5514_FACS_BC_RP4H_10547771_D3_T_SEP_tech_rep_02', '20181103_rmi049_75idPLRPS_APA_Platelets_GF12_F4_b', '20180615_rmi049_75idPLRPS_APA_PBMC_400_F1_d', '20180920_rmi049_75idPLRPS_APA_Macrophage_Cyto_F3_b', '20181121_rmi049_75idPLRPS_APA_Treg_Cyto_F4_b', '20180920_rmi049_75idPLRPS_APA_Macrophage_Cyto_F2_b', '20190523_rmi049_75idPLRPS_APA_Neutro_Cyto_F3_c', 'DSB_RM_20191013_Nuc_CD8_F6_02', '20170309_ksn5514_FACS_BC_RP4H_10547771_T_FACS_biorep_02_techrep_03', '20180824_rmi049_75idPLRPS_APA_Plasma_PM_F12_b', 'LCA_08222018_CD3_200_F5_CID_02', '16mar2019_RVG262_APA_CD3_F2_PLRPS_FAIMS_HH_P15', '20200214_rmi049_75umPLRPS_Allen_CD3_F3_b', '20181103_rmi049_75idPLRPS_APA_Platelets_GF12_F4_a', '081418_RVG262_PGAFF_RP4H_Neutros_FT_FAIMS_CV_-70_042', '20190221_rmi049_75idPLRPS_APA_Mono_CD14__Pos_Cyto_F4_c', '20180824_rmi049_75idPLRPS_APA_Plasma_PM_F9_b', '20180828_rmi049_75idPLRPS_APA_CD3_IEX_200_F3_a', 'LCA_RM_20191127_Nuc_NK_F4_02', 'LCA_11132018_APA_DS48_CD34_C1F1_1p5E6_LONGGradient', '20190419_RM_NK_Cyto_F6_a', '20181107_rmi049_75idPLRPS_APA_CD34_Nuc_F4_b', '20190521_rmi049_75idPLRPS_APA_CD4_Cyto_F1_a', 'DB_RM_20191002_plasma_F4_01', 'LCA_RM_20191129_Nuc_NK_F8_02', 'RM_20190802_TCells_CD3pos_F3_02', 'RM_20190810_CD19pos_F7_01', '20180930_rmi049_75idPLRPS_APA_EOS_Nuc_F4_b', '20170307_ksn5514_FACS_BC_RP4H_10547771_D3_T_SEP_tech_rep_01', '20180824_rmi049_75idPLRPS_APA_Plasma_PM_F12_f', '20181101_rmi049_75idPLRPS_APA_CD3_IEX_1M_F2_a', 'LCA_05182018_NRTDP_Allen_CD4B2F4_CID', '20180821_rmi049_75idPLRPS_APA_NK_Nucl_F5_b', '20190225_rmi049_75idPLRPS_APA_Mono_CD14_CD16-_Neg_Nuc_F1_c', 'RM_20190806_CD19neg_F5_02', 'RM_20190809_CD4_F7_01', '20190225_rmi049_75idPLRPS_APA_Mono_CD14_CD16-_Neg_Nuc_F4_c', '20180920_rmi049_75idPLRPS_APA_Macrophage_Cyto_F2_c', 'RM_20190803_TCells_CD19neg_F1_02', '06102019_RVG262_PLRPS_FAIMS_CV_neg80_F1_CD3', '20181030_rmi049_75idPLRPS_APA_CD3_IEX_500_F6_c', '19MAR2019_RVG262_APA_CD3_F2_PLRPS_HH_1', '20180615_rmi049_75idPLRPS_APA_PBMC_FT_F3_c', '20181030_rmi049_75idPLRPS_APA_CD3_IEX_500_F4_a', 'LCA_RM_20191127_Nuc_NK_F7_01', 'RM_20190803_TCells_CD19neg_F4_02', 'RM_20190730_Tcells_CD8pos_F2_01', 'LCA_11172018_APA_DS46_F8_02', '20181107_rmi049_75idPLRPS_APA_CD34_Nuc_F6_a', '20181105_rmi049_75idPLRPS_APA_CD34_Cyto_F2_a', '20181116_rmi049_75idPLRPS_APA_Platelets_PM_F11_b', '16mar2019_RVG262_APA_CD3_F1_PLRPS_FAIMS_HH_M05', 'LCA_05192018_NRTDP_Allen_CD8B2F2_CID', '19MAR2019_RVG262_APA_CD3_cyto_PLRPS_noFAIMS_HH_1', 'LCA_08242018_CD3_pool_500_1M_F9_CID_02', '20181116_rmi049_75idPLRPS_APA_Platelets_PM_F5_b', 'RM_20190802_TCells_CD3pos_F2_03', '20170309_ksn5514_FACS_BC_RP4H_10547771_D2_B_SEP_tech_rep_02', '20150930_TDQ_BC_Memory_techrep_03', '20180817_rmi049_75idPLRPS_APA_NK_Cyto_F3_a', 'DSB_RM_20191013_Nuc_CD8_F9_01', 'LCA_08242018_CD3_500_F5_CID_02', '20181020_rmi049_75idPLRPS_APA_T-Reg_Nuc_F4_b', '20180920_rmi049_75idPLRPS_APA_Macrophage_Cyto_F4_b', '20200214_rmi049_75umPLRPS_Allen_CD3_F3_a', 'LCA_RM_20191005_Platelets_F1AB_02', '20180925_rmi049_75idPLRPS_APA_EOS_Cyto_F4_b', '20190521_rmi049_75idPLRPS_APA_CD4_Cyto_F4_b', '20181121_rmi049_75idPLRPS_APA_Treg_Cyto_F3_c', '20180828_rmi049_75idPLRPS_APA_CD3_IEX_200_F4_c', 'LCA_05172018_NRTDP_Allen_CD4B2F2_ETD', 'LCA_08262018_CD3_FT_F6_CID_03', '20181018_rmi049_75idPLRPS_APA_T-Reg_Cyto_F5_c', 'LCA_RM_20190928_cyto_neutrophil_F4_02', '20170309_ksn5514_FACS_BC_RP4H_10547771_B_SEP_biorep_02_techrep_02', 'LCA_08212018_CD3_200_F2_CID_01', '20181020_rmi049_75idPLRPS_APA_T-Reg_Nuc_F5_c', '20150927_BM_sort_2E6_CD19_pool_techrep02', 'RM_20190803_TCells_CD19neg_F1_01', 'LCA_RM_20191008_Nuc_CD4_F8_02', '20181002_rmi049_75idPLRPS_APA_DC_Nuc_F2_a', 'LCA_RM_20191005_Platelets_F2AB_01', 'RM_20190929_cyto_eosinophil_F3_01', '20190517_rmi049_75idPLRPS_APA_B_Cyto_F3_a', '20mar2019_RVG262_APA_CD3_NUC_PLRPS_FAIMS_HH_P30', 'LCA_11092018_APA_DS45_F7A_01', '06102019_RVG262_PLRPS_FAIMS_CV_noFAIMS_F1_CD3_Tech2', '20181121_rmi049_75idPLRPS_APA_Treg_Cyto_F1_b', '20180525_rmi049_APA_PLRPS_PBMC-test_Fraction_06_20-40_a', '20190517_rmi049_75idPLRPS_APA_B_Cyto_F2_b', '20190521_rmi049_75idPLRPS_APA_CD4_Cyto_F3_b', '20180920_rmi049_75idPLRPS_APA_Macrophage_Cyto_F5_c', '20170309_ksn5514_FACS_BC_RP4H_10547771_B_FACS_biorep_01_techrep_01', '20200214_rmi049_75umPLRPS_Allen_CD3_F4_b', '20180813_rmi049_75idPLRPS_APA_RBC_PM_F10_a', '20181018_rmi049_75idPLRPS_APA_T-Reg_Cyto_F1_b', '20180821_rmi049_75idPLRPS_APA_NK_Nucl_F1_c', '20181101_rmi049_75idPLRPS_APA_CD3_IEX_1M_F5_c', '20181116_rmi049_75idPLRPS_APA_Platelets_PM_F2_a', 'RM_20190810_CD19pos_F8_01', '20180826_rmi049_75idPLRPS_APA_CD3_IEX_FT_F4_b', '06102019_RVG262_PLRPS_FAIMS_CV__F2_CD3_0L_Neg10', 'LCA_08262018_CD3_1M_F6_CID_02', '20180925_rmi049_75idPLRPS_APA_EOS_Cyto_F2_a', '20181105_rmi049_75idPLRPS_APA_CD34_Cyto_F1_a', '20181018_rmi049_75idPLRPS_APA_T-Reg_Cyto_F6_a', '081418_RVG262_PGAFF_RP4H_Neutros_500_FAIMS_CV__10_20_30_120K_60K_058', 'LCA_08222018_CD3_200_F6_CID_02', '20190227_rmi049_75idPLRPS_APA_Mono_CD14__Pos_Nuc_F1_b', 'LCA_05262018_NRTDP_Allen_CD8B1F8_ETD', '20190107_rvg262_75idPLRPS_APA_CD3_F2_T2_20190108175514', '16mar2019_RVG262_APA_CD3_F1_PLRPS_FAIMS_HH_P30', '20180826_rmi049_75idPLRPS_APA_CD3_IEX_FT_F4_a', '20180817_rmi049_75idPLRPS_APA_NK_Cyto_F2_b', 'RM_20190729_Tcells_CD4pos_F1_01', '20180615_rmi049_75idPLRPS_APA_PBMC_700_F4_b', 'LCA_11092018_APA_DS45_F6A_02', '20181116_rmi049_75idPLRPS_APA_Platelets_PM_F12_c', '20190521_rmi049_75idPLRPS_APA_CD4_Cyto_F3_a', '20190517_rmi049_75idPLRPS_APA_B_Cyto_F3_b', '20181020_rmi049_75idPLRPS_APA_T-Reg_Nuc_F1_c', 'LCA_RM_20191005_Platelets_F4AB_02', '20180525_rmi049_APA_PLRPS_PBMC-test_Fraction_01_20-40_a', '20180615_rmi049_75idPLRPS_APA_PBMC_FT_F5_b', 'LCA_RM_20191005_Platelets_F3AB_01', 'DSB_RM_20190927_cyto_neutrophil_F2_01', '20180923_rmi049_75idPLRPS_APA_DC_Cyto_F6_b', '20190221_rmi049_75idPLRPS_APA_Mono_CD14__Pos_Cyto_F6_c', '20190523_rmi049_75idPLRPS_APA_Neutro_Cyto_F1_b', '20180615_rmi049_75idPLRPS_APA_PBMC_700_F5_c', '20180925_rmi049_75idPLRPS_APA_EOS_Cyto_F4_a', '20180824_rmi049_75idPLRPS_APA_Plasma_PM_F10_b', '20170309_ksn5514_FACS_BC_RP4H_10547771_D1_B_FACS_tech_rep_01', '20170309_ksn5514_FACS_BC_RP4H_10547771_D1_B_FACS_tech_rep_02', '20181101_rmi049_75idPLRPS_APA_CD3_IEX_1M_F3_a', '20181107_rmi049_75idPLRPS_APA_CD34_Nuc_F2_c', '20180525_rmi049_APA_PLRPS_PBMC-test_Fraction_03_15-45_a', '20181020_rmi049_75idPLRPS_APA_T-Reg_Nuc_F2_c', '20181116_rmi049_75idPLRPS_APA_Platelets_PM_F4_c', 'DSB_RM_20191130_Nuc_Bpos_CD19_F4_02', '20190517_rmi049_75idPLRPS_APA_B_Cyto_F5_b', '20181020_rmi049_75idPLRPS_APA_T-Reg_Nuc_F6_b', '20190419_RM_NK_Cyto_F5_a', '20180824_rmi049_75idPLRPS_APA_Plasma_PM_F11_b', 'RM_20190728_Bcells_CD19pos_F1_03', '20180615_rmi049_75idPLRPS_APA_PBMC_400_F5_c', '20190419_RM_NK_Cyto_F6_b', '20180930_rmi049_75idPLRPS_APA_EOS_Nuc_F3_c', '20180826_rmi049_75idPLRPS_APA_CD3_IEX_FT_F2_c', '20190419_RM_NK_Cyto_F4_c', '081418_RVG262_PGAFF_RP4H_Neutros_200_FAIMS_CV_10_20_30_60K_60K_069', '20181020_rmi049_75idPLRPS_APA_T-Reg_Nuc_F3_a', '20181030_rmi049_75idPLRPS_APA_CD3_IEX_500_F6_b', '20190227_rmi049_75idPLRPS_APA_Mono_CD14__Pos_Nuc_F5_b', '20181107_rmi049_75idPLRPS_APA_CD34_Nuc_F5_a', 'RM_20190801_NK_F4_01', 'RM_20190809_CD4_F8_01', '19MAR2019_RVG262_APA_CD3_cyto_PLRPS_noFAIMS_HH_2', 'LCA_11102018_APA_DS47_F5A_02_1E6', '20150930_TDQ_BC_Naive_techrep_02', 'RM_20190801_NK_F2_02', '20181018_rmi049_75idPLRPS_APA_T-Reg_Cyto_F2_a', '20181103_rmi049_75idPLRPS_APA_Platelets_GF12_F1_a', '081418_RVG262_PGAFF_RP4H_Neutros_FT_FAIMS_CV_-20_026', '20170309_ksn5514_FACS_BC_RP4H_10547771_D3_T_FACS_tech_rep_01', '20180817_rmi049_75idPLRPS_APA_NK_Cyto_F1_b', 'LCA_05242018_NRTDP_Allen_CD4B2F7_ETD', '20190225_rmi049_75idPLRPS_APA_Mono_CD14_CD16-_Neg_Nuc_F2_b', '20181121_rmi049_75idPLRPS_APA_Treg_Cyto_F1_c', '20190221_rmi049_75idPLRPS_APA_Mono_CD14_CD16-_Neg_Cyto_F6_a', '20181116_rmi049_75idPLRPS_APA_Platelets_PM_F6_b', '20181018_rmi049_75idPLRPS_APA_T-Reg_Cyto_F6_c', 'RM_20190806_CD4_F6_01', '06102019_RVG262_PLRPS_FAIMS_CV_noFAIMS_F1_CD3_Tech7', '20181022_rmi049_75idPLRPS_APA_Mono_Nuc_F1_c', '20150927_BM_sort_2E6_CD19_dimCD10_techrep02', '20181030_rmi049_75idPLRPS_APA_CD3_IEX_500_F5_c', '20180813_rmi049_75idPLRPS_APA_RBC_PM_F12_a', '20180927_rmi049_75idPLRPS_APA_Macrophage_Nuc_F4_c', '20181103_rmi049_75idPLRPS_APA_Platelets_GF12_F8_c', '20181103_rmi049_75idPLRPS_APA_Platelets_GF12_F6_c', '16mar2019_RVG262_APA_CD3_F2_PLRPS_FAIMS_HH_P05', 'LCA_05182018_NRTDP_Allen_CD8B1F1_CID', 'LCA_11102018_APA_DS46_F5A_01', '06102019_RVG262_PLRPS_FAIMS_CV__F2_NOFAIMS_CD3_T4', 'RM_20190803_TCells_CD19neg_F4_01', '20180920_rmi049_75idPLRPS_APA_Macrophage_Cyto_F2_a', '20180525_rmi049_APA_PLRPS_PBMC-test_Fraction_02_15-45_b', '20190221_rmi049_75idPLRPS_APA_Mono_CD14_CD16-_Neg_Cyto_F4_b', 'LCA_08112018_CD3_FT_F7_CID_01', '20181101_rmi049_75idPLRPS_APA_CD3_IEX_1M_F6_c', '20181022_rmi049_75idPLRPS_APA_Mono_Nuc_F3_a', '20200214_rmi049_75umPLRPS_Allen_CD3_F1_b', '20170309_ksn5514_FACS_BC_RP4H_10547771_D3_T_FACS_tech_rep_02', '20180925_rmi049_75idPLRPS_APA_EOS_Cyto_F6_c', '081418_RVG262_PGAFF_RP4H_Neutros_FT_FAIMS_CV_0_024', '20180925_rmi049_75idPLRPS_APA_EOS_Cyto_F5_c', '20181010_rmi049_75idPLRPS_APA_Mono_Cyto_F2_a', 'RM_20190728_Bcells_CD19pos_F1_01', '081418_RVG262_PGAFF_RP4H_Neutros_FT_FAIMS_CV_50_033', 'RM_20190810_CD19pos_F8_02', '20181103_rmi049_75idPLRPS_APA_Platelets_GF12_F2_b', '20180920_rmi049_75idPLRPS_APA_Macrophage_Cyto_F4_c', '06102019_RVG262_PLRPS_FAIMS_CV__F2_NOFAIMS_CD3_T3', '18mar2019_RVG262_APA_CD3_F3n4_PLRPS_FAIMS_HH_P20', 'LCA_05182018_NRTDP_Allen_CD8B1F6_ETD', '20190410_rmi049_75idPLRPS_APA_Neutro_Cyto_F2_b', '20180920_rmi049_75idPLRPS_APA_Macrophage_Cyto_F1_c', '20180925_rmi049_75idPLRPS_APA_EOS_Cyto_F2_b', '20190221_rmi049_75idPLRPS_APA_Mono_CD14__Pos_Cyto_F6_b', '20190410_rmi049_75idPLRPS_APA_Neutro_Cyto_F4_c', '081018_RVG262_PGAFF_RP4H_Neutros_GelFREE_8pF1_FAIMS_CV_-100_015', 'RM_20190730_Tcells_CD8pos_F1_01', '20190419_RM_NK_Cyto_F3_a', 'LCA_RM_20191129_Nuc_NK_F9_01', 'RM_20190728_Bcells_CD19pos_F3_03', '20170309_ksn5514_FACS_BC_RP4H_10547771_B_SEP_biorep_02_techrep_03', '20181030_rmi049_75idPLRPS_APA_CD3_IEX_500_F1_c', '20181030_rmi049_75idPLRPS_APA_CD3_IEX_500_F1_a', '20180813_rmi049_75idPLRPS_APA_RBC_PM_F10_b', '20190225_rmi049_75idPLRPS_APA_Mono_CD14_CD16-_Neg_Nuc_F5_c', 'DSB_RM_20191130_Nuc_Bpos_CD19_F6_02', 'LCA_08222018_CD3_200_F7_CID_01', '20181116_rmi049_75idPLRPS_APA_Platelets_PM_F9_c', 'DSB_20181116_APA_DS46_F1_01', '20180927_rmi049_75idPLRPS_APA_Macrophage_Nuc_F3_a', 'LCA_RM_20191002_cyto_eosinophil_F5_02', '081418_RVG262_PGAFF_RP4H_Neutros_FT_FAIMS_CV_-90_038', '20180615_rmi049_75idPLRPS_APA_PBMC_100_F1_c', 'LCA_11102018_APA_DS46_F6A_02_8uSMS1_2uSMS2', 'LCA_08232018_CD3_500_F4_CID_02', '20181103_rmi049_75idPLRPS_APA_Platelets_GF12_F5_b', 'DSB_20181115_APA_DS47_mono_F1_01', '20170309_ksn5514_FACS_BC_RP4H_10547771_B_FACS_biorep_03_techrep_03', '20mar2019_RVG262_APA_CD3_NUC_PLRPS_FAIMS_HH_M10', '20180930_rmi049_75idPLRPS_APA_EOS_Nuc_F1_b', '20180615_rmi049_75idPLRPS_APA_PBMC_FT_F5_c', '20181010_rmi049_75idPLRPS_APA_Mono_Cyto_F3_c', '20190107_rvg262_75idPLRPS_APA_CD3_F3_T1_20190108210302', '20150930_TDQ_BC_Naive_techrep_03', 'LCA_05232018_NRTDP_Allen_CD8B2F7_ETD', 'LCA_RM_20191009_Nuc_CD3_F4_01', '20180615_rmi049_75idPLRPS_APA_PBMC_400_F2_c', 'LCA_RM_20191129_Nuc_NK_F8_01', 'RM_20190729_Tcells_CD4pos_F1_02', '081418_RVG262_PGAFF_RP4H_Neutros_FT_FAIMS_CV_-50-40-30_046', '081418_RVG262_PGAFF_RP4H_Neutros_1000_FAIMS_CV_-20-10-0_061', '20190221_rmi049_75idPLRPS_APA_Mono_CD14_CD16-_Neg_Cyto_F6_b', 'LCA_RM_20191007_Nuc_CD4_F3_01', '20181116_rmi049_75idPLRPS_APA_Platelets_PM_F12_b', '20181020_rmi049_75idPLRPS_APA_T-Reg_Nuc_F1_b', '06102019_RVG262_PLRPS_FAIMS_CV_noFAIMS_F1_CD3_Tech9', '20190517_rmi049_75idPLRPS_APA_B_Cyto_F6_b', 'LCA_05192018_NRTDP_Allen_CD8B2-2F1_ETD', 'LCA_11092018_APA_DS45_F6A_01', '20190419_RM_NK_Cyto_F6_c', 'RM_20190801_NK_F4_02', 'LCA_05202018_NRTDP_Allen_CD4B1-2F2_CID', 'LCA_08222018_CD3_200_F7_CID_02', '20180525_rmi049_APA_PLRPS_PBMC-test_Fraction_04_15-45_c', 'LCA_RM_20191009_Nuc_CD3_F4_02', 'LCA_08232018_CD3_pool_FT_200_F9_01', '16mar2019_RVG262_APA_CD3_F2_PLRPS_FAIMS_HH_P10', '20150927_BM_sort_2E6_CD19_midCD10_techrep04', '20180525_rmi049_APA_PLRPS_PBMC-test_Fraction_06_15-45_c', '20190523_rmi049_75idPLRPS_APA_Neutro_Cyto_F6_c', '20150927_BM_sort_2E6_CD19_highCD10_techrep04', '20181022_rmi049_75idPLRPS_APA_Mono_Nuc_F3_b', '16mar2019_RVG262_APA_CD3_F2_PLRPS_FAIMS_HH_P20', 'LCA_RM_20191007_Nuc_CD4_F1_02', '20180923_rmi049_75idPLRPS_APA_DC_Cyto_F5_a', '06102019_RVG262_PLRPS_FAIMS_CV_neg60_F1_CD3', 'LCA_05202018_NRTDP_Allen_CD4B1-2F2_ETD', '20170309_ksn5514_FACS_BC_RP4H_10547771_D3_B_SEP_tech_rep_03', '20180615_rmi049_75idPLRPS_APA_PBMC_200_F2_c', '20180828_rmi049_75idPLRPS_APA_CD3_IEX_200_F3_c', '081418_RVG262_PGAFF_RP4H_Neutros_FT_FAIMS_CV_-30_041', 'LCA_08222018_CD3_200_F8_CID_01', 'LCA_08242018_CD3_500_F5_CID_01', '081018_RVG262_PGAFF_RP4H_Neutros_GelFREE_8pF1_FAIMS_CV_-30_020', '20180615_rmi049_75idPLRPS_APA_PBMC_400_F5_a', 'LCA_08262018_CD3_1M_F5_CID_01', 'LCA_11112018_APA_DS45_F8A_01_3E6', 'LCA_11132018_APA_DS48_CD34_C1F5_01', '20181121_rmi049_75idPLRPS_APA_Treg_Cyto_F2_b', '20190225_rmi049_75idPLRPS_APA_Mono_CD14_CD16-_Neg_Nuc_F3_b', '20190523_rmi049_75idPLRPS_APA_Neutro_Cyto_F2_a', 'LCA_05192018_NRTDP_Allen_CD8B2F2_ETD', 'RM_20190728_Bcells_CD19pos_F2_01', 'DSB_RM_20191130_Nuc_Bpos_CD19_F5_02', '20180615_rmi049_75idPLRPS_APA_PBMC_100_F3_a', '20190521_rmi049_75idPLRPS_APA_CD4_Cyto_F2_b', '081018_RVG262_PGAFF_RP4H_Neutros_GelFREE_8pF1_FAIMS_CV_20_004', '081418_RVG262_PGAFF_RP4H_Neutros_FT_FAIMS_CV_-20-10-0_047', '20180923_rmi049_75idPLRPS_APA_DC_Cyto_F2_c', 'RM_20190807_CD19pos_F5_02', 'RM_20190809_CD8_F8_01', '20181121_rmi049_75idPLRPS_APA_Treg_Cyto_F1_a', '20180615_rmi049_75idPLRPS_APA_PBMC_700_F3_c', 'LCA_08212018_CD3_200_F4_CID_01', 'DSB_20181115_APA_DS47_mono_F4_02', '20190517_rmi049_75idPLRPS_APA_B_Cyto_F3_c', 'RM_20190929_cyto_eosinophil_F1_02', '20190523_rmi049_75idPLRPS_APA_Neutro_Cyto_F4_c', '081418_RVG262_PGAFF_RP4H_Neutros_1000_FAIMS_CV__10_20_30_120K_60K_064', '20181105_rmi049_75idPLRPS_APA_CD34_Cyto_F4_a', '20180813_rmi049_75idPLRPS_APA_RBC_PM_F6_c', '20181018_rmi049_75idPLRPS_APA_T-Reg_Cyto_F4_b', '20180525_rmi049_APA_PLRPS_PBMC-test_Fraction_03_15-45_c', '20190221_rmi049_75idPLRPS_APA_Mono_CD14__Pos_Cyto_F2_b', '20180817_rmi049_75idPLRPS_APA_NK_Cyto_F3_b', 'LCA_08252018_CD3_1M_F4_CID_02', '20190523_rmi049_75idPLRPS_APA_Neutro_Cyto_F6_a', '20180525_rmi049_APA_PLRPS_PBMC-test_Fraction_04_10-55_a', '20180828_rmi049_75idPLRPS_APA_CD3_IEX_200_F1_b', '20180927_rmi049_75idPLRPS_APA_Macrophage_Nuc_F5_b', '16mar2019_RVG262_APA_CD3_F1_PLRPS_FAIMS_HH_P25', 'RM_20190728_Bcells_CD19pos_F3_01', '20180525_rmi049_APA_PLRPS_PBMC-test_Fraction_06_10-55_a', '20180615_rmi049_75idPLRPS_APA_PBMC_FT_F6_c', '20181030_rmi049_75idPLRPS_APA_CD3_IEX_500_F5_b', '06102019_RVG262_PLRPS_FAIMS_CV__F1_CD3_0L_Plus20', '20181105_rmi049_75idPLRPS_APA_CD34_Cyto_F3_a', 'LCA_08092018_CD3_FT_F2_CID_03', '20180615_rmi049_75idPLRPS_APA_PBMC_100_F3_c', 'DSB_RM_20191010_Nuc_CD3_F8_02', '20180927_rmi049_75idPLRPS_APA_Macrophage_Nuc_F4_a', 'RM_20190807_NK_F5_01', '20190419_RM_NK_Cyto_F3_c', '06102019_RVG262_PLRPS_FAIMS_CV_neg110_F1_CD3', '20180925_rmi049_75idPLRPS_APA_EOS_Cyto_F2_c', 'RM_20190730_Tcells_CD8pos_F1_02', '20180817_rmi049_75idPLRPS_APA_NK_Cyto_F6_c', '20181002_rmi049_75idPLRPS_APA_DC_Nuc_F2_c', 'RM_20190802_TCells_CD3pos_F2_01', 'LCA_RM_20191008_Nuc_CD4_F7_02', '20181103_rmi049_75idPLRPS_APA_Platelets_GF12_F1_b', '20181030_rmi049_75idPLRPS_APA_CD3_IEX_500_F3_b', '20190410_rmi049_75idPLRPS_APA_Neutro_Cyto_F2_a', '20190419_RM_NK_Cyto_F3_b', '20180930_rmi049_75idPLRPS_APA_EOS_Nuc_F4_a', '20180813_rmi049_75idPLRPS_APA_RBC_PM_F2_c', 'DSB_20181116_APA_DS46_F2_02', '20180615_rmi049_75idPLRPS_APA_PBMC_FT_F6_a', '20180929_rmi049_75idPLRPS_APA_DC_Nuc_F4_c', '20181116_rmi049_75idPLRPS_APA_Platelets_PM_F11_c', '06102019_RVG262_PLRPS_FAIMS_CV__F2_NOFAIMS_CD3_T6', '20181103_rmi049_75idPLRPS_APA_Platelets_GF12_F2_a', '20180923_rmi049_75idPLRPS_APA_DC_Cyto_F3_b', 'RM_20190730_Tcells_CD8pos_F1_03', 'LCA_RM_20191006_Platelets_F7A_01', '06102019_RVG262_PLRPS_FAIMS_CV__F1_CD3_0L_ZERO', '20180615_rmi049_75idPLRPS_APA_PBMC_FT_F4_b', '20181010_rmi049_75idPLRPS_APA_Mono_Cyto_F5_a', '20181116_rmi049_75idPLRPS_APA_Platelets_PM_F11_a', 'LCA_05172018_NRTDP_Allen_CD8B2F1_ETD', '20190517_rmi049_75idPLRPS_APA_B_Cyto_F5_a', '20181010_rmi049_75idPLRPS_APA_Mono_Cyto_F6_b', 'LCA_RM_20191006_Platelets_F5AB_02', '081418_RVG262_PGAFF_RP4H_Neutros_1000_FAIMS_CV__10_20_30_60K_60K_063', '20180920_rmi049_75idPLRPS_APA_Macrophage_Cyto_F6_a', '20181010_rmi049_75idPLRPS_APA_Mono_Cyto_F2_c', '20190410_rmi049_75idPLRPS_APA_Neutro_Cyto_F1_a', 'LCA_RM_20191005_Platelets_F2AB_02', '20170309_ksn5514_FACS_BC_RP4H_10547771_T_FACS_biorep_01_techrep_01', 'DB_RM_20191002_plasma_F3_01', '20190221_rmi049_75idPLRPS_APA_Mono_CD14_CD16-_Neg_Cyto_F5_c', '20180824_rmi049_75idPLRPS_APA_Plasma_PM_F7_b', '20181022_rmi049_75idPLRPS_APA_Mono_Nuc_F2_a', '20181018_rmi049_75idPLRPS_APA_T-Reg_Cyto_F3_c', '20180824_rmi049_75idPLRPS_APA_Plasma_PM_F7_a', '20180525_rmi049_APA_PLRPS_PBMC-test_Fraction_04_15-45_b', 'LCA_05202018_NRTDP_Allen_CD4B1F5_ETD', '081418_RVG262_PGAFF_RP4H_Neutros_FT_FAIMS_CV_-80_032', '20180813_rmi049_75idPLRPS_APA_RBC_PM_F2_b', '20180813_rmi049_75idPLRPS_APA_RBC_PM_F4_b', 'LCA_11112018_APA_DS45_F8A_02_3E6', 'DB_RM_20191003_plasma_F5_02', '20180930_rmi049_75idPLRPS_APA_EOS_Nuc_F2_a', 'RM_20190806_CD19neg_F6_02', '20180813_rmi049_75idPLRPS_APA_RBC_PM_F10_c', '06102019_RVG262_PLRPS_FAIMS_CV_neg20_F1_CD3', '20180525_rmi049_APA_PLRPS_PBMC-test_Fraction_01_10-55_a', '20190221_rmi049_75idPLRPS_APA_Mono_CD14__Pos_Cyto_F2_a', 'LCA_08092018_CD3_FT_F2_ETD_02', 'RM_20190730_Tcells_CD8pos_F2_02', '20181105_rmi049_75idPLRPS_APA_CD34_Cyto_F2_b', 'DSB_20181115_APA_DS47_mono_F2_01', '20181120_rmi049_75idPLRPS_APA_RBC_Water_grad25-40_a', '20170309_ksn5514_FACS_BC_RP4H_10547771_D3_T_FACS_tech_rep_03', '20180821_rmi049_75idPLRPS_APA_NK_Nucl_F2_b', '20180828_rmi049_75idPLRPS_APA_CD3_IEX_200_F4_b', '20180930_rmi049_75idPLRPS_APA_EOS_Nuc_F5_c', '06102019_RVG262_PLRPS_FAIMS_CV__F1_CD3_0L_Plus10', '20180826_rmi049_75idPLRPS_APA_CD3_IEX_FT_F3_c', '20180826_rmi049_75idPLRPS_APA_CD3_IEX_FT_F5_a', '20170309_ksn5514_FACS_BC_RP4H_10547771_D1_T_FACS_tech_rep_02', '20181030_rmi049_75idPLRPS_APA_CD3_IEX_500_F6_a', 'RM_20190803_TCells_CD19neg_F3_02', '20181020_rmi049_75idPLRPS_APA_T-Reg_Nuc_F1_a', '20181101_rmi049_75idPLRPS_APA_CD3_IEX_1M_F2_b', '20181116_rmi049_75idPLRPS_APA_Platelets_PM_F3_c', 'RM_20190810_CD19neg_F8_02', '20180813_rmi049_75idPLRPS_APA_RBC_PM_F11_c', '20180826_rmi049_75idPLRPS_APA_CD3_IEX_FT_F1_c', '20190221_rmi049_75idPLRPS_APA_Mono_CD14_CD16-_Neg_Cyto_F4_a', '06102019_RVG262_PLRPS_FAIMS_CV_noFAIMS_F1_CD3_Tech4', '20180615_rmi049_75idPLRPS_APA_PBMC_700_F2_a', 'RM_20190728_Bcells_CD19pos_F1_02', 'LCA_05222018_NRTDP_Allen_CD4B2F3_CID', '06102019_RVG262_PLRPS_FAIMS_CV__F2_CD3_0L_ZERO', '081418_RVG262_PGAFF_RP4H_Neutros_FT_FAIMS_CV_-40_028', '20180826_rmi049_75idPLRPS_APA_CD3_IEX_FT_F2_b', '20181105_rmi049_75idPLRPS_APA_CD34_Cyto_F6_b', '081018_RVG262_PGAFF_RP4H_Neutros_GelFREE_8pF1_FAIMS_CV_60_008', '20180824_rmi049_75idPLRPS_APA_Plasma_PM_F9_a', '20190419_RM_NK_Cyto_F1_a', 'LCA_05212018_NRTDP_Allen_CD8B2F6_ETD', '20180927_rmi049_75idPLRPS_APA_Macrophage_Nuc_F5_c', '20180828_rmi049_75idPLRPS_APA_CD3_IEX_200_F1_a', 'LCA_RM_20191127_Nuc_NK_F5_01', '20170309_ksn5514_FACS_BC_RP4H_10547771_T_FACS_biorep_01_techrep_02', '20181121_rmi049_75idPLRPS_APA_Treg_Cyto_F2_c', 'LCA_11182018_APA_DS10_Eos_F8p2_02', 'RM_20190810_CD19neg_F7_02', '20180828_rmi049_75idPLRPS_APA_CD3_IEX_200_F4_a', '20181022_rmi049_75idPLRPS_APA_Mono_Nuc_F1_b', '20181107_rmi049_75idPLRPS_APA_CD34_Nuc_F3_c', 'LCA_05242018_NRTDP_Allen_CD4B2F7_CID', '20180821_rmi049_75idPLRPS_APA_NK_Nucl_F1_b', '20180923_rmi049_75idPLRPS_APA_DC_Cyto_F5_c', 'LCA_08252018_CD3_1M_F3_CID_01', '20180615_rmi049_75idPLRPS_APA_PBMC_FT_F1_c', '081418_RVG262_PGAFF_RP4H_Neutros_FT_FAIMS_CV_30_035', 'LCA_11102018_APA_DS47_F6A_01_3E6_4uSMS1', '20180824_rmi049_75idPLRPS_APA_Plasma_PM_F11_g', 'RM_20190805_TCells_CD3pos_F6_02', 'LCA_RM_20191129_Nuc_Bpos_CD19_F3_02', 'RM_20190809_CD8_F8_02', '20180615_rmi049_75idPLRPS_APA_PBMC_100_F4_c', 'LCA_RM_20190928_cyto_neutrophil_F4_01', 'RM_20190808_NK_F5_newGrad_03', '20181010_rmi049_75idPLRPS_APA_Mono_Cyto_F4_a', 'DSB_RM_20190927_cyto_neutrophil_F1_01', '20170309_ksn5514_FACS_BC_RP4H_10547771_D1_B_SEP_tech_rep_02', '081418_RVG262_PGAFF_RP4H_Neutros_500_FAIMS_CV__10_20_30_60K_60K_057', '20190221_rmi049_75idPLRPS_APA_Mono_CD14__Pos_Cyto_F2_c', '081418_RVG262_PGAFF_RP4H_Neutros_FT_FAIMS_CV__10_20_30_60K_60K_066', 'RM_20190728_Bcells_CD19pos_F3_02', 'LCA_RM_20191004_Plasma_F8Aonly_01', '20181116_rmi049_75idPLRPS_APA_Platelets_PM_F10_b', '20190221_rmi049_75idPLRPS_APA_Mono_CD14__Pos_Cyto_F6_a', 'LCA_05202018_NRTDP_Allen_CD8B1F2_CID', '20141016_RP-4H_15E5Bcells_120min_top2DD_HCD_01', '20180813_rmi049_75idPLRPS_APA_RBC_PM_F2_a', 'LCA_11102018_APA_DS45_F8A_02_1E6_8uSMS1_2uSMS2', 'LCA_11182018_APA_DS17_Treg_F8p2_01', '20180813_rmi049_75idPLRPS_APA_RBC_PM_F7_a', 'LCA_11172018_APA_NK_C7_02', '20170309_ksn5514_FACS_BC_RP4H_10547771_T_SEP_biorep_01_techrep_03', 'LCA_RM_20191007_Nuc_CD4_F2_02', '20190521_rmi049_75idPLRPS_APA_CD4_Cyto_F1_c', '20180813_rmi049_75idPLRPS_APA_RBC_PM_F7_c', '20170307_ksn5514_FACS_BC_RP4H_10547771_D2_T_SEP_tech_rep_01', 'LCA_05172018_NRTDP_Allen_CD4B1F2_ETD', 'LCA_RM_20191002_cyto_eosinophil_F6_02', '20181103_rmi049_75idPLRPS_APA_Platelets_GF12_F5_a', 'LCA_05202018_NRTDP_Allen_CD4B1-2F4_ETD', 'RM_20190806_CD8_F6_02', 'RM_20190730_Tcells_CD4pos_F3_02', '20180927_rmi049_75idPLRPS_APA_Macrophage_Nuc_F1_c', 'RM_20190810_NK_F8_02', 'LCA_05232018_NRTDP_Allen_CD8B1F7_ETD', 'LCA_08262018_CD3_1M_F8_CID_01', '20181120_rmi049_75idPLRPS_APA_RBC_Water_grad28-38_a', '20190107_rvg262_75idPLRPS_APA_CD3_F2_T1_20190108160401', '20181018_rmi049_75idPLRPS_APA_T-Reg_Cyto_F5_b', '20181103_rmi049_75idPLRPS_APA_Platelets_GF12_F8_a', '20180824_rmi049_75idPLRPS_APA_Plasma_PM_F8_a', '20181116_rmi049_75idPLRPS_APA_Platelets_PM_F12_a', 'LCA_08092018_CD3_FT_F1_CID_03', '20170309_ksn5514_FACS_BC_RP4H_10547771_D2_B_SEP_tech_rep_01', '20190419_RM_NK_Cyto_F1_c', 'LCA_RM_20191006_Platelets_F9A_02', '20141110_RP-4H_5E6Bcells_10pctGF_120min_top2DD_HCD_GF05_inj01', '20mar2019_RVG262_APA_CD3_NUC_PLRPS_FAIMS_HH_P5', 'LCA_05212018_NRTDP_Allen_CD8B2F6_CID', 'LCA_RM_20190928_cyto_neutrophil_F5_02', 'LCA_08112018_CD3_FT_F6_CID_01', '20180615_rmi049_75idPLRPS_APA_PBMC_FT_F1_a', 'LCA_11182018_APA_DS10_Eos_F7p2_01', '20190517_rmi049_75idPLRPS_APA_B_Cyto_F1_b', '16mar2019_RVG262_APA_CD3_cyto_PLRPS_FAIMS_HH_m20', '20180824_rmi049_75idPLRPS_APA_Plasma_PM_F8_c', '20170309_ksn5514_FACS_BC_RP4H_10547771_D1_T_FACS_tech_rep_03', 'DSB_20181115_APA_DS47_mono_F4_01', 'LCA_08212018_CD3_200_F4_CID_02', '20190521_rmi049_75idPLRPS_APA_CD4_Cyto_F6_a', '06102019_RVG262_PLRPS_FAIMS_CV_neg30_F1_CD3', '20181022_rmi049_75idPLRPS_APA_Mono_Nuc_F2_b', 'LCA_05192018_NRTDP_Allen_CD8B2F3_ETD', '20181121_rmi049_75idPLRPS_APA_Treg_Cyto_F6_c', '20181116_rmi049_75idPLRPS_APA_Platelets_PM_F9_b', '20141110_RP-4H_5E6Bcells_10pctGF_120min_top2DD_HCD_GF06_inj01', '20190107_rvg262_75idPLRPS_APA_CD3_F4_T1', 'LCA_05232018_NRTDP_Allen_CD8B2F7_CID', '20190419_RM_NK_Cyto_F2_b_wash', '20180920_rmi049_75idPLRPS_APA_Macrophage_Cyto_F6_c', '20180925_rmi049_75idPLRPS_APA_EOS_Cyto_F6_a', 'DB_RM_20191003_plasma_F6_01', '20190410_rmi049_75idPLRPS_APA_Neutro_Cyto_F1_b', '16mar2019_RVG262_APA_CD3_cyto_PLRPS_FAIMS_HH_p40', '081418_RVG262_PGAFF_RP4H_Neutros_1000_FAIMS_CV_-50-40-30_060', '20170309_ksn5514_FACS_BC_RP4H_10547771_B_FACS_biorep_01_techrep_02', '20181010_rmi049_75idPLRPS_APA_Mono_Cyto_F1_c', '16mar2019_RVG262_APA_CD3_F2_PLRPS_FAIMS_HH_P30', '06102019_RVG262_PLRPS_FAIMS_CV__F2_CD3_0L_Plus40', '06102019_RVG262_PLRPS_FAIMS_CV__F1_CD3_0L_Neg40', '20180817_rmi049_75idPLRPS_APA_NK_Cyto_F4_c', '16mar2019_RVG262_APA_CD3_F2_PLRPS_FAIMS_HH_M15', 'LCA_05192018_NRTDP_Allen_CD8B2F3_CID', '20180615_rmi049_75idPLRPS_APA_PBMC_400_F6_b', '20190523_rmi049_75idPLRPS_APA_Neutro_Cyto_F5_a', '20181105_rmi049_75idPLRPS_APA_CD34_Cyto_F6_c', '20180525_rmi049_APA_PLRPS_PBMC-test_Fraction_03_10-55_a', 'LCA_08252018_CD3_1M_F2_CID_01', 'LCA_11142018_APA_DS47_mono_F8p3_01_8uSMS1_2uSMS2', 'LCA_05202018_NRTDP_Allen_CD4B1-2F4_CID', '20181020_rmi049_75idPLRPS_APA_T-Reg_Nuc_F6_a', 'LCA_11142018_APA_DS48_CD34_C1F8_01_8uSMS1_2uSMS2', '20180615_rmi049_75idPLRPS_APA_PBMC_FT_F4_c', '20190107_rvg262_75idPLRPS_APA_CD3_F4_T2', 'LCA_RM_20191008_Nuc_CD4_F7_01', 'LCA_RM_20191012_PPM_F9_01', '20190419_RM_NK_Cyto_F4_a', '20190227_rmi049_75idPLRPS_APA_Mono_CD14__Pos_Nuc_F2_b', '20180615_rmi049_75idPLRPS_APA_PBMC_400_F3_a', '20190523_rmi049_75idPLRPS_APA_Neutro_Cyto_F5_c', '20170309_ksn5514_FACS_BC_RP4H_10547771_B_SEP_biorep_03_techrep_03', '20190410_rmi049_75idPLRPS_APA_Neutro_Cyto_F6_c', 'RM_20190808_CD19CD20_F5F6_01', 'LCA_RM_20191006_Platelets_F8A_02', 'RM_20190807_NK_F6_02', '081418_RVG262_PGAFF_RP4H_Neutros_FT_FAIMS_CV_-60_030', '20180927_rmi049_75idPLRPS_APA_Macrophage_Nuc_F2_c', 'LCA_11142018_APA_DS47_mono_F8p3_02_8uSMS1_2uSMS2', '20181105_rmi049_75idPLRPS_APA_CD34_Cyto_F3_b', 'LCA_11122018_APA_DS48_CD34_C1F3_3E6_02', 'RM_20190803_TCells_CD19neg_F1_03', '20180929_rmi049_75idPLRPS_APA_DC_Nuc_F4_b', 'LCA_08242018_CD3_pool_500_1M_F9_CID_01', '20181120_rmi049_75idPLRPS_APA_RBC_Water_a', '20180813_rmi049_75idPLRPS_APA_RBC_PM_F1_b', 'LCA_08222018_CD3_200_F5_CID_01', 'DSB_RM_20191130_Nuc_Bpos_CD19_F4_01', '20181116_rmi049_75idPLRPS_APA_Platelets_PM_F9_a', '20181022_rmi049_75idPLRPS_APA_Mono_Nuc_F1_a', '20181103_rmi049_75idPLRPS_APA_Platelets_GF12_F7_b', 'RM_20190929_cyto_eosinophil_F4_02', 'LCA_05192018_NRTDP_Allen_CD4B2F5_CID', 'RM_20190804_TCells_CD19CD20_F3F4_02', 'LCA_RM_20191009_Nuc_CD3_F1_02', '16mar2019_RVG262_APA_CD3_F1_PLRPS_FAIMS_HH_P20', 'RM_20190805_TCells_CD3pos_F6_01', 'LCA_RM_20191012_PPM_F5F6_01', 'RM_20190811_CD19CD20_F7F8_04', '081018_RVG262_PGAFF_RP4H_Neutros_GelFREE_8pF1_FAIMS_CV_-10_018', '20181107_rmi049_75idPLRPS_APA_CD34_Nuc_F6_b', '20181121_rmi049_75idPLRPS_APA_Treg_Cyto_F4_a', '20180824_rmi049_75idPLRPS_APA_Plasma_PM_F10_c', '20180927_rmi049_75idPLRPS_APA_Macrophage_Nuc_F3_c', '20181116_rmi049_75idPLRPS_APA_Platelets_PM_F6_a', 'RM_20190801_NK_F3_01', 'RM_20190810_CD19neg_F8_01', '20180920_rmi049_75idPLRPS_APA_Macrophage_Cyto_F1_b', '20mar2019_RVG262_APA_CD3_NUC_PLRPS_FAIMS_HH_P20', 'LCA_RM_20191127_Nuc_NK_F5_02', '20180813_rmi049_75idPLRPS_APA_RBC_PM_F5_c', '20180813_rmi049_75idPLRPS_APA_RBC_PM_F4_c', '20180813_rmi049_75idPLRPS_APA_RBC_PM_F4_a', '20150927_BM_sort_2E6_CD19_dimCD10_techrep01', 'DB_RM_20191003_PlasmaPM_F2_01', 'LCA_RM_20191008_Nuc_CD4_F5_01', 'LCA_11182018_APA_DS17_Treg_F8p2_02', '20180615_rmi049_75idPLRPS_APA_PBMC_200_F1_a', '20190227_rmi049_75idPLRPS_APA_Mono_CD14__Pos_Nuc_F6_b', 'LCA_RM_20191127_Nuc_NK_F7_02', '20181116_rmi049_75idPLRPS_APA_Platelets_PM_F5_c', '20180929_rmi049_75idPLRPS_APA_DC_Nuc_F6_c', '20180821_rmi049_75idPLRPS_APA_NK_Nucl_F3_a', 'DSB_RM_20191130_Nuc_Bpos_CD19_F9_02', '20180927_rmi049_75idPLRPS_APA_Macrophage_Nuc_F1_b', '20180817_rmi049_75idPLRPS_APA_NK_Cyto_F2_a', '20181107_rmi049_75idPLRPS_APA_CD34_Nuc_F4_c', '06102019_RVG262_PLRPS_FAIMS_CV_neg40_F1_CD3', 'LCA_08232018_CD3_500_F2_CID_02', '20181116_rmi049_75idPLRPS_APA_Platelets_PM_F1_a', '20170307_ksn5514_FACS_BC_RP4H_10547771_D2_T_SEP_tech_rep_03', '06102019_RVG262_PLRPS_FAIMS_CV_plus30_F1_CD3', 'RM_20190929_cyto_eosinophil_F1_01', 'DSB_RM_20191013_Nuc_CD8_F7_02', 'LCA_RM_20191009_Nuc_CD3_F2_01', '06102019_RVG262_PLRPS_FAIMS_CV_noFAIMS_F1_CD3_Tech3', '20181105_rmi049_75idPLRPS_APA_CD34_Cyto_F1_b', 'DSB_RM_20190927_cyto_neutrophil_F1_02', '20190221_rmi049_75idPLRPS_APA_Mono_CD14__Pos_Cyto_F1_a', 'RM_20190804_TCells_CD19CD20_F1F2_01', 'LCA_08212018_CD3_200_F3_CID_02', '20150927_BM_sort_2E6_CD19_midCD10_techrep03', 'RM_20190810_NK_F7_01', 'LCA_08242018_CD3_500_F6_CID_01', '20181105_rmi049_75idPLRPS_APA_CD34_Cyto_F5_c', 'LCA_05222018_NRTDP_Allen_CD8B2F5_CID', '20180929_rmi049_75idPLRPS_APA_DC_Nuc_F3_c', 'LCA_05202018_NRTDP_Allen_CD4B2F6_ETD', '20181101_rmi049_75idPLRPS_APA_CD3_IEX_1M_F6_a', '20180525_rmi049_APA_PLRPS_PBMC-test_Fraction_05_10-55_a', '20181010_rmi049_75idPLRPS_APA_Mono_Cyto_F1_a', 'LCA_11122018_APA_DS48_CD34_C1F4_1p5E6_01', '06102019_RVG262_PLRPS_FAIMS_CV_noFAIMS_F1_CD3_Tech8', '20170309_ksn5514_FACS_BC_RP4H_10547771_D2_T_FACS_tech_rep_02', '20180923_rmi049_75idPLRPS_APA_DC_Cyto_F4_a', 'RM_20190807_CD19pos_F6_02', 'LCA_RM_20191008_Nuc_CD4_F6_01', '20180920_rmi049_75idPLRPS_APA_Macrophage_Cyto_F3_c', '20180615_rmi049_75idPLRPS_APA_PBMC_FT_F6_b', '20170309_ksn5514_FACS_BC_RP4H_10547771_T_FACS_biorep_02_techrep_01', '16mar2019_RVG262_APA_CD3_F2_PLRPS_FAIMS_HH_zero', '20170309_ksn5514_FACS_BC_RP4H_10547771_T_FACS_biorep_01_techrep_03', '20180615_rmi049_75idPLRPS_APA_PBMC_400_F1_a', '20190410_rmi049_75idPLRPS_APA_Neutro_Cyto_F3_c', '20150927_BM_sort_2E6_CD19_highCD10_techrep02', 'DSB_20181116_APA_DS46_F1_02', 'LCA_08092018_CD3_FT_F3_CID_03', '20180615_rmi049_75idPLRPS_APA_PBMC_100_F1_a', '20181105_rmi049_75idPLRPS_APA_CD34_Cyto_F2_c', '20200214_rmi049_75umPLRPS_Allen_CD3_F4_a', '20180824_rmi049_75idPLRPS_APA_Plasma_PM_F9_c', '20180826_rmi049_75idPLRPS_APA_CD3_IEX_FT_F5_b', '20181116_rmi049_75idPLRPS_APA_Platelets_PM_F3_a', 'DSB_RM_20191130_Nuc_Bpos_CD19_F7_02', 'RM_20190730_Tcells_CD8pos_F2_03', 'LCA_11102018_APA_DS47_F6A_02_3E6_8uSMS1_2uSMS2', 'DSB_RM_20191013_Nuc_CD8_F6_01', 'RM_20190729_Tcells_CD4pos_F1_03', 'DSB_RM_20191011_Nuc_CD8_F3_01', '20180615_rmi049_75idPLRPS_APA_PBMC_100_F4_b', '20180817_rmi049_75idPLRPS_APA_NK_Cyto_F5_b', '20180927_rmi049_75idPLRPS_APA_Macrophage_Nuc_F2_a', '20181105_rmi049_75idPLRPS_APA_CD34_Cyto_F4_b', '20180930_rmi049_75idPLRPS_APA_EOS_Nuc_F2_b', '20181116_rmi049_75idPLRPS_APA_Platelets_PM_F10_a', '20190523_rmi049_75idPLRPS_APA_Neutro_Cyto_F4_a', '06102019_RVG262_PLRPS_FAIMS_CV__F1_CD3_0L_Neg30', '20180923_rmi049_75idPLRPS_APA_DC_Cyto_F3_a', 'DSB_20181115_APA_DS47_mono_F3_01', '20180828_rmi049_75idPLRPS_APA_CD3_IEX_200_F6_b', '20181121_rmi049_75idPLRPS_APA_Treg_Cyto_F3_b', '20180813_rmi049_75idPLRPS_APA_RBC_PM_F3_c', 'DSB_RM_20191013_Nuc_CD8_F9_02', 'LCA_08232018_CD3_500_F2_CID_01', '20180920_rmi049_75idPLRPS_APA_Macrophage_Cyto_F5_b', '20190517_rmi049_75idPLRPS_APA_B_Cyto_F6_a', 'DB_RM_20191002_plasma_F4_02', '22mar2019_RVG262_APA_CD3_NUC_PLRPS_noFAIMS_HH_03', '20181030_rmi049_75idPLRPS_APA_CD3_IEX_500_F2_c', '20200214_rmi049_75umPLRPS_Allen_CD3_F6_a', 'RM_20190730_Tcells_CD4pos_F4_01', '20180821_rmi049_75idPLRPS_APA_NK_Nucl_F2_c', 'LCA_05192018_NRTDP_Allen_CD8B2-2F1_CID', '20190225_rmi049_75idPLRPS_APA_Mono_CD14_CD16-_Neg_Nuc_F4_b', 'LCA_11122018_APA_DS48_CD34_C1F1_1p5E6_01', '20180817_rmi049_75idPLRPS_APA_NK_Cyto_F1_c', '20181022_rmi049_75idPLRPS_APA_Mono_Nuc_F4_a', 'RM_20190807_CD19pos_F5_01', 'LCA_RM_20191129_Nuc_Bpos_CD19_F1_02', '20181010_rmi049_75idPLRPS_APA_Mono_Cyto_F3_a', '20190221_rmi049_75idPLRPS_APA_Mono_CD14_CD16-_Neg_Cyto_F2_b', 'LCA_08262018_CD3_1M_F5_CID_02', 'RM_20190929_cyto_eosinophil_F4_01', '20180828_rmi049_75idPLRPS_APA_CD3_IEX_200_F5_b', '20180615_rmi049_75idPLRPS_APA_PBMC_100_F2_b', 'LCA_11132018_APA_DS48_CD34_C1F2_1p5E6_LONGGradient', '20180817_rmi049_75idPLRPS_APA_NK_Cyto_F6_b', '20180821_rmi049_75idPLRPS_APA_NK_Nucl_F4_b', 'RM_20190805_TCells_CD3pos_F8_02', '20180813_rmi049_75idPLRPS_APA_RBC_PM_F9_a', '20180615_rmi049_75idPLRPS_APA_PBMC_200_F3_c', 'DSB_20181116_APA_DS46_F3_01', '20180525_rmi049_APA_PLRPS_PBMC-test_Fraction_05_15-45_b', 'LCA_RM_20191009_Nuc_CD3_F3_02', 'RM_20190808_CD19pos_F6_newGrad_03', 'LCA_RM_20191127_Nuc_NK_F3_02', '20180821_rmi049_75idPLRPS_APA_NK_Nucl_F5_a', '20180813_rmi049_75idPLRPS_APA_RBC_PM_F3_b', 'LCA_11122018_APA_DS48_CD34_C1F4_3E6_02', '20180525_rmi049_APA_PLRPS_PBMC-test_Fraction_03_15-45_b', '20190221_rmi049_75idPLRPS_APA_Mono_CD14_CD16-_Neg_Cyto_F6_c', '081418_RVG262_PGAFF_RP4H_Neutros_200_FAIMS_CV_-20-10-0_051', 'LCA_05262018_NRTDP_Allen_CD8B1F8_CID', '06102019_RVG262_PLRPS_FAIMS_CV__F2_NOFAIMS_CD3_T1', '16mar2019_RVG262_APA_CD3_cyto_PLRPS_FAIMS_HH_p10', '20150927_BM_sort_2E6_CD19_midCD10_techrep01', '20180925_rmi049_75idPLRPS_APA_EOS_Cyto_F3_c', 'LCA_11132018_APA_DS48_CD34_C1F5_02', '06102019_RVG262_PLRPS_FAIMS_CV_neg90_F1_CD3', '081018_RVG262_PGAFF_RP4H_Neutros_GelFREE_8pF1_FAIMS_CV_-20_005', '20180826_rmi049_75idPLRPS_APA_CD3_IEX_FT_F1_a', '20180828_rmi049_75idPLRPS_APA_CD3_IEX_200_F6_a', '20181022_rmi049_75idPLRPS_APA_Mono_Nuc_F6_c', '20180615_rmi049_75idPLRPS_APA_PBMC_400_F4_c', '20190221_rmi049_75idPLRPS_APA_Mono_CD14_CD16-_Neg_Cyto_F2_c', '20181105_rmi049_75idPLRPS_APA_CD34_Cyto_F5_b', '20180615_rmi049_75idPLRPS_APA_PBMC_100_F2_c', 'LCA_05222018_NRTDP_Allen_CD4B1F7_ETD', 'DSB_RM_20191010_Nuc_CD3_F6_02', '20180615_rmi049_75idPLRPS_APA_PBMC_FT_F3_b', '20190523_rmi049_75idPLRPS_APA_Neutro_Cyto_F4_b', 'LCA_RM_20191007_Nuc_CD4_F4_02', 'LCA_08262018_CD3_FT_F8_CID_03', 'RM_20190807_CD19pos_F6_01', '20180525_rmi049_APA_PLRPS_PBMC-test_Fraction_02_15-45_c', 'RM_20190728_Bcells_CD19pos_F2_03', '16mar2019_RVG262_APA_CD3_F1_PLRPS_FAIMS_HH_P15', 'LCA_RM_20191012_Nuc_CD8_F5_02', '20181101_rmi049_75idPLRPS_APA_CD3_IEX_1M_F3_c', '20181101_rmi049_75idPLRPS_APA_CD3_IEX_1M_F1_a', 'DSB_20181116_APA_DS46_F3_02', '081418_RVG262_PGAFF_RP4H_Neutros_FT_FAIMS_CV_20_025', 'RM_20190929_cyto_eosinophil_F3_02', '20180817_rmi049_75idPLRPS_APA_NK_Cyto_F5_c', 'RM_20190802_TCells_CD3pos_F3_01', '19MAR2019_RVG262_APA_CD3_F3n4_PLRPS_noFAIMS_HH_1', 'RM_20190810_CD19neg_F7_01', '20170309_ksn5514_FACS_BC_RP4H_10547771_T_FACS_biorep_03_techrep_02', '20180824_rmi049_75idPLRPS_APA_Plasma_PM_F7_c', 'RM_20190803_TCells_CD19neg_F2_02', '081018_RVG262_PGAFF_RP4H_Neutros_GelFREE_8pF1_FAIMS_CV_-80_011', 'RM_20190728_Bcells_CD19pos_F4_01', '20180615_rmi049_75idPLRPS_APA_PBMC_400_F5_b', '20mar2019_RVG262_APA_CD3_NUC_PLRPS_FAIMS_HH_P40_20190322042500', '20181018_rmi049_75idPLRPS_APA_T-Reg_Cyto_F2_c', '20190227_rmi049_75idPLRPS_APA_Mono_CD14__Pos_Nuc_F1_c', '20180929_rmi049_75idPLRPS_APA_DC_Nuc_F5_b', '20181120_rmi049_75idPLRPS_APA_RBC_Water-U_grad22-45_a', 'RM_20190801_NK_F2_01', 'LCA_05192018_NRTDP_Allen_CD8B2F4_CID', 'DSB_20181116_APA_DS46_F4_01', '20181103_rmi049_75idPLRPS_APA_Platelets_GF12_F6_a', '20180925_rmi049_75idPLRPS_APA_EOS_Cyto_F4_c', 'RM_20190802_TCells_CD3pos_F2_02', 'LCA_05212018_NRTDP_Allen_CD8B1F4_ETD', '20190221_rmi049_75idPLRPS_APA_Mono_CD14_CD16-_Neg_Cyto_F5_a', '19MAR2019_RVG262_APA_CD3_F3n4_PLRPS_noFAIMS_HH_2', '06102019_RVG262_PLRPS_FAIMS_CV_neg120_F1_CD3', 'LCA_11132018_APA_DS48_CD34_C1F3_2E6_LONGGradient', '20180813_rmi049_75idPLRPS_APA_RBC_PM_F1_c', '20180930_rmi049_75idPLRPS_APA_EOS_Nuc_F5_a', '20190221_rmi049_75idPLRPS_APA_Mono_CD14_CD16-_Neg_Cyto_F1_c', '06102019_RVG262_PLRPS_FAIMS_CV__F2_CD3_0L_Plus20', '20170309_ksn5514_FACS_BC_RP4H_10547771_D1_T_FACS_tech_rep_01', '20180824_rmi049_75idPLRPS_APA_Plasma_PM_F11_f', '081018_RVG262_PGAFF_RP4H_Neutros_GelFREE_8pF1_FAIMS_CV_30_014', 'LCA_05192018_NRTDP_Allen_CD8B2F4_ETD', 'LCA_RM_20191129_Nuc_NK_F9_02', 'LCA_11122018_APA_DS48_CD34_C1F2_1p5E6_02', '20181002_rmi049_75idPLRPS_APA_DC_Nuc_F1_b', '20181107_rmi049_75idPLRPS_APA_CD34_Nuc_F3_a', '20180925_rmi049_75idPLRPS_APA_EOS_Cyto_F5_a', '20180927_rmi049_75idPLRPS_APA_Macrophage_Nuc_F4_b', '20180615_rmi049_75idPLRPS_APA_PBMC_100_F3_b', '16mar2019_RVG262_APA_CD3_F1_PLRPS_FAIMS_HH_M15', '20180821_rmi049_75idPLRPS_APA_NK_Nucl_F3_b', 'LCA_RM_20191007_Nuc_CD4_F1_01', '20180824_rmi049_75idPLRPS_APA_Plasma_PM_F12_e', '081418_RVG262_PGAFF_RP4H_Neutros_500_FAIMS_CV_-20-10-0_055', '20190419_RM_NK_Cyto_F2_a', '20150927_BM_sort_2E6_CD19_dimCD10_techrep04', '20191117_rmi049_75idPLRPS_CD3_Cyto_8pc_F1_120k_b_20191121141953', '16mar2019_RVG262_APA_CD3_F2_PLRPS_FAIMS_HH_P40', 'LCA_11132018_APA_DS48_CD34_C1F4_3E6_LONGGradient', '20180615_rmi049_75idPLRPS_APA_PBMC_400_F4_a', '20180813_rmi049_75idPLRPS_APA_RBC_PM_F8_b', 'LCA_05202018_NRTDP_Allen_CD4B2F6_CID', 'RM_20190806_CD4_F6_02', '20190107_rvg262_75idPLRPS_APA_CD3_F1_T2', '18mar2019_RVG262_APA_CD3_F3n4_PLRPS_FAIMS_HH_P10', '20150930_TDQ_BC_Naive_techrep_01', 'DSB_RM_20191011_Nuc_CD8_F1_01', 'LCA_RM_20191002_cyto_eosinophil_F6_01', 'RM_20190807_NK_F6_01', 'LCA_RM_20191127_Nuc_NK_F4_01', '20190410_rmi049_75idPLRPS_APA_Neutro_Cyto_F2_c', '20181107_rmi049_75idPLRPS_APA_CD34_Nuc_F2_a', 'LCA_RM_20191002_cyto_eosinophil_F5_01', 'DB_RM_20191003_PlasmaPM_F1_01', '20181121_rmi049_75idPLRPS_APA_Treg_Cyto_F5_c', '20180615_rmi049_75idPLRPS_APA_PBMC_700_F4_c', 'RM_20190811_CD19CD20_F7F8_03', '20180615_rmi049_75idPLRPS_APA_PBMC_FT_F2_c', '16mar2019_RVG262_APA_CD3_F1_PLRPS_FAIMS_HH_P10', 'RM_20190809_CD4_F8_02', '20181002_rmi049_75idPLRPS_APA_DC_Nuc_F1_c', '20181105_rmi049_75idPLRPS_APA_CD34_Cyto_F6_a', '20200214_rmi049_75umPLRPS_Allen_CD3_F3_c', '20181103_rmi049_75idPLRPS_APA_Platelets_GF12_F6_b', '20190523_rmi049_75idPLRPS_APA_Neutro_Cyto_F3_a', '20181022_rmi049_75idPLRPS_APA_Mono_Nuc_F5_c', '20180923_rmi049_75idPLRPS_APA_DC_Cyto_F6_c', '20190410_rmi049_75idPLRPS_APA_Neutro_Cyto_F4_a', '16mar2019_RVG262_APA_CD3_F1_PLRPS_FAIMS_HH_M10', '20180929_rmi049_75idPLRPS_APA_DC_Nuc_F4_a', 'RM_20190731_Tcells_CD8pos_F3_02', '20190221_rmi049_75idPLRPS_APA_Mono_CD14_CD16-_Neg_Cyto_F3_a', '20200214_rmi049_75umPLRPS_Allen_CD3_F5_hi_d', '20180813_rmi049_75idPLRPS_APA_RBC_PM_F6_b', '06102019_RVG262_PLRPS_FAIMS_CV_plus10_F1_CD3', 'LCA_05172018_NRTDP_Allen_CD4B1F4_ETD', 'LCA_RM_20191127_Nuc_NK_F1_02', 'LCA_08112018_CD3_FT_F8_CID_02', '20190221_rmi049_75idPLRPS_APA_Mono_CD14__Pos_Cyto_F1_c', 'LCA_11102018_APA_DS45_F8A_01_1E6_6uSMS1_2uSMS2', '20180615_rmi049_75idPLRPS_APA_PBMC_200_F3_a', 'RM_20190807_NK_F5_02', '20180615_rmi049_75idPLRPS_APA_PBMC_100_F6_a', 'LCA_08112018_CD3_FT_F4_CID_02', '20180927_rmi049_75idPLRPS_APA_Macrophage_Nuc_F3_b', '20191117_rmi049_75idPLRPS_CD3_Cyto_8pc_F1_120k_c', 'LCA_08262018_CD3_1M_F7_CID_02', '20180923_rmi049_75idPLRPS_APA_DC_Cyto_F1_b', '20200214_rmi049_75umPLRPS_Allen_CD3_F2_c', '20180930_rmi049_75idPLRPS_APA_EOS_Nuc_F4_c', '20180615_rmi049_75idPLRPS_APA_PBMC_200_F1_c', 'LCA_08232018_CD3_500_F3_CID_01', 'RM_20190811_CD19CD20_F7F8_02', '20180828_rmi049_75idPLRPS_APA_CD3_IEX_200_F2_a', 'RM_20190806_CD19neg_F6_01', 'LCA_05222018_NRTDP_Allen_CD4B1F6_ETD', '20170309_ksn5514_FACS_BC_RP4H_10547771_D3_B_SEP_tech_rep_02', '20190523_rmi049_75idPLRPS_APA_Neutro_Cyto_F6_b', '20181022_rmi049_75idPLRPS_APA_Mono_Nuc_F6_a', '20181121_rmi049_75idPLRPS_APA_Treg_Cyto_F4_c', '20190221_rmi049_75idPLRPS_APA_Mono_CD14_CD16-_Neg_Cyto_F1_b', 'LCA_RM_20191129_Nuc_Bpos_CD19_F2_01', '20190107_rvg262_75idPLRPS_APA_CD3_F1_T2_20190109080009', '20180929_rmi049_75idPLRPS_APA_DC_Nuc_F6_b', '20200214_rmi049_75umPLRPS_Allen_CD3_F6_hi_c', '20190225_rmi049_75idPLRPS_APA_Mono_CD14_CD16-_Neg_Nuc_F2_c_20190226130738', '20150930_TDQ_BC_Memory_techrep_01', '20170309_ksn5514_FACS_BC_RP4H_10547771_D2_B_FACS_tech_rep_02', '20190227_rmi049_75idPLRPS_APA_Mono_CD14__Pos_Nuc_F4_b', 'LCA_11102018_APA_DS47_F6A_02_1E6_2uSMS2', '20181116_rmi049_75idPLRPS_APA_Platelets_PM_F8_b', 'LCA_05182018_NRTDP_Allen_CD8B1F1_ETD', 'LCA_11172018_APA_NK_C8_02', 'DSB_RM_20191013_Nuc_CD8_F7_01', '22mar2019_RVG262_APA_CD3_NUC_PLRPS_noFAIMS_HH_02', '20190517_rmi049_75idPLRPS_APA_B_Cyto_F2_c', '20190227_rmi049_75idPLRPS_APA_Mono_CD14__Pos_Nuc_F3_a', '20150930_TDQ_BC_Memory_techrep_02', '20181121_rmi049_75idPLRPS_APA_Treg_Cyto_F6_a', '20180930_rmi049_75idPLRPS_APA_EOS_Nuc_F3_b', '20180615_rmi049_75idPLRPS_APA_PBMC_700_F3_b', 'DSB_RM_20191010_Nuc_CD3_F5_02', '20190521_rmi049_75idPLRPS_APA_CD4_Cyto_F4_c', '20190225_rmi049_75idPLRPS_APA_Mono_CD14_CD16-_Neg_Nuc_F6_a', 'RM_20190803_TCells_CD19neg_F2_03', '20170309_ksn5514_FACS_BC_RP4H_10547771_B_SEP_biorep_02_techrep_01', '20180828_rmi049_75idPLRPS_APA_CD3_IEX_200_F3_b', '20180925_rmi049_75idPLRPS_APA_EOS_Cyto_F1_a', 'LCA_08232018_CD3_pool_FT_200_F9_02', '20180824_rmi049_75idPLRPS_APA_Plasma_PM_F11_c', '20181020_rmi049_75idPLRPS_APA_T-Reg_Nuc_F5_b', '20180615_rmi049_75idPLRPS_APA_PBMC_400_F1_c', '20190221_rmi049_75idPLRPS_APA_Mono_CD14__Pos_Cyto_F4_b', '20181121_rmi049_75idPLRPS_APA_Treg_Cyto_F6_b', 'RM_20190804_TCells_CD19CD20_F1F2_03', '20181010_rmi049_75idPLRPS_APA_Mono_Cyto_F5_b', 'LCA_11142018_APA_DS48_CD34_C1F7_01_8uSMS1_2uSMS2', '20190221_rmi049_75idPLRPS_APA_Mono_CD14__Pos_Cyto_F3_c', 'RM_20190731_Tcells_CD8pos_F3_01', '16mar2019_RVG262_APA_CD3_cyto_PLRPS_FAIMS_HH_p20', '20150930_TDQ_BC_Naive_techrep_04', '081018_RVG262_PGAFF_RP4H_Neutros_GelFREE_8pF1FAIMS_CV_10_016', '20181010_rmi049_75idPLRPS_APA_Mono_Cyto_F6_a', '20200214_rmi049_75umPLRPS_Allen_CD3_F6_b', '20190517_rmi049_75idPLRPS_APA_B_Cyto_F4_b', '20180615_rmi049_75idPLRPS_APA_PBMC_700_F6_a', 'LCA_RM_20191006_Platelets_F6A_01', '20180813_rmi049_75idPLRPS_APA_RBC_PM_F7_b', '20180930_rmi049_75idPLRPS_APA_EOS_Nuc_F1_c', 'LCA_08092018_CD3_FT_F3_CID_01', 'LCA_11132018_APA_DS48_CD34_C1F6_02_8uSMS1_2uSMS2', '20180824_rmi049_75idPLRPS_APA_Plasma_PM_F11_d', '20170307_ksn5514_FACS_BC_RP4H_10547771_D2_B_FACS_tech_rep_01', 'LCA_11172018_APA_NK_C8_01', 'RM_20190802_TCells_CD3pos_F4_01', '20181101_rmi049_75idPLRPS_APA_CD3_IEX_1M_F2_c', '20180813_rmi049_75idPLRPS_APA_RBC_PM_F8_a', '20181022_rmi049_75idPLRPS_APA_Mono_Nuc_F4_b', '20181010_rmi049_75idPLRPS_APA_Mono_Cyto_F2_b', '20181030_rmi049_75idPLRPS_APA_CD3_IEX_500_F2_a', '16mar2019_RVG262_APA_CD3_cyto_PLRPS_FAIMS_HH_m10', '20180929_rmi049_75idPLRPS_APA_DC_Nuc_F6_a', '20150930_TDQ_BC_Naive_techrep_05', '20181010_rmi049_75idPLRPS_APA_Mono_Cyto_F4_c', '20180615_rmi049_75idPLRPS_APA_PBMC_FT_F3_a', 'LCA_RM_20191007_Nuc_CD4_F3_02', '20181020_rmi049_75idPLRPS_APA_T-Reg_Nuc_F2_a', 'RM_20190804_TCells_CD19CD20_F3F4_01', '20180821_rmi049_75idPLRPS_APA_NK_Nucl_F4_c', '20181101_rmi049_75idPLRPS_APA_CD3_IEX_1M_F5_a', '20180930_rmi049_75idPLRPS_APA_EOS_Nuc_F6_c', 'LCA_11102018_APA_DS46_F5A_02', '16mar2019_RVG262_APA_CD3_F1_PLRPS_FAIMS_HH_P05', 'LCA_08242018_CD3_500_F8_CID_02', '20191117_rmi049_75idPLRPS_CD3_Cyto_8pc_F1_240k_b', '20181018_rmi049_75idPLRPS_APA_T-Reg_Cyto_F4_c', 'LCA_05222018_NRTDP_Allen_CD4B1F7_CID', 'RM_20190806_CD4_F5_02', '20181101_rmi049_75idPLRPS_APA_CD3_IEX_1M_F4_c', 'DSB_RM_20191130_Nuc_Bpos_CD19_F9_01', '20190521_rmi049_75idPLRPS_APA_CD4_Cyto_F4_a', '20190221_rmi049_75idPLRPS_APA_Mono_CD14_CD16-_Neg_Cyto_F1_a', 'DSB_RM_20191130_Nuc_Bpos_CD19_F8_01', '20190521_rmi049_75idPLRPS_APA_CD4_Cyto_F5_a', '20180821_rmi049_75idPLRPS_APA_NK_Nucl_F1_a', 'LCA_08212018_CD3_200_F1_CID_02', '16mar2019_RVG262_APA_CD3_F2_PLRPS_FAIMS_HH_M20', 'LCA_08252018_CD3_1M_F1_CID_02', '20170309_ksn5514_FACS_BC_RP4H_10547771_D3_B_FACS_tech_rep_01', '20181116_rmi049_75idPLRPS_APA_Platelets_PM_F4_b', 'LCA_11142018_APA_DS47_mono_F7p3_02_8uSMS1_2uSMS2', '20170309_ksn5514_FACS_BC_RP4H_10547771_B_SEP_biorep_01_techrep_03', '20190225_rmi049_75idPLRPS_APA_Mono_CD14_CD16-_Neg_Nuc_F6_b', '081018_RVG262_PGAFF_RP4H_Neutros_GelFREE_8pF1_FAIMS_CV_-90_017', '20180817_rmi049_75idPLRPS_APA_NK_Cyto_F2_c', '20180615_rmi049_75idPLRPS_APA_PBMC_700_F5_b', 'RM_20190728_Bcells_CD19pos_F4_02', 'LCA_11102018_APA_DS47_F6A_01_1E6', '20190107_rvg262_75idPLRPS_APA_CD3_F3_T2_20190108223654', 'LCA_RM_20190928_cyto_neutrophil_F3_01', '20180927_rmi049_75idPLRPS_APA_Macrophage_Nuc_F1_a', 'DSB_RM_20191010_Nuc_CD3_F9_01', '20181107_rmi049_75idPLRPS_APA_CD34_Nuc_F5_c', 'DSB_RM_20191011_Nuc_CD8_F2_01', 'DSB_20181116_APA_DS46_F4_02', '20180826_rmi049_75idPLRPS_APA_CD3_IEX_FT_F4_c', '20181022_rmi049_75idPLRPS_APA_Mono_Nuc_F6_b', '20141110_RP-4H_5E6Bcells_10pctGF_120min_top2DD_HCD_GF01_inj01', 'LCA_05192018_NRTDP_Allen_CD4B2F5_ETD', '20180923_rmi049_75idPLRPS_APA_DC_Cyto_F4_c', '20190221_rmi049_75idPLRPS_APA_Mono_CD14_CD16-_Neg_Cyto_F3_b', 'LCA_RM_20191007_Nuc_CD4_F2_01', '20180525_rmi049_APA_PLRPS_PBMC-test_Fraction_06_15-45_b', '20181022_rmi049_75idPLRPS_APA_Mono_Nuc_F5_b'}\n"
     ]
    }
   ],
   "execution_count": 13
  },
  {
   "metadata": {
    "ExecuteTime": {
     "end_time": "2025-05-04T13:38:24.819020Z",
     "start_time": "2025-05-04T13:38:24.789203Z"
    }
   },
   "cell_type": "code",
   "source": [
    "def clean_filename_flash(filename):\n",
    "    # Remove '_ms2.msalign'\n",
    "    filename = filename.replace(\"_ms2.msalign\", \"\")\n",
    "    \n",
    "    # Ensure the filename matches the closest TDAuditor entry\n",
    "    for tdauditor_file in tdauditor_filenames_f:\n",
    "        if tdauditor_file in filename:\n",
    "            return tdauditor_file  # Replace with the correct match\n",
    "    \n",
    "    return filename  # Return the cleaned filename if no match found\n"
   ],
   "id": "5230f21cdd90cdbb",
   "outputs": [],
   "execution_count": 14
  },
  {
   "metadata": {
    "ExecuteTime": {
     "end_time": "2025-05-04T13:39:18.368383Z",
     "start_time": "2025-05-04T13:38:58.171122Z"
    }
   },
   "cell_type": "code",
   "source": [
    "df_prsm_hit_flash[\"Cleaned SourceFile\"] = df_prsm_hit_flash[\"Data file name\"].apply(clean_filename_flash)\n",
    "\n",
    "unmatched_filenames = set(df_prsm_hit_flash[\"Cleaned SourceFile\"]) - tdauditor_filenames_f\n",
    "print(\"Unmatched Filenames:\", unmatched_filenames)\n"
   ],
   "id": "9a8b0ba289dc9db0",
   "outputs": [
    {
     "name": "stdout",
     "output_type": "stream",
     "text": [
      "Unmatched Filenames: set()\n"
     ]
    }
   ],
   "execution_count": 15
  },
  {
   "metadata": {
    "ExecuteTime": {
     "end_time": "2025-05-04T13:40:20.005901Z",
     "start_time": "2025-05-04T13:39:53.573117Z"
    }
   },
   "cell_type": "code",
   "source": [
    "\n",
    "\n",
    "# Ensure scan numbers are treated as strings\n",
    "df_prsm_hit_flash[\"Scan(s)\"] = df_prsm_hit_flash[\"Scan(s)\"].astype(str)\n",
    "tdauditor_flash[\"ScanNumber\"] = tdauditor_flash[\"ScanNumber\"].astype(str)\n",
    "\n",
    "# Create a set of matching (SourceFile, Scan) pairs from df_prsm_hit\n",
    "matching_pairs = set(zip(df_prsm_hit_flash[\"Cleaned SourceFile\"], df_prsm_hit_flash[\"Scan(s)\"]))\n",
    "\n",
    "# Add the hit column to TDAuditor\n",
    "tdauditor_flash[\"hit\"] = tdauditor_flash.apply(\n",
    "    lambda row: 1 if (row[\"SourceFile\"], row[\"ScanNumber\"]) in matching_pairs else 0, \n",
    "    axis=1\n",
    ")\n",
    "\n",
    "# Save the updated file\n",
    "output_path = \"flash_td_auditor_hit_column.tsv\"\n",
    "tdauditor_flash.to_csv(output_path, sep=\"\\t\", index=False)\n",
    "\n"
   ],
   "id": "136936fd0d3ef59d",
   "outputs": [],
   "execution_count": 16
  },
  {
   "metadata": {
    "ExecuteTime": {
     "end_time": "2025-04-22T15:05:40.784610Z",
     "start_time": "2025-04-22T15:05:37.262410Z"
    }
   },
   "cell_type": "code",
   "source": [
    "import pandas as pd\n",
    "import matplotlib.pyplot as plt\n",
    "#tdauditor_flash = pd.read_csv(\"updated_td_auditor_flashdeconv_with_instrument.tsv\", sep=\"\\t\")\n",
    "print((tdauditor_flash['hit'] == 1).sum())\n",
    "print(tdauditor_flash.groupby('Instrument')['hit'].mean().sort_values(ascending=False))\n",
    "\n",
    "# Or visualize instrument effects:\n",
    "import seaborn as sns\n",
    "plt.figure(figsize=(12, 6))\n",
    "sns.boxplot(data=tdauditor_flash, x='Instrument', y='LongestTag', hue='hit')\n",
    "plt.xticks(rotation=45)\n",
    "plt.show()"
   ],
   "id": "5fa5f7a84e9a3f00",
   "outputs": [
    {
     "name": "stdout",
     "output_type": "stream",
     "text": [
      "725391\n",
      "Instrument\n",
      "Q Exactive               0.468750\n",
      "Orbitrap Fusion Lumos    0.282323\n",
      "LTQ Orbitrap Elite       0.273725\n",
      "Orbitrap Eclipse         0.232271\n",
      "LTQ FT Ultra             0.187841\n",
      "Name: hit, dtype: float64\n"
     ]
    },
    {
     "data": {
      "text/plain": [
       "<Figure size 1200x600 with 1 Axes>"
      ],
      "image/png": "[encoded data removed]"
     },
     "metadata": {},
     "output_type": "display_data"
    }
   ],
   "execution_count": 12
  },
  {
   "metadata": {
    "ExecuteTime": {
     "end_time": "2025-04-22T09:31:35.601522Z",
     "start_time": "2025-04-22T09:31:35.596426Z"
    }
   },
   "cell_type": "code",
   "source": "print((tdauditor_flash['hit'] == 0).sum())",
   "id": "de179e1fd6c223d",
   "outputs": [
    {
     "name": "stdout",
     "output_type": "stream",
     "text": [
      "2056987\n"
     ]
    }
   ],
   "execution_count": 7
  },
  {
   "metadata": {
    "ExecuteTime": {
     "end_time": "2025-04-22T15:06:15.018785Z",
     "start_time": "2025-04-22T15:06:08.676921Z"
    }
   },
   "cell_type": "code",
   "source": [
    "\n",
    "tdauditor_topfd = pd.read_csv(\"updated_td_auditor_topfd_with_instrument.tsv\", sep=\"\\t\")\n",
    "print((tdauditor_topfd['hit']==1).sum())\n",
    "# You could analyze hit rates by instrument:\n",
    "print(tdauditor_topfd.groupby('Instrument')['hit'].mean().sort_values(ascending=False))\n",
    "\n",
    "# Or visualize instrument effects:\n",
    "import seaborn as sns\n",
    "plt.figure(figsize=(12, 6))\n",
    "sns.boxplot(data=tdauditor_topfd, x='Instrument', y='LongestTag', hue='hit')\n",
    "plt.xticks(rotation=45)\n",
    "plt.show()"
   ],
   "id": "3bc17e1c132502d",
   "outputs": [
    {
     "name": "stderr",
     "output_type": "stream",
     "text": [
      "/var/folders/j6/_f4gqc7j33nb2dzqnzm9w2w00000gn/T/ipykernel_72259/3407409471.py:1: DtypeWarning: Columns (16) have mixed types. Specify dtype option on import or set low_memory=False.\n",
      "  tdauditor_topfd = pd.read_csv(\"updated_td_auditor_topfd_with_instrument.tsv\", sep=\"\\t\")\n"
     ]
    },
    {
     "name": "stdout",
     "output_type": "stream",
     "text": [
      "685024\n",
      "Instrument\n",
      "Q Exactive               0.484859\n",
      "LTQ Orbitrap Elite       0.277203\n",
      "Orbitrap Fusion Lumos    0.270139\n",
      "Orbitrap Eclipse         0.203086\n",
      "LTQ FT Ultra             0.179480\n",
      "Name: hit, dtype: float64\n"
     ]
    },
    {
     "data": {
      "text/plain": [
       "<Figure size 1200x600 with 1 Axes>"
      ],
      "image/png": "[encoded data removed]"
     },
     "metadata": {},
     "output_type": "display_data"
    }
   ],
   "execution_count": 14
  },
  {
   "metadata": {
    "ExecuteTime": {
     "end_time": "2025-04-22T09:29:59.676006Z",
     "start_time": "2025-04-22T09:29:59.666278Z"
    }
   },
   "cell_type": "code",
   "source": "print((tdauditor_topfd['hit'] == 0).sum())",
   "id": "87f3d52614e97f10",
   "outputs": [
    {
     "name": "stdout",
     "output_type": "stream",
     "text": [
      "2097354\n"
     ]
    }
   ],
   "execution_count": 3
  },
  {
   "metadata": {
    "ExecuteTime": {
     "end_time": "2025-03-11T16:19:53.212205Z",
     "start_time": "2025-03-11T16:19:46.259107Z"
    }
   },
   "cell_type": "code",
   "source": [
    "import pandas as pd\n",
    "\n",
    "# Load the datasets\n",
    "topfd_df = pd.read_csv(\"/Users/user/PycharmProjects/TDAuditor/20250214-TDAuditor-Reports-FLASH-and-TopFD/20250214-TopFD178-TDAuditor-byMSn.tsv\", delimiter=\"\\t\")  # Replace with actual file name\n",
    "flashdeconv_df = pd.read_csv(\"/Users/user/PycharmProjects/TDAuditor/20250214-TDAuditor-Reports-FLASH-and-TopFD/20250214-FLASHDeconv-TDAuditor-byMSn.tsv\", delimiter=\"\\t\")  # Replace with actual file name\n",
    "\n",
    "# Select only relevant columns\n",
    "topfd_df = topfd_df[['SourceFile', 'ScanNumber']]\n",
    "flashdeconv_df = flashdeconv_df[['SourceFile', 'ScanNumber']]\n",
    "\n",
    "# Merge on SourceFile & ScanNumber to find matches\n",
    "merged_df = pd.merge(topfd_df, flashdeconv_df, on=['SourceFile', 'ScanNumber'], how='inner')\n",
    "\n",
    "# Calculate match percentage\n",
    "total_scans_topfd = len(topfd_df)\n",
    "total_scans_flashdeconv = len(flashdeconv_df)\n",
    "total_matches = len(merged_df)\n",
    "\n",
    "match_percentage_topfd = (total_matches / total_scans_topfd) * 100\n",
    "match_percentage_flashdeconv = (total_matches / total_scans_flashdeconv) * 100\n",
    "\n",
    "# Print results\n",
    "print(f\"Total scans in TopFD: {total_scans_topfd}\")\n",
    "print(f\"Total scans in FlashDeconv: {total_scans_flashdeconv}\")\n",
    "print(f\"Total matching scans: {total_matches}\")\n",
    "print(f\"Match percentage (TopFD-based): {match_percentage_topfd:.2f}%\")\n",
    "print(f\"Match percentage (FlashDeconv-based): {match_percentage_flashdeconv:.2f}%\")\n"
   ],
   "id": "4b8a16dedf1f6d79",
   "outputs": [
    {
     "name": "stdout",
     "output_type": "stream",
     "text": [
      "Total scans in TopFD: 2782378\n",
      "Total scans in FlashDeconv: 2782378\n",
      "Total matching scans: 2782378\n",
      "Match percentage (TopFD-based): 100.00%\n",
      "Match percentage (FlashDeconv-based): 100.00%\n"
     ]
    }
   ],
   "execution_count": 36
  },
  {
   "metadata": {},
   "cell_type": "markdown",
   "source": "Now I am adding the intrument type to each of the updated td_auditor files for top_fd and flash_deconv",
   "id": "8e01455d4d246ff3"
  },
  {
   "metadata": {
    "ExecuteTime": {
     "end_time": "2025-05-04T13:43:09.316658Z",
     "start_time": "2025-05-04T13:42:35.860913Z"
    }
   },
   "cell_type": "code",
   "source": [
    "import pandas as pd\n",
    "\n",
    "# Load the instrument type file\n",
    "instrument_df_flash = pd.read_csv(\"/Users/user/PycharmProjects/TDAuditor/20250430-TDAuditor-TSVs-TopFD-FLASH-PSPDXtract/TDAuditor-FLASHDeconv-byRun.tsv\", delimiter=\"\\t\")  # Update filename & delimiter if needed\n",
    "instrument_df_top = pd.read_csv(\"/Users/user/PycharmProjects/TDAuditor/20250430-TDAuditor-TSVs-TopFD-FLASH-PSPDXtract/TDAuditor-TopFD-byRun.tsv\", delimiter=\"\\t\")  # Update filename & delimiter if needed\n",
    "\n",
    "instrument_df_top = instrument_df_top[[\"SourceFile\", \"Instrument\"]]\n",
    "instrument_df_flash = instrument_df_flash[[\"SourceFile\", \"Instrument\"]]\n",
    "\n",
    "# Load the updated td_auditor files\n",
    "td_auditor_topfd = pd.read_csv(\"topfd_td_auditor_hit_column.tsv\", delimiter=\"\\t\")\n",
    "td_auditor_flashdeconv = pd.read_csv(\"flash_td_auditor_hit_column.tsv\", delimiter=\"\\t\")\n",
    "\n",
    "# Merge instrument type with both datasets\n",
    "td_auditor_topfd = td_auditor_topfd.merge(instrument_df_top, on=\"SourceFile\", how=\"left\")\n",
    "td_auditor_flashdeconv = td_auditor_flashdeconv.merge(instrument_df_flash, on=\"SourceFile\", how=\"left\")\n",
    "\n",
    "# Save updated files if needed\n",
    "td_auditor_topfd.to_csv(\"tdauditor_topfd_with_instrument.tsv\", sep=\"\\t\", index=False)\n",
    "td_auditor_flashdeconv.to_csv(\"tdauditor_flashdeconv_with_instrument.tsv\", sep=\"\\t\", index=False)\n",
    "\n",
    "# Check if everything looks good\n",
    "print(td_auditor_topfd.head())\n",
    "print(td_auditor_flashdeconv.head())\n"
   ],
   "id": "9ff7201ac6da5e9c",
   "outputs": [
    {
     "name": "stdout",
     "output_type": "stream",
     "text": [
      "                                     SourceFile  \\\n",
      "0  06102019_RVG262_PLRPS_FAIMS_CV_Neg100_F1_CD3   \n",
      "1  06102019_RVG262_PLRPS_FAIMS_CV_Neg100_F1_CD3   \n",
      "2  06102019_RVG262_PLRPS_FAIMS_CV_Neg100_F1_CD3   \n",
      "3  06102019_RVG262_PLRPS_FAIMS_CV_Neg100_F1_CD3   \n",
      "4  06102019_RVG262_PLRPS_FAIMS_CV_Neg100_F1_CD3   \n",
      "\n",
      "                                       NativeID  ScanNumber  ScanStartTime  \\\n",
      "0   controllerType=0 controllerNumber=1 scan=21          21       0.681169   \n",
      "1   controllerType=0 controllerNumber=1 scan=83          83       2.624363   \n",
      "2   controllerType=0 controllerNumber=1 scan=96          96       3.050480   \n",
      "3  controllerType=0 controllerNumber=1 scan=112         112       3.569240   \n",
      "4  controllerType=0 controllerNumber=1 scan=202         202       6.378995   \n",
      "\n",
      "  mzMLDissociation  MatchedToDeconvolution  mzMLPreZ  mzMLSelectedIon  \\\n",
      "0              HCD                    True         1       775.334290   \n",
      "1              HCD                    True         3       775.301880   \n",
      "2              HCD                    True         2       731.344910   \n",
      "3              HCD                    True         1      1093.244995   \n",
      "4              HCD                    True         2       775.260071   \n",
      "\n",
      "   mzMLMassResolvingPower  DeconvPreZ  DeconvPreMass  mzMLPeakCount  \\\n",
      "0                   60000           1      774.32859             14   \n",
      "1                   60000           3     2321.88400             21   \n",
      "2                   60000           1      730.33763             19   \n",
      "3                   60000           1     1092.23772             19   \n",
      "4                   60000           2     1548.50361             22   \n",
      "\n",
      "   DeconvPeakCount  Degree  ComponentNumber  AALinkCount  LongestTag  hit  \\\n",
      "0                0       0                0            0           0    0   \n",
      "1                0       0                0            0           0    0   \n",
      "2                0       0                0            0           0    0   \n",
      "3                0       0                0            0           0    0   \n",
      "4                0       0                0            0           0    0   \n",
      "\n",
      "              Instrument  \n",
      "0  Orbitrap Fusion Lumos  \n",
      "1  Orbitrap Fusion Lumos  \n",
      "2  Orbitrap Fusion Lumos  \n",
      "3  Orbitrap Fusion Lumos  \n",
      "4  Orbitrap Fusion Lumos  \n",
      "                                     SourceFile  \\\n",
      "0  06102019_RVG262_PLRPS_FAIMS_CV_Neg100_F1_CD3   \n",
      "1  06102019_RVG262_PLRPS_FAIMS_CV_Neg100_F1_CD3   \n",
      "2  06102019_RVG262_PLRPS_FAIMS_CV_Neg100_F1_CD3   \n",
      "3  06102019_RVG262_PLRPS_FAIMS_CV_Neg100_F1_CD3   \n",
      "4  06102019_RVG262_PLRPS_FAIMS_CV_Neg100_F1_CD3   \n",
      "\n",
      "                                       NativeID  ScanNumber  ScanStartTime  \\\n",
      "0   controllerType=0 controllerNumber=1 scan=21          21       0.681169   \n",
      "1   controllerType=0 controllerNumber=1 scan=83          83       2.624363   \n",
      "2   controllerType=0 controllerNumber=1 scan=96          96       3.050480   \n",
      "3  controllerType=0 controllerNumber=1 scan=112         112       3.569240   \n",
      "4  controllerType=0 controllerNumber=1 scan=202         202       6.378995   \n",
      "\n",
      "  mzMLDissociation  MatchedToDeconvolution  mzMLPreZ  mzMLSelectedIon  \\\n",
      "0              HCD                   False         1       775.334290   \n",
      "1              HCD                   False         3       775.301880   \n",
      "2              HCD                   False         2       731.344910   \n",
      "3              HCD                   False         1      1093.244995   \n",
      "4              HCD                   False         2       775.260071   \n",
      "\n",
      "   mzMLMassResolvingPower  DeconvPreZ  DeconvPreMass  mzMLPeakCount  \\\n",
      "0                   60000           0            NaN             14   \n",
      "1                   60000           0            NaN             21   \n",
      "2                   60000           0            NaN             19   \n",
      "3                   60000           0            NaN             19   \n",
      "4                   60000           0            NaN             22   \n",
      "\n",
      "   DeconvPeakCount  Degree  ComponentNumber  AALinkCount  LongestTag  hit  \\\n",
      "0                0       0                0            0           0    0   \n",
      "1                0       0                0            0           0    0   \n",
      "2                0       0                0            0           0    0   \n",
      "3                0       0                0            0           0    0   \n",
      "4                0       0                0            0           0    0   \n",
      "\n",
      "              Instrument  \n",
      "0  Orbitrap Fusion Lumos  \n",
      "1  Orbitrap Fusion Lumos  \n",
      "2  Orbitrap Fusion Lumos  \n",
      "3  Orbitrap Fusion Lumos  \n",
      "4  Orbitrap Fusion Lumos  \n"
     ]
    }
   ],
   "execution_count": 17
  },
  {
   "metadata": {
    "ExecuteTime": {
     "end_time": "2025-05-16T08:32:12.865046Z",
     "start_time": "2025-05-16T08:32:05.111855Z"
    }
   },
   "cell_type": "code",
   "source": [
    "import pandas as pd\n",
    "\n",
    "tdauditor_topfd = pd.read_csv('tdauditor_topfd_with_instrument.tsv', delimiter=\"\\t\")\n",
    "tdauditor_flash = pd.read_csv('tdauditor_flashdeconv_with_instrument.tsv', delimiter=\"\\t\")\n",
    "\n"
   ],
   "id": "a14297e7bfb69921",
   "outputs": [
    {
     "name": "stderr",
     "output_type": "stream",
     "text": [
      "/var/folders/j6/_f4gqc7j33nb2dzqnzm9w2w00000gn/T/ipykernel_75328/2465501291.py:3: DtypeWarning: Columns (18) have mixed types. Specify dtype option on import or set low_memory=False.\n",
      "  tdauditor_topfd = pd.read_csv('tdauditor_topfd_with_instrument.tsv', delimiter=\"\\t\")\n",
      "/var/folders/j6/_f4gqc7j33nb2dzqnzm9w2w00000gn/T/ipykernel_75328/2465501291.py:4: DtypeWarning: Columns (18) have mixed types. Specify dtype option on import or set low_memory=False.\n",
      "  tdauditor_flash = pd.read_csv('tdauditor_flashdeconv_with_instrument.tsv', delimiter=\"\\t\")\n"
     ]
    }
   ],
   "execution_count": 3
  },
  {
   "metadata": {
    "ExecuteTime": {
     "end_time": "2025-05-16T08:32:12.885782Z",
     "start_time": "2025-05-16T08:32:12.867662Z"
    }
   },
   "cell_type": "code",
   "source": "tdauditor_topfd.head()",
   "id": "dde916c60ca2f586",
   "outputs": [
    {
     "data": {
      "text/plain": [
       "                                     SourceFile  \\\n",
       "0  06102019_RVG262_PLRPS_FAIMS_CV_Neg100_F1_CD3   \n",
       "1  06102019_RVG262_PLRPS_FAIMS_CV_Neg100_F1_CD3   \n",
       "2  06102019_RVG262_PLRPS_FAIMS_CV_Neg100_F1_CD3   \n",
       "3  06102019_RVG262_PLRPS_FAIMS_CV_Neg100_F1_CD3   \n",
       "4  06102019_RVG262_PLRPS_FAIMS_CV_Neg100_F1_CD3   \n",
       "\n",
       "                                       NativeID  ScanNumber  ScanStartTime  \\\n",
       "0   controllerType=0 controllerNumber=1 scan=21          21       0.681169   \n",
       "1   controllerType=0 controllerNumber=1 scan=83          83       2.624363   \n",
       "2   controllerType=0 controllerNumber=1 scan=96          96       3.050480   \n",
       "3  controllerType=0 controllerNumber=1 scan=112         112       3.569240   \n",
       "4  controllerType=0 controllerNumber=1 scan=202         202       6.378995   \n",
       "\n",
       "  mzMLDissociation  MatchedToDeconvolution  mzMLPreZ  mzMLSelectedIon  \\\n",
       "0              HCD                    True         1       775.334290   \n",
       "1              HCD                    True         3       775.301880   \n",
       "2              HCD                    True         2       731.344910   \n",
       "3              HCD                    True         1      1093.244995   \n",
       "4              HCD                    True         2       775.260071   \n",
       "\n",
       "   mzMLMassResolvingPower  DeconvPreZ  DeconvPreMass  mzMLPeakCount  \\\n",
       "0                   60000           1      774.32859             14   \n",
       "1                   60000           3     2321.88400             21   \n",
       "2                   60000           1      730.33763             19   \n",
       "3                   60000           1     1092.23772             19   \n",
       "4                   60000           2     1548.50361             22   \n",
       "\n",
       "   DeconvPeakCount  Degree  ComponentNumber  AALinkCount  LongestTag  hit  \\\n",
       "0                0       0                0            0           0    0   \n",
       "1                0       0                0            0           0    0   \n",
       "2                0       0                0            0           0    0   \n",
       "3                0       0                0            0           0    0   \n",
       "4                0       0                0            0           0    0   \n",
       "\n",
       "              Instrument  \n",
       "0  Orbitrap Fusion Lumos  \n",
       "1  Orbitrap Fusion Lumos  \n",
       "2  Orbitrap Fusion Lumos  \n",
       "3  Orbitrap Fusion Lumos  \n",
       "4  Orbitrap Fusion Lumos  "
      ],
      "text/html": [
       "<div>\n",
       "<style scoped>\n",
       "    .dataframe tbody tr th:only-of-type {\n",
       "        vertical-align: middle;\n",
       "    }\n",
       "\n",
       "    .dataframe tbody tr th {\n",
       "        vertical-align: top;\n",
       "    }\n",
       "\n",
       "    .dataframe thead th {\n",
       "        text-align: right;\n",
       "    }\n",
       "</style>\n",
       "<table border=\"1\" class=\"dataframe\">\n",
       "  <thead>\n",
       "    <tr style=\"text-align: right;\">\n",
       "      <th></th>\n",
       "      <th>SourceFile</th>\n",
       "      <th>NativeID</th>\n",
       "      <th>ScanNumber</th>\n",
       "      <th>ScanStartTime</th>\n",
       "      <th>mzMLDissociation</th>\n",
       "      <th>MatchedToDeconvolution</th>\n",
       "      <th>mzMLPreZ</th>\n",
       "      <th>mzMLSelectedIon</th>\n",
       "      <th>mzMLMassResolvingPower</th>\n",
       "      <th>DeconvPreZ</th>\n",
       "      <th>DeconvPreMass</th>\n",
       "      <th>mzMLPeakCount</th>\n",
       "      <th>DeconvPeakCount</th>\n",
       "      <th>Degree</th>\n",
       "      <th>ComponentNumber</th>\n",
       "      <th>AALinkCount</th>\n",
       "      <th>LongestTag</th>\n",
       "      <th>hit</th>\n",
       "      <th>Instrument</th>\n",
       "    </tr>\n",
       "  </thead>\n",
       "  <tbody>\n",
       "    <tr>\n",
       "      <th>0</th>\n",
       "      <td>06102019_RVG262_PLRPS_FAIMS_CV_Neg100_F1_CD3</td>\n",
       "      <td>controllerType=0 controllerNumber=1 scan=21</td>\n",
       "      <td>21</td>\n",
       "      <td>0.681169</td>\n",
       "      <td>HCD</td>\n",
       "      <td>True</td>\n",
       "      <td>1</td>\n",
       "      <td>775.334290</td>\n",
       "      <td>60000</td>\n",
       "      <td>1</td>\n",
       "      <td>774.32859</td>\n",
       "      <td>14</td>\n",
       "      <td>0</td>\n",
       "      <td>0</td>\n",
       "      <td>0</td>\n",
       "      <td>0</td>\n",
       "      <td>0</td>\n",
       "      <td>0</td>\n",
       "      <td>Orbitrap Fusion Lumos</td>\n",
       "    </tr>\n",
       "    <tr>\n",
       "      <th>1</th>\n",
       "      <td>06102019_RVG262_PLRPS_FAIMS_CV_Neg100_F1_CD3</td>\n",
       "      <td>controllerType=0 controllerNumber=1 scan=83</td>\n",
       "      <td>83</td>\n",
       "      <td>2.624363</td>\n",
       "      <td>HCD</td>\n",
       "      <td>True</td>\n",
       "      <td>3</td>\n",
       "      <td>775.301880</td>\n",
       "      <td>60000</td>\n",
       "      <td>3</td>\n",
       "      <td>2321.88400</td>\n",
       "      <td>21</td>\n",
       "      <td>0</td>\n",
       "      <td>0</td>\n",
       "      <td>0</td>\n",
       "      <td>0</td>\n",
       "      <td>0</td>\n",
       "      <td>0</td>\n",
       "      <td>Orbitrap Fusion Lumos</td>\n",
       "    </tr>\n",
       "    <tr>\n",
       "      <th>2</th>\n",
       "      <td>06102019_RVG262_PLRPS_FAIMS_CV_Neg100_F1_CD3</td>\n",
       "      <td>controllerType=0 controllerNumber=1 scan=96</td>\n",
       "      <td>96</td>\n",
       "      <td>3.050480</td>\n",
       "      <td>HCD</td>\n",
       "      <td>True</td>\n",
       "      <td>2</td>\n",
       "      <td>731.344910</td>\n",
       "      <td>60000</td>\n",
       "      <td>1</td>\n",
       "      <td>730.33763</td>\n",
       "      <td>19</td>\n",
       "      <td>0</td>\n",
       "      <td>0</td>\n",
       "      <td>0</td>\n",
       "      <td>0</td>\n",
       "      <td>0</td>\n",
       "      <td>0</td>\n",
       "      <td>Orbitrap Fusion Lumos</td>\n",
       "    </tr>\n",
       "    <tr>\n",
       "      <th>3</th>\n",
       "      <td>06102019_RVG262_PLRPS_FAIMS_CV_Neg100_F1_CD3</td>\n",
       "      <td>controllerType=0 controllerNumber=1 scan=112</td>\n",
       "      <td>112</td>\n",
       "      <td>3.569240</td>\n",
       "      <td>HCD</td>\n",
       "      <td>True</td>\n",
       "      <td>1</td>\n",
       "      <td>1093.244995</td>\n",
       "      <td>60000</td>\n",
       "      <td>1</td>\n",
       "      <td>1092.23772</td>\n",
       "      <td>19</td>\n",
       "      <td>0</td>\n",
       "      <td>0</td>\n",
       "      <td>0</td>\n",
       "      <td>0</td>\n",
       "      <td>0</td>\n",
       "      <td>0</td>\n",
       "      <td>Orbitrap Fusion Lumos</td>\n",
       "    </tr>\n",
       "    <tr>\n",
       "      <th>4</th>\n",
       "      <td>06102019_RVG262_PLRPS_FAIMS_CV_Neg100_F1_CD3</td>\n",
       "      <td>controllerType=0 controllerNumber=1 scan=202</td>\n",
       "      <td>202</td>\n",
       "      <td>6.378995</td>\n",
       "      <td>HCD</td>\n",
       "      <td>True</td>\n",
       "      <td>2</td>\n",
       "      <td>775.260071</td>\n",
       "      <td>60000</td>\n",
       "      <td>2</td>\n",
       "      <td>1548.50361</td>\n",
       "      <td>22</td>\n",
       "      <td>0</td>\n",
       "      <td>0</td>\n",
       "      <td>0</td>\n",
       "      <td>0</td>\n",
       "      <td>0</td>\n",
       "      <td>0</td>\n",
       "      <td>Orbitrap Fusion Lumos</td>\n",
       "    </tr>\n",
       "  </tbody>\n",
       "</table>\n",
       "</div>"
      ]
     },
     "execution_count": 4,
     "metadata": {},
     "output_type": "execute_result"
    }
   ],
   "execution_count": 4
  },
  {
   "metadata": {
    "ExecuteTime": {
     "end_time": "2025-05-16T08:39:01.516979Z",
     "start_time": "2025-05-16T08:39:01.246110Z"
    }
   },
   "cell_type": "code",
   "source": [
    "\n",
    "print(\"HCD =\", (tdauditor_topfd['mzMLDissociation'] == 'HCD').sum())\n",
    "print('ETD =', (tdauditor_topfd['mzMLDissociation'] == 'ETD').sum())\n",
    "print('CID =', (tdauditor_topfd['mzMLDissociation'] == 'CID').sum())"
   ],
   "id": "e84b376e385f61b5",
   "outputs": [
    {
     "name": "stdout",
     "output_type": "stream",
     "text": [
      "HCD = 2158510\n",
      "ETD = 32787\n",
      "CID = 591081\n"
     ]
    }
   ],
   "execution_count": 10
  },
  {
   "metadata": {
    "ExecuteTime": {
     "end_time": "2025-05-26T09:37:34.032541Z",
     "start_time": "2025-05-26T09:36:01.593807Z"
    }
   },
   "cell_type": "code",
   "source": [
    "import pandas as pd\n",
    "\n",
    "\n",
    "# Load the dataset\n",
    "file_path = \"20200811-Published-Identifications_Hit-Report-Sorted.xlsx\"  # Update with correct file path\n",
    "df_prsm_hit_pro = pd.read_excel(file_path)\n",
    "\n",
    "# Check the first few rows to ensure it loaded correctly\n",
    "print(df_prsm_hit_pro.head())"
   ],
   "id": "9cf5fc33e3395fca",
   "outputs": [
    {
     "name": "stdout",
     "output_type": "stream",
     "text": [
      "    HitId      PFR   Accession  \\\n",
      "0  762243    20722      P16402   \n",
      "1     122  4904212  A0A2R8Y619   \n",
      "2     176  5124760    P22626-2   \n",
      "3     184  4980577    P22626-2   \n",
      "4     206  4980587    P22626-1   \n",
      "\n",
      "                                      Description  \\\n",
      "0      Histone H1.3 (Histone H1c) (Histone H1s-2)   \n",
      "1                           Histone H2B type 2-E1   \n",
      "2  Heterogeneous nuclear ribonucleoproteins A2/B1   \n",
      "3  Heterogeneous nuclear ribonucleoproteins A2/B1   \n",
      "4  Heterogeneous nuclear ribonucleoproteins A2/B1   \n",
      "\n",
      "                                            Sequence  Start Index  End Index  \\\n",
      "0  SETAPLAPTIPAPAEKTPVKKKAKKAGATAGKRKASGPPVSELITK...            2        221   \n",
      "1               TSREVQTAVRLLLPGELAKHAVSEGTKAVTKYTSSK           87        122   \n",
      "2  DDHDPVDKIVLQKYHTINGHNAEVRKALSRQEMQEVQSSRSGRGGN...          149        341   \n",
      "3  DDHDPVDKIVLQKYHTINGHNAEVRKALSRQEMQEVQSSRSGRGGN...          149        341   \n",
      "4  DHDPVDKIVLQKYHTINGHNAEVRKALSRQEMQEVQSSRSGRGGNF...          162        353   \n",
      "\n",
      "   Sequence Length                                      Modifications  \\\n",
      "0              220                   alpha-amino acetylated residue@N   \n",
      "1               36                        omega-N-methyl-L-arginine@3   \n",
      "2              193                 asymmetric dimethyl-L-arginine@106   \n",
      "3              193                 asymmetric dimethyl-L-arginine@106   \n",
      "4              192  O-phospho-L-serine@163, O4'-phospho-L-tyrosine...   \n",
      "\n",
      "              Modification Codes  ... Observed Precursor Mass  \\\n",
      "0                            NaN  ...              22247.2989   \n",
      "1                   PSI-MOD:78@2  ...               3869.1426   \n",
      "2                 PSI-MOD:77@105  ...              19123.4206   \n",
      "3                 PSI-MOD:77@105  ...              19107.3574   \n",
      "4  PSI-MOD:46@162|PSI-MOD:48@169  ...              19124.4684   \n",
      "\n",
      "   Precursor Scans  Fragment Scans  Average Retention Time Global Q-value  \\\n",
      "0          259;262             261               12.052137   7.578565e-03   \n",
      "1          265;268             266               12.329297   1.439050e-16   \n",
      "2          265;268             267               12.329297   1.538500e-06   \n",
      "3          274;277             275               12.685473   2.727400e-06   \n",
      "4          274;277             275               12.685473   5.283354e-03   \n",
      "\n",
      "        P-score       E-value     C-score % Cleavages  Proteoform Level  \n",
      "0  1.737607e-06  2.642454e+01  344.686426    0.018265                 1  \n",
      "1  4.452645e-78  1.840388e-70  199.483803    0.628571                 1  \n",
      "2  1.000563e-28  4.135573e-21  316.587942    0.098958                 1  \n",
      "3  6.335479e-27  2.618610e-19  454.533334    0.083333                 1  \n",
      "4  1.483069e-13  6.129889e-06    0.000000    0.047120                 4  \n",
      "\n",
      "[5 rows x 26 columns]\n"
     ]
    }
   ],
   "execution_count": 3
  },
  {
   "metadata": {
    "ExecuteTime": {
     "end_time": "2025-05-26T09:38:38.041673Z",
     "start_time": "2025-05-26T09:38:34.353898Z"
    }
   },
   "cell_type": "code",
   "source": [
    "# Load the TDAuditor dataset\n",
    "tdauditor_pro_file_path = \"/Users/user/PycharmProjects/TDAuditor/20250430-TDAuditor-TSVs-TopFD-FLASH-PSPDXtract/TDAuditor-PSPDXtract-byMSn.tsv\"  # Update with actual path\n",
    "tdauditor_pro = pd.read_csv(tdauditor_pro_file_path, delimiter=\"\\t\")\n",
    "print(tdauditor_pro.head())\n",
    "# Extract the filenames from TDAuditor\n",
    "tdauditor_filenames = set(tdauditor_pro[\"SourceFile\"])  # Update column name\n",
    "print(len(tdauditor_filenames))"
   ],
   "id": "23d6badb7d5da5f2",
   "outputs": [
    {
     "name": "stdout",
     "output_type": "stream",
     "text": [
      "                                     SourceFile  \\\n",
      "0  06102019_RVG262_PLRPS_FAIMS_CV_Neg100_F1_CD3   \n",
      "1  06102019_RVG262_PLRPS_FAIMS_CV_Neg100_F1_CD3   \n",
      "2  06102019_RVG262_PLRPS_FAIMS_CV_Neg100_F1_CD3   \n",
      "3  06102019_RVG262_PLRPS_FAIMS_CV_Neg100_F1_CD3   \n",
      "4  06102019_RVG262_PLRPS_FAIMS_CV_Neg100_F1_CD3   \n",
      "\n",
      "                                       NativeID  ScanNumber  ScanStartTime  \\\n",
      "0   controllerType=0 controllerNumber=1 scan=21          21       0.681169   \n",
      "1   controllerType=0 controllerNumber=1 scan=83          83       2.624363   \n",
      "2   controllerType=0 controllerNumber=1 scan=96          96       3.050480   \n",
      "3  controllerType=0 controllerNumber=1 scan=112         112       3.569240   \n",
      "4  controllerType=0 controllerNumber=1 scan=202         202       6.378995   \n",
      "\n",
      "  mzMLDissociation  MatchedToDeconvolution  mzMLPreZ  mzMLSelectedIon  \\\n",
      "0              HCD                   False         1       775.334290   \n",
      "1              HCD                   False         3       775.301880   \n",
      "2              HCD                   False         2       731.344910   \n",
      "3              HCD                   False         1      1093.244995   \n",
      "4              HCD                   False         2       775.260071   \n",
      "\n",
      "   mzMLMassResolvingPower  DeconvPreZ  DeconvPreMass  mzMLPeakCount  \\\n",
      "0                   60000           0            NaN             14   \n",
      "1                   60000           0            NaN             21   \n",
      "2                   60000           0            NaN             19   \n",
      "3                   60000           0            NaN             19   \n",
      "4                   60000           0            NaN             22   \n",
      "\n",
      "   DeconvPeakCount  Degree  ComponentNumber  AALinkCount  LongestTag  \n",
      "0                0       0                0            0           0  \n",
      "1                0       0                0            0           0  \n",
      "2                0       0                0            0           0  \n",
      "3                0       0                0            0           0  \n",
      "4                0       0                0            0           0  \n",
      "1551\n"
     ]
    }
   ],
   "execution_count": 5
  },
  {
   "metadata": {
    "ExecuteTime": {
     "end_time": "2025-05-26T09:47:30.867352Z",
     "start_time": "2025-05-26T09:47:15.087373Z"
    }
   },
   "cell_type": "code",
   "source": [
    "def clean_filename(filename):\n",
    "    # Remove '_ms2.msalign'\n",
    "    filename = filename.replace(\".raw\", \"\")\n",
    "    # Replace '+' with '_' for comparison\n",
    "    filename = filename.replace(\"+\", \"_\")\n",
    "\n",
    "    # Ensure the filename matches the closest TDAuditor entry\n",
    "    for tdauditor_file in tdauditor_filenames:\n",
    "        if tdauditor_file in filename:\n",
    "            return tdauditor_file  # Replace with the correct match\n",
    "\n",
    "    return filename  # Return the cleaned filename if no match found\n",
    "\n",
    "\n",
    "df_prsm_hit_pro[\"Cleaned SourceFile\"] = df_prsm_hit_pro[\"File Name\"].apply(clean_filename)\n",
    "\n"
   ],
   "id": "9a598a19d008b68",
   "outputs": [],
   "execution_count": 10
  },
  {
   "metadata": {
    "ExecuteTime": {
     "end_time": "2025-05-26T09:47:37.636376Z",
     "start_time": "2025-05-26T09:47:37.590077Z"
    }
   },
   "cell_type": "code",
   "source": [
    "\n",
    "unmatched_filenames = set(df_prsm_hit_pro[\"Cleaned SourceFile\"]) - tdauditor_filenames\n",
    "print(\"Unmatched Filenames:\", unmatched_filenames)\n"
   ],
   "id": "ee261fc7e7df53dd",
   "outputs": [
    {
     "name": "stdout",
     "output_type": "stream",
     "text": [
      "Unmatched Filenames: set()\n"
     ]
    }
   ],
   "execution_count": 11
  },
  {
   "metadata": {
    "ExecuteTime": {
     "end_time": "2025-05-26T09:51:06.360816Z",
     "start_time": "2025-05-26T09:50:52.513927Z"
    }
   },
   "cell_type": "code",
   "source": [
    "# Ensure scan numbers are treated as strings\n",
    "df_prsm_hit_pro[\"Fragment Scans\"] = df_prsm_hit_pro[\"Fragment Scans\"].astype(str)\n",
    "tdauditor_pro[\"ScanNumber\"] = tdauditor_pro[\"ScanNumber\"].astype(str)\n",
    "\n",
    "# Create a set of matching (SourceFile, Scan) pairs from df_prsm_hit\n",
    "matching_pairs = set(zip(df_prsm_hit_pro[\"Cleaned SourceFile\"], df_prsm_hit_pro[\"Fragment Scans\"]))\n",
    "\n",
    "# Add the hit column to TDAuditor\n",
    "tdauditor_pro[\"hit\"] = tdauditor_pro.apply(\n",
    "    lambda row: 1 if (row[\"SourceFile\"], row[\"ScanNumber\"]) in matching_pairs else 0,\n",
    "    axis=1\n",
    ")\n",
    "\n",
    "# Save the updated file\n",
    "output_path = \"pro_td_auditor_hit_column.tsv\""
   ],
   "id": "a339dfe3572ccdc5",
   "outputs": [],
   "execution_count": 13
  },
  {
   "metadata": {
    "ExecuteTime": {
     "end_time": "2025-05-26T09:51:51.354034Z",
     "start_time": "2025-05-26T09:51:51.324905Z"
    }
   },
   "cell_type": "code",
   "source": [
    "print((tdauditor_pro['hit'] == 1).sum())\n",
    "print((tdauditor_pro['hit'] == 0).sum())"
   ],
   "id": "1f3eacf089587f1a",
   "outputs": [
    {
     "name": "stdout",
     "output_type": "stream",
     "text": [
      "364242\n",
      "2418136\n"
     ]
    }
   ],
   "execution_count": 14
  },
  {
   "metadata": {
    "ExecuteTime": {
     "end_time": "2025-05-26T09:52:10.430592Z",
     "start_time": "2025-05-26T09:51:58.192030Z"
    }
   },
   "cell_type": "code",
   "source": "tdauditor_pro.to_csv(output_path, sep=\"\\t\", index=False)",
   "id": "d04a0642390072f2",
   "outputs": [],
   "execution_count": 15
  },
  {
   "metadata": {
    "ExecuteTime": {
     "end_time": "2025-05-26T09:54:36.754820Z",
     "start_time": "2025-05-26T09:54:20.447705Z"
    }
   },
   "cell_type": "code",
   "source": [
    "import pandas as pd\n",
    "\n",
    "# Load the instrument type file\n",
    "instrument_df_pro = pd.read_csv(\"/Users/user/PycharmProjects/TDAuditor/20250430-TDAuditor-TSVs-TopFD-FLASH-PSPDXtract/TDAuditor-PSPDXtract-byRun.tsv\", delimiter=\"\\t\")  \n",
    "\n",
    "instrument_df_pro = instrument_df_pro[[\"SourceFile\", \"Instrument\"]]\n",
    "\n",
    "# Load the updated td_auditor files\n",
    "td_auditor_pro = pd.read_csv(\"pro_td_auditor_hit_column.tsv\", delimiter=\"\\t\")\n",
    "\n",
    "# Merge instrument type with both datasets\n",
    "td_auditor_pro = td_auditor_pro.merge(instrument_df_pro, on=\"SourceFile\", how=\"left\")\n",
    "\n",
    "# Save updated files if needed\n",
    "td_auditor_pro.to_csv(\"tdauditor_pro_with_instrument.tsv\", sep=\"\\t\", index=False)\n",
    "\n",
    "# Check if everything looks good\n",
    "print(td_auditor_pro.head())\n"
   ],
   "id": "160dbe99a5f90d58",
   "outputs": [
    {
     "name": "stdout",
     "output_type": "stream",
     "text": [
      "                                     SourceFile  \\\n",
      "0  06102019_RVG262_PLRPS_FAIMS_CV_Neg100_F1_CD3   \n",
      "1  06102019_RVG262_PLRPS_FAIMS_CV_Neg100_F1_CD3   \n",
      "2  06102019_RVG262_PLRPS_FAIMS_CV_Neg100_F1_CD3   \n",
      "3  06102019_RVG262_PLRPS_FAIMS_CV_Neg100_F1_CD3   \n",
      "4  06102019_RVG262_PLRPS_FAIMS_CV_Neg100_F1_CD3   \n",
      "\n",
      "                                       NativeID  ScanNumber  ScanStartTime  \\\n",
      "0   controllerType=0 controllerNumber=1 scan=21          21       0.681169   \n",
      "1   controllerType=0 controllerNumber=1 scan=83          83       2.624363   \n",
      "2   controllerType=0 controllerNumber=1 scan=96          96       3.050480   \n",
      "3  controllerType=0 controllerNumber=1 scan=112         112       3.569240   \n",
      "4  controllerType=0 controllerNumber=1 scan=202         202       6.378995   \n",
      "\n",
      "  mzMLDissociation  MatchedToDeconvolution  mzMLPreZ  mzMLSelectedIon  \\\n",
      "0              HCD                   False         1       775.334290   \n",
      "1              HCD                   False         3       775.301880   \n",
      "2              HCD                   False         2       731.344910   \n",
      "3              HCD                   False         1      1093.244995   \n",
      "4              HCD                   False         2       775.260071   \n",
      "\n",
      "   mzMLMassResolvingPower  DeconvPreZ  DeconvPreMass  mzMLPeakCount  \\\n",
      "0                   60000           0            NaN             14   \n",
      "1                   60000           0            NaN             21   \n",
      "2                   60000           0            NaN             19   \n",
      "3                   60000           0            NaN             19   \n",
      "4                   60000           0            NaN             22   \n",
      "\n",
      "   DeconvPeakCount  Degree  ComponentNumber  AALinkCount  LongestTag  hit  \\\n",
      "0                0       0                0            0           0    0   \n",
      "1                0       0                0            0           0    0   \n",
      "2                0       0                0            0           0    0   \n",
      "3                0       0                0            0           0    0   \n",
      "4                0       0                0            0           0    0   \n",
      "\n",
      "              Instrument  \n",
      "0  Orbitrap Fusion Lumos  \n",
      "1  Orbitrap Fusion Lumos  \n",
      "2  Orbitrap Fusion Lumos  \n",
      "3  Orbitrap Fusion Lumos  \n",
      "4  Orbitrap Fusion Lumos  \n"
     ]
    }
   ],
   "execution_count": 16
  },
  {
   "metadata": {
    "ExecuteTime": {
     "end_time": "2025-06-04T08:27:52.308275Z",
     "start_time": "2025-06-04T08:27:48.790490Z"
    }
   },
   "cell_type": "code",
   "source": [
    "import pandas as pd\n",
    "top = pd.read_csv(\"tdauditor_topfd_with_instrument.tsv\", sep=\"\\t\")\n",
    "print(top)"
   ],
   "id": "4f5f8b51edccd07c",
   "outputs": [
    {
     "name": "stderr",
     "output_type": "stream",
     "text": [
      "/var/folders/j6/_f4gqc7j33nb2dzqnzm9w2w00000gn/T/ipykernel_67291/3731241984.py:2: DtypeWarning: Columns (18) have mixed types. Specify dtype option on import or set low_memory=False.\n",
      "  top = pd.read_csv(\"tdauditor_topfd_with_instrument.tsv\", sep=\"\\t\")\n"
     ]
    },
    {
     "name": "stdout",
     "output_type": "stream",
     "text": [
      "                                           SourceFile  \\\n",
      "0        06102019_RVG262_PLRPS_FAIMS_CV_Neg100_F1_CD3   \n",
      "1        06102019_RVG262_PLRPS_FAIMS_CV_Neg100_F1_CD3   \n",
      "2        06102019_RVG262_PLRPS_FAIMS_CV_Neg100_F1_CD3   \n",
      "3        06102019_RVG262_PLRPS_FAIMS_CV_Neg100_F1_CD3   \n",
      "4        06102019_RVG262_PLRPS_FAIMS_CV_Neg100_F1_CD3   \n",
      "...                                               ...   \n",
      "2782373             RM_20190929_cyto_eosinophil_F4_02   \n",
      "2782374             RM_20190929_cyto_eosinophil_F4_02   \n",
      "2782375             RM_20190929_cyto_eosinophil_F4_02   \n",
      "2782376             RM_20190929_cyto_eosinophil_F4_02   \n",
      "2782377             RM_20190929_cyto_eosinophil_F4_02   \n",
      "\n",
      "                                              NativeID  ScanNumber  \\\n",
      "0          controllerType=0 controllerNumber=1 scan=21          21   \n",
      "1          controllerType=0 controllerNumber=1 scan=83          83   \n",
      "2          controllerType=0 controllerNumber=1 scan=96          96   \n",
      "3         controllerType=0 controllerNumber=1 scan=112         112   \n",
      "4         controllerType=0 controllerNumber=1 scan=202         202   \n",
      "...                                                ...         ...   \n",
      "2782373  controllerType=0 controllerNumber=1 scan=2284        2284   \n",
      "2782374  controllerType=0 controllerNumber=1 scan=2290        2290   \n",
      "2782375  controllerType=0 controllerNumber=1 scan=2292        2292   \n",
      "2782376  controllerType=0 controllerNumber=1 scan=2294        2294   \n",
      "2782377  controllerType=0 controllerNumber=1 scan=2296        2296   \n",
      "\n",
      "         ScanStartTime mzMLDissociation  MatchedToDeconvolution  mzMLPreZ  \\\n",
      "0             0.681169              HCD                    True         1   \n",
      "1             2.624363              HCD                    True         3   \n",
      "2             3.050480              HCD                    True         2   \n",
      "3             3.569240              HCD                    True         1   \n",
      "4             6.378995              HCD                    True         2   \n",
      "...                ...              ...                     ...       ...   \n",
      "2782373     120.226456              CID                    True         0   \n",
      "2782374     120.664630              CID                    True         0   \n",
      "2782375     120.791140              CID                    True         0   \n",
      "2782376     120.917740              CID                    True         0   \n",
      "2782377     121.044334              CID                    True         0   \n",
      "\n",
      "         mzMLSelectedIon  mzMLMassResolvingPower  DeconvPreZ  DeconvPreMass  \\\n",
      "0             775.334290                   60000           1      774.32859   \n",
      "1             775.301880                   60000           3     2321.88400   \n",
      "2             731.344910                   60000           1      730.33763   \n",
      "3            1093.244995                   60000           1     1092.23772   \n",
      "4             775.260071                   60000           2     1548.50361   \n",
      "...                  ...                     ...         ...            ...   \n",
      "2782373       752.963196                   50000           1      751.96621   \n",
      "2782374       959.709473                   50000           1      958.70185   \n",
      "2782375      1148.534790                   50000           1     1147.52773   \n",
      "2782376       758.317078                   50000           1      751.96621   \n",
      "2782377      1079.695312                   50000           1     1078.68862   \n",
      "\n",
      "         mzMLPeakCount  DeconvPeakCount  Degree  ComponentNumber  AALinkCount  \\\n",
      "0                   14                0       0                0            0   \n",
      "1                   21                0       0                0            0   \n",
      "2                   19                0       0                0            0   \n",
      "3                   19                0       0                0            0   \n",
      "4                   22                0       0                0            0   \n",
      "...                ...              ...     ...              ...          ...   \n",
      "2782373            366                0       0                0            0   \n",
      "2782374            555                1       0             1298            0   \n",
      "2782375            466                1       0             1299            0   \n",
      "2782376            437                0       0                0            0   \n",
      "2782377            536                0       0                0            0   \n",
      "\n",
      "         LongestTag  hit             Instrument  \n",
      "0                 0    0  Orbitrap Fusion Lumos  \n",
      "1                 0    0  Orbitrap Fusion Lumos  \n",
      "2                 0    0  Orbitrap Fusion Lumos  \n",
      "3                 0    0  Orbitrap Fusion Lumos  \n",
      "4                 0    0  Orbitrap Fusion Lumos  \n",
      "...             ...  ...                    ...  \n",
      "2782373           0    0           LTQ FT Ultra  \n",
      "2782374           0    0           LTQ FT Ultra  \n",
      "2782375           0    0           LTQ FT Ultra  \n",
      "2782376           0    0           LTQ FT Ultra  \n",
      "2782377           0    0           LTQ FT Ultra  \n",
      "\n",
      "[2782378 rows x 19 columns]\n"
     ]
    }
   ],
   "execution_count": 3
  },
  {
   "metadata": {
    "ExecuteTime": {
     "end_time": "2025-06-04T08:32:57.677631Z",
     "start_time": "2025-06-04T08:32:53.925957Z"
    }
   },
   "cell_type": "code",
   "source": [
    "pro = pd.read_csv(\"tdauditor_pro_with_instrument.tsv\", sep=\"\\t\")\n",
    "\n",
    "pro['Instrument'] = pro['Instrument'].fillna('Orbitrap Eclipse')\n",
    "# Print total samples per instrument\n",
    "print(pro['Instrument'].value_counts())\n"
   ],
   "id": "2593ab7d19242338",
   "outputs": [
    {
     "name": "stderr",
     "output_type": "stream",
     "text": [
      "/var/folders/j6/_f4gqc7j33nb2dzqnzm9w2w00000gn/T/ipykernel_67291/2894155158.py:1: DtypeWarning: Columns (18) have mixed types. Specify dtype option on import or set low_memory=False.\n",
      "  pro = pd.read_csv(\"tdauditor_pro_with_instrument.tsv\", sep=\"\\t\")\n"
     ]
    },
    {
     "name": "stdout",
     "output_type": "stream",
     "text": [
      "Instrument\n",
      "Orbitrap Fusion Lumos    1614586\n",
      "LTQ FT Ultra              623868\n",
      "Orbitrap Eclipse          457222\n",
      "LTQ Orbitrap Elite         75342\n",
      "Q Exactive                 11360\n",
      "Name: count, dtype: int64\n"
     ]
    }
   ],
   "execution_count": 9
  },
  {
   "metadata": {
    "ExecuteTime": {
     "end_time": "2025-06-04T08:33:22.613063Z",
     "start_time": "2025-06-04T08:33:18.818313Z"
    }
   },
   "cell_type": "code",
   "source": [
    "\n",
    "flash = pd.read_csv(\"tdauditor_flashdeconv_with_instrument.tsv\", sep=\"\\t\")\n",
    "\n",
    "print(flash['mzMLDissociation'].value_counts())\n"
   ],
   "id": "8e96cc8a1687307b",
   "outputs": [
    {
     "name": "stderr",
     "output_type": "stream",
     "text": [
      "/var/folders/j6/_f4gqc7j33nb2dzqnzm9w2w00000gn/T/ipykernel_67291/746429999.py:1: DtypeWarning: Columns (18) have mixed types. Specify dtype option on import or set low_memory=False.\n",
      "  flash = pd.read_csv(\"tdauditor_flashdeconv_with_instrument.tsv\", sep=\"\\t\")\n"
     ]
    },
    {
     "name": "stdout",
     "output_type": "stream",
     "text": [
      "mzMLDissociation\n",
      "HCD    2158510\n",
      "CID     591081\n",
      "ETD      32787\n",
      "Name: count, dtype: int64\n"
     ]
    }
   ],
   "execution_count": 10
  },
  {
   "metadata": {
    "ExecuteTime": {
     "end_time": "2025-06-04T08:59:29.334017Z",
     "start_time": "2025-06-04T08:59:28.406038Z"
    }
   },
   "cell_type": "code",
   "source": [
    "# Count number of hits (Hit == 1) per instrument\n",
    "hit_counts = flash[flash['hit'] == 1].groupby('mzMLDissociation').size()\n",
    "\n",
    "print(hit_counts)\n"
   ],
   "id": "bc5ac1b5ede66647",
   "outputs": [
    {
     "name": "stdout",
     "output_type": "stream",
     "text": [
      "mzMLDissociation\n",
      "CID    112595\n",
      "ETD      4593\n",
      "HCD    607486\n",
      "dtype: int64\n"
     ]
    }
   ],
   "execution_count": 17
  },
  {
   "metadata": {
    "ExecuteTime": {
     "end_time": "2025-06-04T08:59:30.649629Z",
     "start_time": "2025-06-04T08:59:30.430641Z"
    }
   },
   "cell_type": "code",
   "source": [
    "# Count number of hits (Hit == 1) per instrument\n",
    "hit_counts_p = pro[pro['hit'] == 1].groupby('mzMLDissociation').size()\n",
    "\n",
    "print(hit_counts_p)\n",
    "\n",
    "\n"
   ],
   "id": "5651d5539617adb6",
   "outputs": [
    {
     "name": "stdout",
     "output_type": "stream",
     "text": [
      "mzMLDissociation\n",
      "CID     96491\n",
      "ETD      3511\n",
      "HCD    264240\n",
      "dtype: int64\n"
     ]
    }
   ],
   "execution_count": 18
  },
  {
   "metadata": {
    "ExecuteTime": {
     "end_time": "2025-06-04T08:59:31.950348Z",
     "start_time": "2025-06-04T08:59:31.687501Z"
    }
   },
   "cell_type": "code",
   "source": [
    "# Count number of hits (Hit == 1) per instrument\n",
    "hit_counts_t = top[top['hit'] == 1].groupby('mzMLDissociation').size()\n",
    "\n",
    "print(hit_counts_t)"
   ],
   "id": "357c4d647c9a0ff3",
   "outputs": [
    {
     "name": "stdout",
     "output_type": "stream",
     "text": [
      "mzMLDissociation\n",
      "CID    107383\n",
      "ETD      4589\n",
      "HCD    572777\n",
      "dtype: int64\n"
     ]
    }
   ],
   "execution_count": 19
  },
  {
   "metadata": {},
   "cell_type": "code",
   "outputs": [],
   "execution_count": null,
   "source": "",
   "id": "20c5201077b45d28"
  }
 ],
 "metadata": {
  "kernelspec": {
   "display_name": "Python 3 (ipykernel)",
   "language": "python",
   "name": "python3"
  },
  "language_info": {
   "codemirror_mode": {
    "name": "ipython",
    "version": 2
   },
   "file_extension": ".py",
   "mimetype": "text/x-python",
   "name": "python",
   "nbconvert_exporter": "python",
   "pygments_lexer": "ipython2",
   "version": "2.7.6"
  }
 },
 "nbformat": 4,
 "nbformat_minor": 5
}
